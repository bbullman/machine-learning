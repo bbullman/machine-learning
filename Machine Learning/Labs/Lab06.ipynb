{
  "cells": [
    {
      "cell_type": "markdown",
      "metadata": {
        "id": "o-RluuSBTBSj"
      },
      "source": [
        "# Learning Objectives\n",
        "- Evaluate performance of the selected model.\n",
        "- Use k-fold cross validation to compare the performance of a pair of models.\n",
        "-  Use repeated k-fold cross validation to compare the performance of a pair of models."
      ],
      "id": "o-RluuSBTBSj"
    },
    {
      "cell_type": "code",
      "execution_count": 1,
      "metadata": {
        "id": "zV21WFdCTBSk",
        "colab": {
          "base_uri": "https://localhost:8080/",
          "height": 394
        },
        "outputId": "79e236f7-0cc7-49d5-bcc6-a35deedb80cc"
      },
      "outputs": [
        {
          "output_type": "stream",
          "name": "stderr",
          "text": [
            "<ipython-input-1-d55bc6162ecb>:5: DtypeWarning: Columns (0,8,9,10,11,12,14,15,16,17,18,19,21,22,23,24,25,26,27,28,29,30,31,32,33,34,35,36,37,38,39,43,44,45,46,47,48,50,51,53,54,55,56,57,58,75,76,77,78,79,80,81,82,83,89,90,92,93,103,104,118,136,144,145,146,147,148,150,151,152,153,154,155,163,164,165,166,167,168,169,170,171,172,173,174,175,176,177,180,181,182,183,184,185,187,188,190,191,192,193,194,195,210,211,212,213,214,215,216,217,218,224,225,227,228,238,239,253,270,271,279,280,281,282,283,285,286,287,288,289,290,294,295,296,297,298,299,300,301,302,303,304,305,306,307,308,309,310,311,312,316,317,318,319,320,321,323,324,326,327,328,329,330,331,348,349,350,351,352,353,354,355,356,362,363,365,366,376,377,391,408,409,417,418,419,420,421,423,424,425,426,427,428,430,431,432,433,434,435,436,437,438,439,440,441,442,443,444,445,446,447,448,452,453,454,455,456,457,459,460,462,463,464,465,466,467,482,483,484,485,486,487,488,489,490,496,497,499,500,510,511,525,542,543,544,545,558,559,560,561,582,583,584,585,586,587,588,589) have mixed types. Specify dtype option on import or set low_memory=False.\n",
            "  data = pd.read_csv('Secom.csv')\n"
          ]
        },
        {
          "output_type": "stream",
          "name": "stdout",
          "text": [
            "<class 'pandas.core.frame.DataFrame'>\n",
            "RangeIndex: 1567 entries, 0 to 1566\n",
            "Columns: 591 entries, Sensor 1 to Target\n",
            "dtypes: float64(122), int64(1), object(468)\n",
            "memory usage: 7.1+ MB\n",
            "None\n"
          ]
        },
        {
          "output_type": "execute_result",
          "data": {
            "text/plain": [
              "  Sensor 1 Sensor 2   Sensor 3   Sensor 4 Sensor 5 Sensor 6  Sensor 7  \\\n",
              "0  3030.93     2564  2187.7333  1411.1265   1.3602      100   97.6133   \n",
              "1  3095.78  2465.14  2230.4222  1463.6606   0.8294      100  102.3433   \n",
              "2  2932.61  2559.94  2186.4111  1698.0172   1.5102      100   95.4878   \n",
              "3  2988.72   2479.9  2199.0333   909.7926   1.3204      100  104.2367   \n",
              "4  3032.24  2502.87  2233.3667    1326.52   1.5334      100  100.3967   \n",
              "\n",
              "  Sensor 8 Sensor 9 Sensor 10  ... Sensor 582 Sensor 583 Sensor 584  \\\n",
              "0   0.1242   1.5005    0.0162  ...          !     0.5005     0.0118   \n",
              "1   0.1247   1.4966   -0.0005  ...   208.2045     0.5019     0.0223   \n",
              "2   0.1241   1.4436    0.0041  ...    82.8602     0.4958     0.0157   \n",
              "3   0.1217   1.4882   -0.0124  ...    73.8432      0.499     0.0103   \n",
              "4   0.1235   1.5031   -0.0031  ...          !       0.48     0.4766   \n",
              "\n",
              "   Sensor 585 Sensor 586 Sensor 587 Sensor 588 Sensor 589 Sensor 590 Target  \n",
              "0      0.0035      2.363          !          !          !          !      1  \n",
              "1      0.0055     4.4447     0.0096     0.0201      0.006   208.2045      1  \n",
              "2      0.0039     3.1745     0.0584     0.0484     0.0148    82.8602      0  \n",
              "3      0.0025     2.0544     0.0202     0.0149     0.0044    73.8432      1  \n",
              "4      0.1045    99.3032     0.0202     0.0149     0.0044    73.8432      1  \n",
              "\n",
              "[5 rows x 591 columns]"
            ],
            "text/html": [
              "\n",
              "  <div id=\"df-db1da74d-6965-48ef-ad97-3ecc48b4f973\" class=\"colab-df-container\">\n",
              "    <div>\n",
              "<style scoped>\n",
              "    .dataframe tbody tr th:only-of-type {\n",
              "        vertical-align: middle;\n",
              "    }\n",
              "\n",
              "    .dataframe tbody tr th {\n",
              "        vertical-align: top;\n",
              "    }\n",
              "\n",
              "    .dataframe thead th {\n",
              "        text-align: right;\n",
              "    }\n",
              "</style>\n",
              "<table border=\"1\" class=\"dataframe\">\n",
              "  <thead>\n",
              "    <tr style=\"text-align: right;\">\n",
              "      <th></th>\n",
              "      <th>Sensor 1</th>\n",
              "      <th>Sensor 2</th>\n",
              "      <th>Sensor 3</th>\n",
              "      <th>Sensor 4</th>\n",
              "      <th>Sensor 5</th>\n",
              "      <th>Sensor 6</th>\n",
              "      <th>Sensor 7</th>\n",
              "      <th>Sensor 8</th>\n",
              "      <th>Sensor 9</th>\n",
              "      <th>Sensor 10</th>\n",
              "      <th>...</th>\n",
              "      <th>Sensor 582</th>\n",
              "      <th>Sensor 583</th>\n",
              "      <th>Sensor 584</th>\n",
              "      <th>Sensor 585</th>\n",
              "      <th>Sensor 586</th>\n",
              "      <th>Sensor 587</th>\n",
              "      <th>Sensor 588</th>\n",
              "      <th>Sensor 589</th>\n",
              "      <th>Sensor 590</th>\n",
              "      <th>Target</th>\n",
              "    </tr>\n",
              "  </thead>\n",
              "  <tbody>\n",
              "    <tr>\n",
              "      <th>0</th>\n",
              "      <td>3030.93</td>\n",
              "      <td>2564</td>\n",
              "      <td>2187.7333</td>\n",
              "      <td>1411.1265</td>\n",
              "      <td>1.3602</td>\n",
              "      <td>100</td>\n",
              "      <td>97.6133</td>\n",
              "      <td>0.1242</td>\n",
              "      <td>1.5005</td>\n",
              "      <td>0.0162</td>\n",
              "      <td>...</td>\n",
              "      <td>!</td>\n",
              "      <td>0.5005</td>\n",
              "      <td>0.0118</td>\n",
              "      <td>0.0035</td>\n",
              "      <td>2.363</td>\n",
              "      <td>!</td>\n",
              "      <td>!</td>\n",
              "      <td>!</td>\n",
              "      <td>!</td>\n",
              "      <td>1</td>\n",
              "    </tr>\n",
              "    <tr>\n",
              "      <th>1</th>\n",
              "      <td>3095.78</td>\n",
              "      <td>2465.14</td>\n",
              "      <td>2230.4222</td>\n",
              "      <td>1463.6606</td>\n",
              "      <td>0.8294</td>\n",
              "      <td>100</td>\n",
              "      <td>102.3433</td>\n",
              "      <td>0.1247</td>\n",
              "      <td>1.4966</td>\n",
              "      <td>-0.0005</td>\n",
              "      <td>...</td>\n",
              "      <td>208.2045</td>\n",
              "      <td>0.5019</td>\n",
              "      <td>0.0223</td>\n",
              "      <td>0.0055</td>\n",
              "      <td>4.4447</td>\n",
              "      <td>0.0096</td>\n",
              "      <td>0.0201</td>\n",
              "      <td>0.006</td>\n",
              "      <td>208.2045</td>\n",
              "      <td>1</td>\n",
              "    </tr>\n",
              "    <tr>\n",
              "      <th>2</th>\n",
              "      <td>2932.61</td>\n",
              "      <td>2559.94</td>\n",
              "      <td>2186.4111</td>\n",
              "      <td>1698.0172</td>\n",
              "      <td>1.5102</td>\n",
              "      <td>100</td>\n",
              "      <td>95.4878</td>\n",
              "      <td>0.1241</td>\n",
              "      <td>1.4436</td>\n",
              "      <td>0.0041</td>\n",
              "      <td>...</td>\n",
              "      <td>82.8602</td>\n",
              "      <td>0.4958</td>\n",
              "      <td>0.0157</td>\n",
              "      <td>0.0039</td>\n",
              "      <td>3.1745</td>\n",
              "      <td>0.0584</td>\n",
              "      <td>0.0484</td>\n",
              "      <td>0.0148</td>\n",
              "      <td>82.8602</td>\n",
              "      <td>0</td>\n",
              "    </tr>\n",
              "    <tr>\n",
              "      <th>3</th>\n",
              "      <td>2988.72</td>\n",
              "      <td>2479.9</td>\n",
              "      <td>2199.0333</td>\n",
              "      <td>909.7926</td>\n",
              "      <td>1.3204</td>\n",
              "      <td>100</td>\n",
              "      <td>104.2367</td>\n",
              "      <td>0.1217</td>\n",
              "      <td>1.4882</td>\n",
              "      <td>-0.0124</td>\n",
              "      <td>...</td>\n",
              "      <td>73.8432</td>\n",
              "      <td>0.499</td>\n",
              "      <td>0.0103</td>\n",
              "      <td>0.0025</td>\n",
              "      <td>2.0544</td>\n",
              "      <td>0.0202</td>\n",
              "      <td>0.0149</td>\n",
              "      <td>0.0044</td>\n",
              "      <td>73.8432</td>\n",
              "      <td>1</td>\n",
              "    </tr>\n",
              "    <tr>\n",
              "      <th>4</th>\n",
              "      <td>3032.24</td>\n",
              "      <td>2502.87</td>\n",
              "      <td>2233.3667</td>\n",
              "      <td>1326.52</td>\n",
              "      <td>1.5334</td>\n",
              "      <td>100</td>\n",
              "      <td>100.3967</td>\n",
              "      <td>0.1235</td>\n",
              "      <td>1.5031</td>\n",
              "      <td>-0.0031</td>\n",
              "      <td>...</td>\n",
              "      <td>!</td>\n",
              "      <td>0.48</td>\n",
              "      <td>0.4766</td>\n",
              "      <td>0.1045</td>\n",
              "      <td>99.3032</td>\n",
              "      <td>0.0202</td>\n",
              "      <td>0.0149</td>\n",
              "      <td>0.0044</td>\n",
              "      <td>73.8432</td>\n",
              "      <td>1</td>\n",
              "    </tr>\n",
              "  </tbody>\n",
              "</table>\n",
              "<p>5 rows × 591 columns</p>\n",
              "</div>\n",
              "    <div class=\"colab-df-buttons\">\n",
              "\n",
              "  <div class=\"colab-df-container\">\n",
              "    <button class=\"colab-df-convert\" onclick=\"convertToInteractive('df-db1da74d-6965-48ef-ad97-3ecc48b4f973')\"\n",
              "            title=\"Convert this dataframe to an interactive table.\"\n",
              "            style=\"display:none;\">\n",
              "\n",
              "  <svg xmlns=\"http://www.w3.org/2000/svg\" height=\"24px\" viewBox=\"0 -960 960 960\">\n",
              "    <path d=\"M120-120v-720h720v720H120Zm60-500h600v-160H180v160Zm220 220h160v-160H400v160Zm0 220h160v-160H400v160ZM180-400h160v-160H180v160Zm440 0h160v-160H620v160ZM180-180h160v-160H180v160Zm440 0h160v-160H620v160Z\"/>\n",
              "  </svg>\n",
              "    </button>\n",
              "\n",
              "  <style>\n",
              "    .colab-df-container {\n",
              "      display:flex;\n",
              "      gap: 12px;\n",
              "    }\n",
              "\n",
              "    .colab-df-convert {\n",
              "      background-color: #E8F0FE;\n",
              "      border: none;\n",
              "      border-radius: 50%;\n",
              "      cursor: pointer;\n",
              "      display: none;\n",
              "      fill: #1967D2;\n",
              "      height: 32px;\n",
              "      padding: 0 0 0 0;\n",
              "      width: 32px;\n",
              "    }\n",
              "\n",
              "    .colab-df-convert:hover {\n",
              "      background-color: #E2EBFA;\n",
              "      box-shadow: 0px 1px 2px rgba(60, 64, 67, 0.3), 0px 1px 3px 1px rgba(60, 64, 67, 0.15);\n",
              "      fill: #174EA6;\n",
              "    }\n",
              "\n",
              "    .colab-df-buttons div {\n",
              "      margin-bottom: 4px;\n",
              "    }\n",
              "\n",
              "    [theme=dark] .colab-df-convert {\n",
              "      background-color: #3B4455;\n",
              "      fill: #D2E3FC;\n",
              "    }\n",
              "\n",
              "    [theme=dark] .colab-df-convert:hover {\n",
              "      background-color: #434B5C;\n",
              "      box-shadow: 0px 1px 3px 1px rgba(0, 0, 0, 0.15);\n",
              "      filter: drop-shadow(0px 1px 2px rgba(0, 0, 0, 0.3));\n",
              "      fill: #FFFFFF;\n",
              "    }\n",
              "  </style>\n",
              "\n",
              "    <script>\n",
              "      const buttonEl =\n",
              "        document.querySelector('#df-db1da74d-6965-48ef-ad97-3ecc48b4f973 button.colab-df-convert');\n",
              "      buttonEl.style.display =\n",
              "        google.colab.kernel.accessAllowed ? 'block' : 'none';\n",
              "\n",
              "      async function convertToInteractive(key) {\n",
              "        const element = document.querySelector('#df-db1da74d-6965-48ef-ad97-3ecc48b4f973');\n",
              "        const dataTable =\n",
              "          await google.colab.kernel.invokeFunction('convertToInteractive',\n",
              "                                                    [key], {});\n",
              "        if (!dataTable) return;\n",
              "\n",
              "        const docLinkHtml = 'Like what you see? Visit the ' +\n",
              "          '<a target=\"_blank\" href=https://colab.research.google.com/notebooks/data_table.ipynb>data table notebook</a>'\n",
              "          + ' to learn more about interactive tables.';\n",
              "        element.innerHTML = '';\n",
              "        dataTable['output_type'] = 'display_data';\n",
              "        await google.colab.output.renderOutput(dataTable, element);\n",
              "        const docLink = document.createElement('div');\n",
              "        docLink.innerHTML = docLinkHtml;\n",
              "        element.appendChild(docLink);\n",
              "      }\n",
              "    </script>\n",
              "  </div>\n",
              "\n",
              "\n",
              "<div id=\"df-7fd8a49e-1594-4646-8a57-47d80c542c1f\">\n",
              "  <button class=\"colab-df-quickchart\" onclick=\"quickchart('df-7fd8a49e-1594-4646-8a57-47d80c542c1f')\"\n",
              "            title=\"Suggest charts\"\n",
              "            style=\"display:none;\">\n",
              "\n",
              "<svg xmlns=\"http://www.w3.org/2000/svg\" height=\"24px\"viewBox=\"0 0 24 24\"\n",
              "     width=\"24px\">\n",
              "    <g>\n",
              "        <path d=\"M19 3H5c-1.1 0-2 .9-2 2v14c0 1.1.9 2 2 2h14c1.1 0 2-.9 2-2V5c0-1.1-.9-2-2-2zM9 17H7v-7h2v7zm4 0h-2V7h2v10zm4 0h-2v-4h2v4z\"/>\n",
              "    </g>\n",
              "</svg>\n",
              "  </button>\n",
              "\n",
              "<style>\n",
              "  .colab-df-quickchart {\n",
              "      --bg-color: #E8F0FE;\n",
              "      --fill-color: #1967D2;\n",
              "      --hover-bg-color: #E2EBFA;\n",
              "      --hover-fill-color: #174EA6;\n",
              "      --disabled-fill-color: #AAA;\n",
              "      --disabled-bg-color: #DDD;\n",
              "  }\n",
              "\n",
              "  [theme=dark] .colab-df-quickchart {\n",
              "      --bg-color: #3B4455;\n",
              "      --fill-color: #D2E3FC;\n",
              "      --hover-bg-color: #434B5C;\n",
              "      --hover-fill-color: #FFFFFF;\n",
              "      --disabled-bg-color: #3B4455;\n",
              "      --disabled-fill-color: #666;\n",
              "  }\n",
              "\n",
              "  .colab-df-quickchart {\n",
              "    background-color: var(--bg-color);\n",
              "    border: none;\n",
              "    border-radius: 50%;\n",
              "    cursor: pointer;\n",
              "    display: none;\n",
              "    fill: var(--fill-color);\n",
              "    height: 32px;\n",
              "    padding: 0;\n",
              "    width: 32px;\n",
              "  }\n",
              "\n",
              "  .colab-df-quickchart:hover {\n",
              "    background-color: var(--hover-bg-color);\n",
              "    box-shadow: 0 1px 2px rgba(60, 64, 67, 0.3), 0 1px 3px 1px rgba(60, 64, 67, 0.15);\n",
              "    fill: var(--button-hover-fill-color);\n",
              "  }\n",
              "\n",
              "  .colab-df-quickchart-complete:disabled,\n",
              "  .colab-df-quickchart-complete:disabled:hover {\n",
              "    background-color: var(--disabled-bg-color);\n",
              "    fill: var(--disabled-fill-color);\n",
              "    box-shadow: none;\n",
              "  }\n",
              "\n",
              "  .colab-df-spinner {\n",
              "    border: 2px solid var(--fill-color);\n",
              "    border-color: transparent;\n",
              "    border-bottom-color: var(--fill-color);\n",
              "    animation:\n",
              "      spin 1s steps(1) infinite;\n",
              "  }\n",
              "\n",
              "  @keyframes spin {\n",
              "    0% {\n",
              "      border-color: transparent;\n",
              "      border-bottom-color: var(--fill-color);\n",
              "      border-left-color: var(--fill-color);\n",
              "    }\n",
              "    20% {\n",
              "      border-color: transparent;\n",
              "      border-left-color: var(--fill-color);\n",
              "      border-top-color: var(--fill-color);\n",
              "    }\n",
              "    30% {\n",
              "      border-color: transparent;\n",
              "      border-left-color: var(--fill-color);\n",
              "      border-top-color: var(--fill-color);\n",
              "      border-right-color: var(--fill-color);\n",
              "    }\n",
              "    40% {\n",
              "      border-color: transparent;\n",
              "      border-right-color: var(--fill-color);\n",
              "      border-top-color: var(--fill-color);\n",
              "    }\n",
              "    60% {\n",
              "      border-color: transparent;\n",
              "      border-right-color: var(--fill-color);\n",
              "    }\n",
              "    80% {\n",
              "      border-color: transparent;\n",
              "      border-right-color: var(--fill-color);\n",
              "      border-bottom-color: var(--fill-color);\n",
              "    }\n",
              "    90% {\n",
              "      border-color: transparent;\n",
              "      border-bottom-color: var(--fill-color);\n",
              "    }\n",
              "  }\n",
              "</style>\n",
              "\n",
              "  <script>\n",
              "    async function quickchart(key) {\n",
              "      const quickchartButtonEl =\n",
              "        document.querySelector('#' + key + ' button');\n",
              "      quickchartButtonEl.disabled = true;  // To prevent multiple clicks.\n",
              "      quickchartButtonEl.classList.add('colab-df-spinner');\n",
              "      try {\n",
              "        const charts = await google.colab.kernel.invokeFunction(\n",
              "            'suggestCharts', [key], {});\n",
              "      } catch (error) {\n",
              "        console.error('Error during call to suggestCharts:', error);\n",
              "      }\n",
              "      quickchartButtonEl.classList.remove('colab-df-spinner');\n",
              "      quickchartButtonEl.classList.add('colab-df-quickchart-complete');\n",
              "    }\n",
              "    (() => {\n",
              "      let quickchartButtonEl =\n",
              "        document.querySelector('#df-7fd8a49e-1594-4646-8a57-47d80c542c1f button');\n",
              "      quickchartButtonEl.style.display =\n",
              "        google.colab.kernel.accessAllowed ? 'block' : 'none';\n",
              "    })();\n",
              "  </script>\n",
              "</div>\n",
              "    </div>\n",
              "  </div>\n"
            ],
            "application/vnd.google.colaboratory.intrinsic+json": {
              "type": "dataframe",
              "variable_name": "data"
            }
          },
          "metadata": {},
          "execution_count": 1
        }
      ],
      "source": [
        "import pandas as pd\n",
        "import numpy as np\n",
        "from sklearn.model_selection import train_test_split\n",
        "\n",
        "data = pd.read_csv('Secom.csv')\n",
        "print(data.info())\n",
        "data.head()"
      ],
      "id": "zV21WFdCTBSk"
    },
    {
      "cell_type": "markdown",
      "metadata": {
        "id": "9pM8f4CKTBSl"
      },
      "source": [
        "Question 1.1: Detect and replace missing values in the data with np.nan . Hint: missing data is noted as !"
      ],
      "id": "9pM8f4CKTBSl"
    },
    {
      "cell_type": "code",
      "execution_count": 2,
      "metadata": {
        "id": "u1U-Ys7-TBSl",
        "colab": {
          "base_uri": "https://localhost:8080/"
        },
        "outputId": "3886383c-60fd-4a04-e083-9d6697fedc22"
      },
      "outputs": [
        {
          "output_type": "execute_result",
          "data": {
            "text/plain": [
              "Sensor 1       6\n",
              "Sensor 2       7\n",
              "Sensor 3      14\n",
              "Sensor 4      14\n",
              "Sensor 5      14\n",
              "              ..\n",
              "Sensor 587     1\n",
              "Sensor 588     1\n",
              "Sensor 589     1\n",
              "Sensor 590     1\n",
              "Target         0\n",
              "Length: 591, dtype: int64"
            ]
          },
          "metadata": {},
          "execution_count": 2
        }
      ],
      "source": [
        "data[data == '!'].count()"
      ],
      "id": "u1U-Ys7-TBSl"
    },
    {
      "cell_type": "code",
      "execution_count": 3,
      "metadata": {
        "id": "HJw6owpXTBSl"
      },
      "outputs": [],
      "source": [
        "data = data.replace({'\\!': np.NaN}, regex=True)"
      ],
      "id": "HJw6owpXTBSl"
    },
    {
      "cell_type": "markdown",
      "metadata": {
        "id": "VrYoMEPkTBSl"
      },
      "source": [
        "Question 1.2 Confirm that the change has worked"
      ],
      "id": "VrYoMEPkTBSl"
    },
    {
      "cell_type": "code",
      "execution_count": 4,
      "metadata": {
        "id": "ht349YnxTBSl",
        "colab": {
          "base_uri": "https://localhost:8080/"
        },
        "outputId": "e549726b-eebc-40a8-fa1d-5b6188838ae1"
      },
      "outputs": [
        {
          "output_type": "execute_result",
          "data": {
            "text/plain": [
              "Sensor 1      0\n",
              "Sensor 2      0\n",
              "Sensor 3      0\n",
              "Sensor 4      0\n",
              "Sensor 5      0\n",
              "             ..\n",
              "Sensor 587    0\n",
              "Sensor 588    0\n",
              "Sensor 589    0\n",
              "Sensor 590    0\n",
              "Target        0\n",
              "Length: 591, dtype: int64"
            ]
          },
          "metadata": {},
          "execution_count": 4
        }
      ],
      "source": [
        "data[data == '!'].count()"
      ],
      "id": "ht349YnxTBSl"
    },
    {
      "cell_type": "markdown",
      "metadata": {
        "id": "0il8CuJDTBSl"
      },
      "source": [
        "Question 1.3: Fill the missing values with zeroes"
      ],
      "id": "0il8CuJDTBSl"
    },
    {
      "cell_type": "code",
      "execution_count": 5,
      "metadata": {
        "id": "T0z8PO_WTBSm"
      },
      "outputs": [],
      "source": [
        "data = data.replace({np.NaN: 0}, regex=True) # Why not just replace '!' with '0'?"
      ],
      "id": "T0z8PO_WTBSm"
    },
    {
      "cell_type": "code",
      "execution_count": 6,
      "metadata": {
        "id": "HhNluAjHTBSm",
        "colab": {
          "base_uri": "https://localhost:8080/"
        },
        "outputId": "abd661c4-0ae0-41b7-b3fa-027ea5350d41"
      },
      "outputs": [
        {
          "output_type": "execute_result",
          "data": {
            "text/plain": [
              "Sensor 1      0\n",
              "Sensor 2      0\n",
              "Sensor 3      0\n",
              "Sensor 4      0\n",
              "Sensor 5      0\n",
              "             ..\n",
              "Sensor 587    0\n",
              "Sensor 588    0\n",
              "Sensor 589    0\n",
              "Sensor 590    0\n",
              "Target        0\n",
              "Length: 591, dtype: int64"
            ]
          },
          "metadata": {},
          "execution_count": 6
        }
      ],
      "source": [
        "#Validate that the missing values were replaced\n",
        "data[data == np.NaN].count()\n"
      ],
      "id": "HhNluAjHTBSm"
    },
    {
      "cell_type": "code",
      "execution_count": 7,
      "metadata": {
        "id": "k1xIexRpTBSm",
        "colab": {
          "base_uri": "https://localhost:8080/"
        },
        "outputId": "234eab06-8a55-4f5a-8e6d-480425ba4168"
      },
      "outputs": [
        {
          "output_type": "execute_result",
          "data": {
            "text/plain": [
              "Sensor 1      0\n",
              "Sensor 2      0\n",
              "Sensor 3      0\n",
              "Sensor 4      0\n",
              "Sensor 5      0\n",
              "             ..\n",
              "Sensor 587    0\n",
              "Sensor 588    0\n",
              "Sensor 589    0\n",
              "Sensor 590    0\n",
              "Target        0\n",
              "Length: 591, dtype: int64"
            ]
          },
          "metadata": {},
          "execution_count": 7
        }
      ],
      "source": [
        "data.isnull().sum()"
      ],
      "id": "k1xIexRpTBSm"
    },
    {
      "cell_type": "markdown",
      "metadata": {
        "id": "fA-3K0ycTBSm"
      },
      "source": [
        "Question 2.1: Split the data into Training and testing. Make your test size = 0.2 and your random_state = 42."
      ],
      "id": "fA-3K0ycTBSm"
    },
    {
      "cell_type": "code",
      "execution_count": 8,
      "metadata": {
        "id": "wS4-GkSiTBSm"
      },
      "outputs": [],
      "source": [
        "from sklearn.model_selection import train_test_split\n",
        "\n",
        "X = data.iloc[:,:-1]\n",
        "y = data['Target']\n",
        "\n",
        "X_train, X_test, y_train, y_test = train_test_split(X, y, test_size=0.2, random_state=42)"
      ],
      "id": "wS4-GkSiTBSm"
    },
    {
      "cell_type": "markdown",
      "metadata": {
        "id": "w3YkY37oTBSm"
      },
      "source": [
        "Question 2.2: Fit a logistic regression model on the training data. Predict the test data and plot the ROC curve"
      ],
      "id": "w3YkY37oTBSm"
    },
    {
      "cell_type": "code",
      "source": [
        "# Scale the dataset so it converges faster in less iterations\n",
        "from sklearn.preprocessing import MinMaxScaler\n",
        "\n",
        "mmscaler = MinMaxScaler()\n",
        "X_train_minmax_scaled = mmscaler.fit_transform(X_train)\n",
        "#X_train_minmax_scaled = pd.DataFrame(X_train)\n",
        "X_test_minmax_scaled = mmscaler.fit_transform(X_test)\n",
        "#X_test_minmax_scaled = pd.DataFrame(X_test)"
      ],
      "metadata": {
        "id": "Yo-dUS4InfnY"
      },
      "id": "Yo-dUS4InfnY",
      "execution_count": 9,
      "outputs": []
    },
    {
      "cell_type": "code",
      "execution_count": 10,
      "metadata": {
        "id": "3vBH7ffaTBSm"
      },
      "outputs": [],
      "source": [
        "from sklearn.linear_model import LogisticRegression\n",
        "\n",
        "logregr = LogisticRegression(max_iter=1000).fit(X_train_minmax_scaled, y_train)\n"
      ],
      "id": "3vBH7ffaTBSm"
    },
    {
      "cell_type": "code",
      "execution_count": 11,
      "metadata": {
        "id": "3ijZA7YpTBSm"
      },
      "outputs": [],
      "source": [
        "y_pred = logregr.predict(X_test_minmax_scaled)"
      ],
      "id": "3ijZA7YpTBSm"
    },
    {
      "cell_type": "markdown",
      "metadata": {
        "id": "S_We_p0_TBSn"
      },
      "source": [
        "Plot ROC Curve"
      ],
      "id": "S_We_p0_TBSn"
    },
    {
      "cell_type": "code",
      "source": [
        "# Extra functions taken from old Case Study for analysis\n",
        "\n",
        "from IPython.display import display, HTML\n",
        "\n",
        "def confusion_table(confusion_mtx):\n",
        "    \"\"\"Renders a nice confusion table with labels\"\"\"\n",
        "    confusion_df = pd.DataFrame({'y_pred=0': np.append(confusion_mtx[:, 0], confusion_mtx.sum(axis=0)[0]),\n",
        "                                 'y_pred=1': np.append(confusion_mtx[:, 1], confusion_mtx.sum(axis=0)[1]),\n",
        "                                 'Total': np.append(confusion_mtx.sum(axis=1), ''),\n",
        "                                 '': ['y=0', 'y=1', 'Total']}).set_index('')\n",
        "    return confusion_df\n",
        "\n",
        "\n",
        "def positive_observations(y):\n",
        "    # What percentage of observations are positive?\n",
        "    proportion_1 = ((y == 1).sum() / len(y))\n",
        "    pct_1        = np.around(proportion_1*100, decimals=3)\n",
        "    display(HTML('<p><h4>{}%</h4>of observations are positive</p>'.format(pct_1)))\n",
        "\n",
        "def prior_error_rate(confusion_matrix):\n",
        "    \"\"\"The prior probability that a result is positive\"\"\"\n",
        "    return 1 - (np.sum(confusion_mtx[1, :]) / np.sum(confusion_mtx))\n",
        "\n",
        "def total_error_rate(confusion_matrix):\n",
        "    \"\"\"Derive total error rate from confusion matrix\"\"\"\n",
        "    return 1 - np.trace(confusion_mtx) / np.sum(confusion_mtx)\n",
        "\n",
        "def true_positive_rate(confusion_mtx):\n",
        "    \"\"\"or sensitivity: the proportion of actual POSITIVES that are correctly identified as such\"\"\"\n",
        "    return confusion_mtx[1, 1] / np.sum(confusion_mtx[1, :])\n",
        "\n",
        "def false_negative_rate(confusion_mtx):\n",
        "    \"\"\"the proportion of actual POSITIVES that are incorrectly identified as negative\"\"\"\n",
        "    return confusion_mtx[1, 0] / np.sum(confusion_mtx[1, :])\n",
        "\n",
        "def false_positive_rate(confusion_mtx):\n",
        "    \"\"\"the proportion of actual NEGATIVES that are incorrectly identified as positives\"\"\"\n",
        "    return confusion_mtx[0, 1] / np.sum(confusion_mtx[0, :])\n",
        "\n",
        "def true_negative_rate(confusion_mtx):\n",
        "    \"\"\"or specificity: the proportion of actual NEGATIVES that are correctly identified as such\"\"\"\n",
        "    return confusion_mtx[0, 0] / np.sum(confusion_mtx[0, :])\n",
        "\n",
        "def positive_predictive_value(confusion_mtx):\n",
        "    \"\"\"or precision: the proportion of predicted positives that are correctly predicted\"\"\"\n",
        "    return confusion_mtx[1, 1] / np.sum(confusion_mtx[:, 1])\n",
        "\n",
        "def negative_predictive_value(confusion_mtx):\n",
        "    \"\"\"the proportion of predicted negatives that are correctly predicted\"\"\"\n",
        "    return confusion_mtx[0, 0] / np.sum(confusion_mtx[:, 0])\n",
        "\n",
        "def classifier_stats(confusion_mtx):\n",
        "    return pd.Series({'prior_error_rate': prior_error_rate(confusion_mtx),\n",
        "                      'total_error_rate': total_error_rate(confusion_mtx),\n",
        "                      'true_positive_rate (sensitivity)': true_positive_rate(confusion_mtx),\n",
        "                      'false_negative_rate': false_negative_rate(confusion_mtx),\n",
        "                      'false_positive_rate': false_positive_rate(confusion_mtx),\n",
        "                      'true_negative_rate (specificity)': true_negative_rate(confusion_mtx),\n",
        "                      'positive_predictive_value (precision)': positive_predictive_value(confusion_mtx),\n",
        "                      'negative_predictive_value': negative_predictive_value(confusion_mtx)})"
      ],
      "metadata": {
        "id": "J6kPO7p5j3QW"
      },
      "id": "J6kPO7p5j3QW",
      "execution_count": 12,
      "outputs": []
    },
    {
      "cell_type": "code",
      "execution_count": 13,
      "metadata": {
        "colab": {
          "base_uri": "https://localhost:8080/",
          "height": 1000
        },
        "id": "8MFLbWX5TBSn",
        "outputId": "2f4018ea-1834-4d31-b030-e5bb83ab0e57"
      },
      "outputs": [
        {
          "output_type": "stream",
          "name": "stdout",
          "text": [
            "[0.         0.         0.         0.         0.         0.\n",
            " 0.         0.         0.         0.         0.         0.\n",
            " 0.         0.         0.         0.         0.         0.\n",
            " 0.         0.         0.         0.         0.         0.\n",
            " 0.         0.         0.         0.         0.         0.\n",
            " 0.         0.         0.         0.         0.         0.\n",
            " 0.04166667 0.08333333 0.08333333 0.08333333 0.08333333 0.08333333\n",
            " 0.08333333 0.08333333 0.08333333 0.08333333 0.08333333 0.08333333\n",
            " 0.08333333 0.08333333 0.08333333 0.08333333 0.08333333 0.08333333\n",
            " 0.08333333 0.08333333 0.08333333 0.08333333 0.08333333 0.08333333\n",
            " 0.08333333 0.125      0.125      0.125      0.125      0.125\n",
            " 0.125      0.125      0.125      0.125      0.125      0.125\n",
            " 0.125      0.125      0.125      0.125      0.125      0.125\n",
            " 0.125      0.125      0.125      0.125      0.125      0.125\n",
            " 0.125      0.125      0.125      0.125      0.125      0.125\n",
            " 0.125      0.16666667 0.16666667 0.16666667 0.16666667 0.16666667\n",
            " 0.16666667 0.16666667 0.16666667 0.16666667 0.16666667 0.16666667\n",
            " 0.16666667 0.16666667 0.16666667 0.16666667 0.16666667 0.20833333\n",
            " 0.20833333 0.20833333 0.20833333 0.20833333 0.20833333 0.20833333\n",
            " 0.20833333 0.20833333 0.20833333 0.20833333 0.20833333 0.20833333\n",
            " 0.20833333 0.20833333 0.20833333 0.20833333 0.20833333 0.20833333\n",
            " 0.20833333 0.20833333 0.20833333 0.20833333 0.20833333 0.20833333\n",
            " 0.20833333 0.20833333 0.20833333 0.20833333 0.20833333 0.25\n",
            " 0.25       0.25       0.25       0.25       0.25       0.25\n",
            " 0.25       0.25       0.25       0.25       0.25       0.25\n",
            " 0.29166667 0.29166667 0.29166667 0.29166667 0.29166667 0.29166667\n",
            " 0.29166667 0.29166667 0.29166667 0.29166667 0.29166667 0.33333333\n",
            " 0.33333333 0.33333333 0.33333333 0.33333333 0.33333333 0.375\n",
            " 0.375      0.375      0.375      0.375      0.41666667 0.41666667\n",
            " 0.41666667 0.41666667 0.41666667 0.41666667 0.41666667 0.41666667\n",
            " 0.41666667 0.41666667 0.41666667 0.41666667 0.45833333 0.45833333\n",
            " 0.45833333 0.45833333 0.45833333 0.45833333 0.45833333 0.45833333\n",
            " 0.45833333 0.45833333 0.45833333 0.45833333 0.45833333 0.45833333\n",
            " 0.45833333 0.45833333 0.45833333 0.45833333 0.45833333 0.45833333\n",
            " 0.45833333 0.45833333 0.5        0.5        0.5        0.5\n",
            " 0.54166667 0.54166667 0.54166667 0.54166667 0.54166667 0.54166667\n",
            " 0.54166667 0.58333333 0.58333333 0.58333333 0.58333333 0.58333333\n",
            " 0.58333333 0.58333333 0.58333333 0.58333333 0.58333333 0.58333333\n",
            " 0.58333333 0.58333333 0.58333333 0.58333333 0.58333333 0.58333333\n",
            " 0.58333333 0.58333333 0.625      0.625      0.625      0.625\n",
            " 0.625      0.625      0.66666667 0.66666667 0.66666667 0.66666667\n",
            " 0.66666667 0.66666667 0.66666667 0.66666667 0.66666667 0.66666667\n",
            " 0.66666667 0.66666667 0.66666667 0.70833333 0.70833333 0.70833333\n",
            " 0.70833333 0.70833333 0.70833333 0.70833333 0.70833333 0.70833333\n",
            " 0.70833333 0.70833333 0.70833333 0.70833333 0.70833333 0.70833333\n",
            " 0.70833333 0.75       0.75       0.75       0.75       0.75\n",
            " 0.75       0.75       0.75       0.79166667 0.79166667 0.79166667\n",
            " 0.79166667 0.79166667 0.83333333 0.83333333 0.875      0.875\n",
            " 0.875      0.875      0.875      0.875      0.875      0.875\n",
            " 0.875      0.875      0.875      0.875      0.875      0.91666667\n",
            " 0.91666667 0.91666667 0.91666667 0.95833333 0.95833333 1.\n",
            " 1.         1.         1.         1.         1.         1.\n",
            " 1.         1.         1.        ] [0.         0.00344828 0.00689655 0.01034483 0.0137931  0.01724138\n",
            " 0.02068966 0.02413793 0.02758621 0.03103448 0.03448276 0.03793103\n",
            " 0.04137931 0.04482759 0.04827586 0.05172414 0.05517241 0.05862069\n",
            " 0.06206897 0.06551724 0.06896552 0.07241379 0.07586207 0.07931034\n",
            " 0.08275862 0.0862069  0.08965517 0.09310345 0.09655172 0.1\n",
            " 0.10344828 0.10689655 0.11034483 0.1137931  0.11724138 0.12068966\n",
            " 0.12068966 0.12068966 0.12413793 0.12758621 0.13103448 0.13448276\n",
            " 0.13793103 0.14137931 0.14482759 0.14827586 0.15172414 0.15517241\n",
            " 0.15862069 0.16206897 0.16551724 0.16896552 0.17241379 0.17586207\n",
            " 0.17931034 0.18275862 0.1862069  0.18965517 0.19310345 0.19655172\n",
            " 0.2        0.2        0.20344828 0.20689655 0.21034483 0.2137931\n",
            " 0.21724138 0.22068966 0.22413793 0.22758621 0.23103448 0.23448276\n",
            " 0.23793103 0.24137931 0.24482759 0.24827586 0.25172414 0.25517241\n",
            " 0.25862069 0.26206897 0.26551724 0.26896552 0.27241379 0.27586207\n",
            " 0.27931034 0.28275862 0.2862069  0.28965517 0.29310345 0.29655172\n",
            " 0.3        0.3        0.30344828 0.30689655 0.31034483 0.3137931\n",
            " 0.31724138 0.32068966 0.32413793 0.32758621 0.33103448 0.33448276\n",
            " 0.33793103 0.34137931 0.34482759 0.34827586 0.35172414 0.35172414\n",
            " 0.35517241 0.35862069 0.36206897 0.36551724 0.36896552 0.37241379\n",
            " 0.37586207 0.37931034 0.38275862 0.3862069  0.38965517 0.39310345\n",
            " 0.39655172 0.4        0.40344828 0.40689655 0.41034483 0.4137931\n",
            " 0.41724138 0.42068966 0.42413793 0.42758621 0.43103448 0.43448276\n",
            " 0.43793103 0.44137931 0.44482759 0.44827586 0.45172414 0.45172414\n",
            " 0.45517241 0.45862069 0.46206897 0.46551724 0.46896552 0.47241379\n",
            " 0.47586207 0.47931034 0.48275862 0.4862069  0.48965517 0.49310345\n",
            " 0.49310345 0.49655172 0.5        0.50344828 0.50689655 0.51034483\n",
            " 0.5137931  0.51724138 0.52068966 0.52413793 0.52758621 0.52758621\n",
            " 0.53103448 0.53448276 0.53793103 0.54137931 0.54482759 0.54482759\n",
            " 0.54827586 0.55172414 0.55517241 0.55862069 0.55862069 0.56206897\n",
            " 0.56551724 0.56896552 0.57241379 0.57586207 0.57931034 0.58275862\n",
            " 0.5862069  0.58965517 0.59310345 0.59655172 0.59655172 0.6\n",
            " 0.60344828 0.60689655 0.61034483 0.6137931  0.61724138 0.62068966\n",
            " 0.62413793 0.62758621 0.63103448 0.63448276 0.63793103 0.64137931\n",
            " 0.64482759 0.64827586 0.65172414 0.65517241 0.65862069 0.66206897\n",
            " 0.66551724 0.66896552 0.66896552 0.67241379 0.67586207 0.67931034\n",
            " 0.67931034 0.68275862 0.6862069  0.68965517 0.69310345 0.69655172\n",
            " 0.7        0.7        0.70344828 0.70689655 0.71034483 0.7137931\n",
            " 0.71724138 0.72068966 0.72413793 0.72758621 0.73103448 0.73448276\n",
            " 0.73793103 0.74137931 0.74482759 0.74827586 0.75172414 0.75517241\n",
            " 0.75862069 0.76206897 0.76206897 0.76551724 0.76896552 0.77241379\n",
            " 0.77586207 0.77931034 0.77931034 0.78275862 0.7862069  0.78965517\n",
            " 0.79310345 0.79655172 0.8        0.80344828 0.80689655 0.81034483\n",
            " 0.8137931  0.81724138 0.82068966 0.82068966 0.82413793 0.82758621\n",
            " 0.83103448 0.83448276 0.83793103 0.84137931 0.84482759 0.84827586\n",
            " 0.85172414 0.85517241 0.85862069 0.86206897 0.86551724 0.86896552\n",
            " 0.87241379 0.87241379 0.87586207 0.87931034 0.88275862 0.8862069\n",
            " 0.88965517 0.89310345 0.89655172 0.89655172 0.9        0.90344828\n",
            " 0.90689655 0.91034483 0.91034483 0.9137931  0.9137931  0.91724138\n",
            " 0.92068966 0.92413793 0.92758621 0.93103448 0.93448276 0.93793103\n",
            " 0.94137931 0.94482759 0.94827586 0.95172414 0.95517241 0.95517241\n",
            " 0.95862069 0.96206897 0.96551724 0.96551724 0.96896552 0.96896552\n",
            " 0.97241379 0.97586207 0.97931034 0.98275862 0.9862069  0.98965517\n",
            " 0.99310345 0.99655172 1.        ]\n"
          ]
        },
        {
          "output_type": "display_data",
          "data": {
            "text/plain": [
              "<IPython.core.display.HTML object>"
            ],
            "text/html": [
              "<h3>Logistic Regression</h3>"
            ]
          },
          "metadata": {}
        },
        {
          "output_type": "display_data",
          "data": {
            "text/plain": [
              "       y_pred=0  y_pred=1 Total\n",
              "                               \n",
              "y=0           0        24    24\n",
              "y=1           0       290   290\n",
              "Total         0       314      "
            ],
            "text/html": [
              "\n",
              "  <div id=\"df-2c935873-40d3-4683-9a7d-aed076d903e8\" class=\"colab-df-container\">\n",
              "    <div>\n",
              "<style scoped>\n",
              "    .dataframe tbody tr th:only-of-type {\n",
              "        vertical-align: middle;\n",
              "    }\n",
              "\n",
              "    .dataframe tbody tr th {\n",
              "        vertical-align: top;\n",
              "    }\n",
              "\n",
              "    .dataframe thead th {\n",
              "        text-align: right;\n",
              "    }\n",
              "</style>\n",
              "<table border=\"1\" class=\"dataframe\">\n",
              "  <thead>\n",
              "    <tr style=\"text-align: right;\">\n",
              "      <th></th>\n",
              "      <th>y_pred=0</th>\n",
              "      <th>y_pred=1</th>\n",
              "      <th>Total</th>\n",
              "    </tr>\n",
              "    <tr>\n",
              "      <th></th>\n",
              "      <th></th>\n",
              "      <th></th>\n",
              "      <th></th>\n",
              "    </tr>\n",
              "  </thead>\n",
              "  <tbody>\n",
              "    <tr>\n",
              "      <th>y=0</th>\n",
              "      <td>0</td>\n",
              "      <td>24</td>\n",
              "      <td>24</td>\n",
              "    </tr>\n",
              "    <tr>\n",
              "      <th>y=1</th>\n",
              "      <td>0</td>\n",
              "      <td>290</td>\n",
              "      <td>290</td>\n",
              "    </tr>\n",
              "    <tr>\n",
              "      <th>Total</th>\n",
              "      <td>0</td>\n",
              "      <td>314</td>\n",
              "      <td></td>\n",
              "    </tr>\n",
              "  </tbody>\n",
              "</table>\n",
              "</div>\n",
              "    <div class=\"colab-df-buttons\">\n",
              "\n",
              "  <div class=\"colab-df-container\">\n",
              "    <button class=\"colab-df-convert\" onclick=\"convertToInteractive('df-2c935873-40d3-4683-9a7d-aed076d903e8')\"\n",
              "            title=\"Convert this dataframe to an interactive table.\"\n",
              "            style=\"display:none;\">\n",
              "\n",
              "  <svg xmlns=\"http://www.w3.org/2000/svg\" height=\"24px\" viewBox=\"0 -960 960 960\">\n",
              "    <path d=\"M120-120v-720h720v720H120Zm60-500h600v-160H180v160Zm220 220h160v-160H400v160Zm0 220h160v-160H400v160ZM180-400h160v-160H180v160Zm440 0h160v-160H620v160ZM180-180h160v-160H180v160Zm440 0h160v-160H620v160Z\"/>\n",
              "  </svg>\n",
              "    </button>\n",
              "\n",
              "  <style>\n",
              "    .colab-df-container {\n",
              "      display:flex;\n",
              "      gap: 12px;\n",
              "    }\n",
              "\n",
              "    .colab-df-convert {\n",
              "      background-color: #E8F0FE;\n",
              "      border: none;\n",
              "      border-radius: 50%;\n",
              "      cursor: pointer;\n",
              "      display: none;\n",
              "      fill: #1967D2;\n",
              "      height: 32px;\n",
              "      padding: 0 0 0 0;\n",
              "      width: 32px;\n",
              "    }\n",
              "\n",
              "    .colab-df-convert:hover {\n",
              "      background-color: #E2EBFA;\n",
              "      box-shadow: 0px 1px 2px rgba(60, 64, 67, 0.3), 0px 1px 3px 1px rgba(60, 64, 67, 0.15);\n",
              "      fill: #174EA6;\n",
              "    }\n",
              "\n",
              "    .colab-df-buttons div {\n",
              "      margin-bottom: 4px;\n",
              "    }\n",
              "\n",
              "    [theme=dark] .colab-df-convert {\n",
              "      background-color: #3B4455;\n",
              "      fill: #D2E3FC;\n",
              "    }\n",
              "\n",
              "    [theme=dark] .colab-df-convert:hover {\n",
              "      background-color: #434B5C;\n",
              "      box-shadow: 0px 1px 3px 1px rgba(0, 0, 0, 0.15);\n",
              "      filter: drop-shadow(0px 1px 2px rgba(0, 0, 0, 0.3));\n",
              "      fill: #FFFFFF;\n",
              "    }\n",
              "  </style>\n",
              "\n",
              "    <script>\n",
              "      const buttonEl =\n",
              "        document.querySelector('#df-2c935873-40d3-4683-9a7d-aed076d903e8 button.colab-df-convert');\n",
              "      buttonEl.style.display =\n",
              "        google.colab.kernel.accessAllowed ? 'block' : 'none';\n",
              "\n",
              "      async function convertToInteractive(key) {\n",
              "        const element = document.querySelector('#df-2c935873-40d3-4683-9a7d-aed076d903e8');\n",
              "        const dataTable =\n",
              "          await google.colab.kernel.invokeFunction('convertToInteractive',\n",
              "                                                    [key], {});\n",
              "        if (!dataTable) return;\n",
              "\n",
              "        const docLinkHtml = 'Like what you see? Visit the ' +\n",
              "          '<a target=\"_blank\" href=https://colab.research.google.com/notebooks/data_table.ipynb>data table notebook</a>'\n",
              "          + ' to learn more about interactive tables.';\n",
              "        element.innerHTML = '';\n",
              "        dataTable['output_type'] = 'display_data';\n",
              "        await google.colab.output.renderOutput(dataTable, element);\n",
              "        const docLink = document.createElement('div');\n",
              "        docLink.innerHTML = docLinkHtml;\n",
              "        element.appendChild(docLink);\n",
              "      }\n",
              "    </script>\n",
              "  </div>\n",
              "\n",
              "\n",
              "<div id=\"df-05c42ab3-0956-46d6-a913-b0b67fbc9ed5\">\n",
              "  <button class=\"colab-df-quickchart\" onclick=\"quickchart('df-05c42ab3-0956-46d6-a913-b0b67fbc9ed5')\"\n",
              "            title=\"Suggest charts\"\n",
              "            style=\"display:none;\">\n",
              "\n",
              "<svg xmlns=\"http://www.w3.org/2000/svg\" height=\"24px\"viewBox=\"0 0 24 24\"\n",
              "     width=\"24px\">\n",
              "    <g>\n",
              "        <path d=\"M19 3H5c-1.1 0-2 .9-2 2v14c0 1.1.9 2 2 2h14c1.1 0 2-.9 2-2V5c0-1.1-.9-2-2-2zM9 17H7v-7h2v7zm4 0h-2V7h2v10zm4 0h-2v-4h2v4z\"/>\n",
              "    </g>\n",
              "</svg>\n",
              "  </button>\n",
              "\n",
              "<style>\n",
              "  .colab-df-quickchart {\n",
              "      --bg-color: #E8F0FE;\n",
              "      --fill-color: #1967D2;\n",
              "      --hover-bg-color: #E2EBFA;\n",
              "      --hover-fill-color: #174EA6;\n",
              "      --disabled-fill-color: #AAA;\n",
              "      --disabled-bg-color: #DDD;\n",
              "  }\n",
              "\n",
              "  [theme=dark] .colab-df-quickchart {\n",
              "      --bg-color: #3B4455;\n",
              "      --fill-color: #D2E3FC;\n",
              "      --hover-bg-color: #434B5C;\n",
              "      --hover-fill-color: #FFFFFF;\n",
              "      --disabled-bg-color: #3B4455;\n",
              "      --disabled-fill-color: #666;\n",
              "  }\n",
              "\n",
              "  .colab-df-quickchart {\n",
              "    background-color: var(--bg-color);\n",
              "    border: none;\n",
              "    border-radius: 50%;\n",
              "    cursor: pointer;\n",
              "    display: none;\n",
              "    fill: var(--fill-color);\n",
              "    height: 32px;\n",
              "    padding: 0;\n",
              "    width: 32px;\n",
              "  }\n",
              "\n",
              "  .colab-df-quickchart:hover {\n",
              "    background-color: var(--hover-bg-color);\n",
              "    box-shadow: 0 1px 2px rgba(60, 64, 67, 0.3), 0 1px 3px 1px rgba(60, 64, 67, 0.15);\n",
              "    fill: var(--button-hover-fill-color);\n",
              "  }\n",
              "\n",
              "  .colab-df-quickchart-complete:disabled,\n",
              "  .colab-df-quickchart-complete:disabled:hover {\n",
              "    background-color: var(--disabled-bg-color);\n",
              "    fill: var(--disabled-fill-color);\n",
              "    box-shadow: none;\n",
              "  }\n",
              "\n",
              "  .colab-df-spinner {\n",
              "    border: 2px solid var(--fill-color);\n",
              "    border-color: transparent;\n",
              "    border-bottom-color: var(--fill-color);\n",
              "    animation:\n",
              "      spin 1s steps(1) infinite;\n",
              "  }\n",
              "\n",
              "  @keyframes spin {\n",
              "    0% {\n",
              "      border-color: transparent;\n",
              "      border-bottom-color: var(--fill-color);\n",
              "      border-left-color: var(--fill-color);\n",
              "    }\n",
              "    20% {\n",
              "      border-color: transparent;\n",
              "      border-left-color: var(--fill-color);\n",
              "      border-top-color: var(--fill-color);\n",
              "    }\n",
              "    30% {\n",
              "      border-color: transparent;\n",
              "      border-left-color: var(--fill-color);\n",
              "      border-top-color: var(--fill-color);\n",
              "      border-right-color: var(--fill-color);\n",
              "    }\n",
              "    40% {\n",
              "      border-color: transparent;\n",
              "      border-right-color: var(--fill-color);\n",
              "      border-top-color: var(--fill-color);\n",
              "    }\n",
              "    60% {\n",
              "      border-color: transparent;\n",
              "      border-right-color: var(--fill-color);\n",
              "    }\n",
              "    80% {\n",
              "      border-color: transparent;\n",
              "      border-right-color: var(--fill-color);\n",
              "      border-bottom-color: var(--fill-color);\n",
              "    }\n",
              "    90% {\n",
              "      border-color: transparent;\n",
              "      border-bottom-color: var(--fill-color);\n",
              "    }\n",
              "  }\n",
              "</style>\n",
              "\n",
              "  <script>\n",
              "    async function quickchart(key) {\n",
              "      const quickchartButtonEl =\n",
              "        document.querySelector('#' + key + ' button');\n",
              "      quickchartButtonEl.disabled = true;  // To prevent multiple clicks.\n",
              "      quickchartButtonEl.classList.add('colab-df-spinner');\n",
              "      try {\n",
              "        const charts = await google.colab.kernel.invokeFunction(\n",
              "            'suggestCharts', [key], {});\n",
              "      } catch (error) {\n",
              "        console.error('Error during call to suggestCharts:', error);\n",
              "      }\n",
              "      quickchartButtonEl.classList.remove('colab-df-spinner');\n",
              "      quickchartButtonEl.classList.add('colab-df-quickchart-complete');\n",
              "    }\n",
              "    (() => {\n",
              "      let quickchartButtonEl =\n",
              "        document.querySelector('#df-05c42ab3-0956-46d6-a913-b0b67fbc9ed5 button');\n",
              "      quickchartButtonEl.style.display =\n",
              "        google.colab.kernel.accessAllowed ? 'block' : 'none';\n",
              "    })();\n",
              "  </script>\n",
              "</div>\n",
              "    </div>\n",
              "  </div>\n"
            ],
            "application/vnd.google.colaboratory.intrinsic+json": {
              "type": "dataframe",
              "summary": "{\n  \"name\": \"# Plot the ROC curve\",\n  \"rows\": 3,\n  \"fields\": [\n    {\n      \"column\": \"y_pred=0\",\n      \"properties\": {\n        \"dtype\": \"number\",\n        \"std\": 0,\n        \"min\": 0,\n        \"max\": 0,\n        \"num_unique_values\": 1,\n        \"samples\": [\n          0\n        ],\n        \"semantic_type\": \"\",\n        \"description\": \"\"\n      }\n    },\n    {\n      \"column\": \"y_pred=1\",\n      \"properties\": {\n        \"dtype\": \"number\",\n        \"std\": 160,\n        \"min\": 24,\n        \"max\": 314,\n        \"num_unique_values\": 3,\n        \"samples\": [\n          24\n        ],\n        \"semantic_type\": \"\",\n        \"description\": \"\"\n      }\n    },\n    {\n      \"column\": \"Total\",\n      \"properties\": {\n        \"dtype\": \"string\",\n        \"num_unique_values\": 3,\n        \"samples\": [\n          \"24\"\n        ],\n        \"semantic_type\": \"\",\n        \"description\": \"\"\n      }\n    }\n  ]\n}"
            }
          },
          "metadata": {}
        },
        {
          "output_type": "stream",
          "name": "stderr",
          "text": [
            "<ipython-input-12-8d5424fb45d6>:50: RuntimeWarning: invalid value encountered in scalar divide\n",
            "  return confusion_mtx[0, 0] / np.sum(confusion_mtx[:, 0])\n"
          ]
        },
        {
          "output_type": "display_data",
          "data": {
            "text/plain": [
              "prior_error_rate                         0.076433\n",
              "total_error_rate                         0.076433\n",
              "true_positive_rate (sensitivity)         1.000000\n",
              "false_negative_rate                      0.000000\n",
              "false_positive_rate                      1.000000\n",
              "true_negative_rate (specificity)         0.000000\n",
              "positive_predictive_value (precision)    0.923567\n",
              "negative_predictive_value                     NaN\n",
              "dtype: float64"
            ]
          },
          "metadata": {}
        },
        {
          "output_type": "display_data",
          "data": {
            "text/plain": [
              "<Figure size 640x480 with 1 Axes>"
            ],
            "image/png": "[encoded data removed]"
          },
          "metadata": {}
        }
      ],
      "source": [
        "# Plot outputs\n",
        "import matplotlib.pyplot as plt\n",
        "import sklearn.metrics\n",
        "from sklearn import preprocessing, metrics\n",
        "from sklearn.metrics import confusion_matrix, classification_report, roc_curve, roc_auc_score\n",
        "\n",
        "%matplotlib inline\n",
        "\n",
        "# calculate the fpr and tpr for all thresholds of the classification\n",
        "y_pred_proba = logregr.predict_proba(X_test_minmax_scaled)[::,1]\n",
        "fpr, tpr, _ = roc_curve(y_test, y_pred_proba, pos_label=1, drop_intermediate=False) #drop_intermediate=False so we get all thresholds\n",
        "print(fpr, tpr)\n",
        "auc = roc_auc_score(y_test, y_pred_proba)\n",
        "\n",
        "# Confusion table\n",
        "display(HTML('<h3>{}</h3>'.format('Logistic Regression')))\n",
        "confusion_mtx = confusion_matrix(y_test, y_pred)\n",
        "display(confusion_table(confusion_mtx))\n",
        "# Classifier stats\n",
        "display(classifier_stats(confusion_mtx))\n",
        "\n",
        "# Create a ROC curve with the AUC label\n",
        "plt.plot(fpr, tpr, label=\"AUC=\"+str(auc))\n",
        "plt.ylabel('True Positive Rate')\n",
        "plt.xlabel('False Positive Rate')\n",
        "plt.legend(loc=4)\n",
        "plt.show()\n",
        "\n",
        "# Plot the ROC curve\n"
      ],
      "id": "8MFLbWX5TBSn"
    },
    {
      "cell_type": "markdown",
      "metadata": {
        "id": "Fv3pBs5WTBSn"
      },
      "source": [
        "Question 2.2: Apply RFE with a logistic regression model on the training data testing out different number of features. Predict the test data and plot the ROC curve."
      ],
      "id": "Fv3pBs5WTBSn"
    },
    {
      "cell_type": "code",
      "source": [
        "data.shape"
      ],
      "metadata": {
        "colab": {
          "base_uri": "https://localhost:8080/"
        },
        "id": "NyyjFEuOmdNA",
        "outputId": "64306f7c-d63d-46c0-d24b-2f7ef4915d04"
      },
      "id": "NyyjFEuOmdNA",
      "execution_count": 14,
      "outputs": [
        {
          "output_type": "execute_result",
          "data": {
            "text/plain": [
              "(1567, 591)"
            ]
          },
          "metadata": {},
          "execution_count": 14
        }
      ]
    },
    {
      "cell_type": "code",
      "execution_count": 15,
      "metadata": {
        "id": "Vu-PzuKeTBSn",
        "colab": {
          "base_uri": "https://localhost:8080/",
          "height": 118
        },
        "outputId": "93097860-7a6d-424d-c51d-a4090888edd4"
      },
      "outputs": [
        {
          "output_type": "execute_result",
          "data": {
            "text/plain": [
              "RFE(estimator=LogisticRegression(max_iter=5000, random_state=42, solver='saga'),\n",
              "    n_features_to_select=40, step=10)"
            ],
            "text/html": [
              "<style>#sk-container-id-1 {color: black;background-color: white;}#sk-container-id-1 pre{padding: 0;}#sk-container-id-1 div.sk-toggleable {background-color: white;}#sk-container-id-1 label.sk-toggleable__label {cursor: pointer;display: block;width: 100%;margin-bottom: 0;padding: 0.3em;box-sizing: border-box;text-align: center;}#sk-container-id-1 label.sk-toggleable__label-arrow:before {content: \"▸\";float: left;margin-right: 0.25em;color: #696969;}#sk-container-id-1 label.sk-toggleable__label-arrow:hover:before {color: black;}#sk-container-id-1 div.sk-estimator:hover label.sk-toggleable__label-arrow:before {color: black;}#sk-container-id-1 div.sk-toggleable__content {max-height: 0;max-width: 0;overflow: hidden;text-align: left;background-color: #f0f8ff;}#sk-container-id-1 div.sk-toggleable__content pre {margin: 0.2em;color: black;border-radius: 0.25em;background-color: #f0f8ff;}#sk-container-id-1 input.sk-toggleable__control:checked~div.sk-toggleable__content {max-height: 200px;max-width: 100%;overflow: auto;}#sk-container-id-1 input.sk-toggleable__control:checked~label.sk-toggleable__label-arrow:before {content: \"▾\";}#sk-container-id-1 div.sk-estimator input.sk-toggleable__control:checked~label.sk-toggleable__label {background-color: #d4ebff;}#sk-container-id-1 div.sk-label input.sk-toggleable__control:checked~label.sk-toggleable__label {background-color: #d4ebff;}#sk-container-id-1 input.sk-hidden--visually {border: 0;clip: rect(1px 1px 1px 1px);clip: rect(1px, 1px, 1px, 1px);height: 1px;margin: -1px;overflow: hidden;padding: 0;position: absolute;width: 1px;}#sk-container-id-1 div.sk-estimator {font-family: monospace;background-color: #f0f8ff;border: 1px dotted black;border-radius: 0.25em;box-sizing: border-box;margin-bottom: 0.5em;}#sk-container-id-1 div.sk-estimator:hover {background-color: #d4ebff;}#sk-container-id-1 div.sk-parallel-item::after {content: \"\";width: 100%;border-bottom: 1px solid gray;flex-grow: 1;}#sk-container-id-1 div.sk-label:hover label.sk-toggleable__label {background-color: #d4ebff;}#sk-container-id-1 div.sk-serial::before {content: \"\";position: absolute;border-left: 1px solid gray;box-sizing: border-box;top: 0;bottom: 0;left: 50%;z-index: 0;}#sk-container-id-1 div.sk-serial {display: flex;flex-direction: column;align-items: center;background-color: white;padding-right: 0.2em;padding-left: 0.2em;position: relative;}#sk-container-id-1 div.sk-item {position: relative;z-index: 1;}#sk-container-id-1 div.sk-parallel {display: flex;align-items: stretch;justify-content: center;background-color: white;position: relative;}#sk-container-id-1 div.sk-item::before, #sk-container-id-1 div.sk-parallel-item::before {content: \"\";position: absolute;border-left: 1px solid gray;box-sizing: border-box;top: 0;bottom: 0;left: 50%;z-index: -1;}#sk-container-id-1 div.sk-parallel-item {display: flex;flex-direction: column;z-index: 1;position: relative;background-color: white;}#sk-container-id-1 div.sk-parallel-item:first-child::after {align-self: flex-end;width: 50%;}#sk-container-id-1 div.sk-parallel-item:last-child::after {align-self: flex-start;width: 50%;}#sk-container-id-1 div.sk-parallel-item:only-child::after {width: 0;}#sk-container-id-1 div.sk-dashed-wrapped {border: 1px dashed gray;margin: 0 0.4em 0.5em 0.4em;box-sizing: border-box;padding-bottom: 0.4em;background-color: white;}#sk-container-id-1 div.sk-label label {font-family: monospace;font-weight: bold;display: inline-block;line-height: 1.2em;}#sk-container-id-1 div.sk-label-container {text-align: center;}#sk-container-id-1 div.sk-container {/* jupyter's `normalize.less` sets `[hidden] { display: none; }` but bootstrap.min.css set `[hidden] { display: none !important; }` so we also need the `!important` here to be able to override the default hidden behavior on the sphinx rendered scikit-learn.org. See: https://github.com/scikit-learn/scikit-learn/issues/21755 */display: inline-block !important;position: relative;}#sk-container-id-1 div.sk-text-repr-fallback {display: none;}</style><div id=\"sk-container-id-1\" class=\"sk-top-container\"><div class=\"sk-text-repr-fallback\"><pre>RFE(estimator=LogisticRegression(max_iter=5000, random_state=42, solver=&#x27;saga&#x27;),\n",
              "    n_features_to_select=40, step=10)</pre><b>In a Jupyter environment, please rerun this cell to show the HTML representation or trust the notebook. <br />On GitHub, the HTML representation is unable to render, please try loading this page with nbviewer.org.</b></div><div class=\"sk-container\" hidden><div class=\"sk-item sk-dashed-wrapped\"><div class=\"sk-label-container\"><div class=\"sk-label sk-toggleable\"><input class=\"sk-toggleable__control sk-hidden--visually\" id=\"sk-estimator-id-1\" type=\"checkbox\" ><label for=\"sk-estimator-id-1\" class=\"sk-toggleable__label sk-toggleable__label-arrow\">RFE</label><div class=\"sk-toggleable__content\"><pre>RFE(estimator=LogisticRegression(max_iter=5000, random_state=42, solver=&#x27;saga&#x27;),\n",
              "    n_features_to_select=40, step=10)</pre></div></div></div><div class=\"sk-parallel\"><div class=\"sk-parallel-item\"><div class=\"sk-item\"><div class=\"sk-label-container\"><div class=\"sk-label sk-toggleable\"><input class=\"sk-toggleable__control sk-hidden--visually\" id=\"sk-estimator-id-2\" type=\"checkbox\" ><label for=\"sk-estimator-id-2\" class=\"sk-toggleable__label sk-toggleable__label-arrow\">estimator: LogisticRegression</label><div class=\"sk-toggleable__content\"><pre>LogisticRegression(max_iter=5000, random_state=42, solver=&#x27;saga&#x27;)</pre></div></div></div><div class=\"sk-serial\"><div class=\"sk-item\"><div class=\"sk-estimator sk-toggleable\"><input class=\"sk-toggleable__control sk-hidden--visually\" id=\"sk-estimator-id-3\" type=\"checkbox\" ><label for=\"sk-estimator-id-3\" class=\"sk-toggleable__label sk-toggleable__label-arrow\">LogisticRegression</label><div class=\"sk-toggleable__content\"><pre>LogisticRegression(max_iter=5000, random_state=42, solver=&#x27;saga&#x27;)</pre></div></div></div></div></div></div></div></div></div></div>"
            ]
          },
          "metadata": {},
          "execution_count": 15
        }
      ],
      "source": [
        "from sklearn.feature_selection import RFE\n",
        "\n",
        "regr = RFE(LogisticRegression(solver='saga', max_iter=5000, random_state=42), n_features_to_select=40, step=10) # this takes forever\n",
        "regr.fit(X_train_minmax_scaled, y_train)\n"
      ],
      "id": "Vu-PzuKeTBSn"
    },
    {
      "cell_type": "code",
      "execution_count": 16,
      "metadata": {
        "id": "eF4CZo6XTBSn",
        "colab": {
          "base_uri": "https://localhost:8080/",
          "height": 354
        },
        "outputId": "d2bf2d51-ca7d-4fb4-f85b-450dcfd8a886"
      },
      "outputs": [
        {
          "output_type": "display_data",
          "data": {
            "text/plain": [
              "<IPython.core.display.HTML object>"
            ],
            "text/html": [
              "<h3>Logistic Regression RFE</h3>"
            ]
          },
          "metadata": {}
        },
        {
          "output_type": "display_data",
          "data": {
            "text/plain": [
              "       y_pred=0  y_pred=1 Total\n",
              "                               \n",
              "y=0           0        24    24\n",
              "y=1           3       287   290\n",
              "Total         3       311      "
            ],
            "text/html": [
              "\n",
              "  <div id=\"df-313b5616-c965-459c-865b-375b2d92800f\" class=\"colab-df-container\">\n",
              "    <div>\n",
              "<style scoped>\n",
              "    .dataframe tbody tr th:only-of-type {\n",
              "        vertical-align: middle;\n",
              "    }\n",
              "\n",
              "    .dataframe tbody tr th {\n",
              "        vertical-align: top;\n",
              "    }\n",
              "\n",
              "    .dataframe thead th {\n",
              "        text-align: right;\n",
              "    }\n",
              "</style>\n",
              "<table border=\"1\" class=\"dataframe\">\n",
              "  <thead>\n",
              "    <tr style=\"text-align: right;\">\n",
              "      <th></th>\n",
              "      <th>y_pred=0</th>\n",
              "      <th>y_pred=1</th>\n",
              "      <th>Total</th>\n",
              "    </tr>\n",
              "    <tr>\n",
              "      <th></th>\n",
              "      <th></th>\n",
              "      <th></th>\n",
              "      <th></th>\n",
              "    </tr>\n",
              "  </thead>\n",
              "  <tbody>\n",
              "    <tr>\n",
              "      <th>y=0</th>\n",
              "      <td>0</td>\n",
              "      <td>24</td>\n",
              "      <td>24</td>\n",
              "    </tr>\n",
              "    <tr>\n",
              "      <th>y=1</th>\n",
              "      <td>3</td>\n",
              "      <td>287</td>\n",
              "      <td>290</td>\n",
              "    </tr>\n",
              "    <tr>\n",
              "      <th>Total</th>\n",
              "      <td>3</td>\n",
              "      <td>311</td>\n",
              "      <td></td>\n",
              "    </tr>\n",
              "  </tbody>\n",
              "</table>\n",
              "</div>\n",
              "    <div class=\"colab-df-buttons\">\n",
              "\n",
              "  <div class=\"colab-df-container\">\n",
              "    <button class=\"colab-df-convert\" onclick=\"convertToInteractive('df-313b5616-c965-459c-865b-375b2d92800f')\"\n",
              "            title=\"Convert this dataframe to an interactive table.\"\n",
              "            style=\"display:none;\">\n",
              "\n",
              "  <svg xmlns=\"http://www.w3.org/2000/svg\" height=\"24px\" viewBox=\"0 -960 960 960\">\n",
              "    <path d=\"M120-120v-720h720v720H120Zm60-500h600v-160H180v160Zm220 220h160v-160H400v160Zm0 220h160v-160H400v160ZM180-400h160v-160H180v160Zm440 0h160v-160H620v160ZM180-180h160v-160H180v160Zm440 0h160v-160H620v160Z\"/>\n",
              "  </svg>\n",
              "    </button>\n",
              "\n",
              "  <style>\n",
              "    .colab-df-container {\n",
              "      display:flex;\n",
              "      gap: 12px;\n",
              "    }\n",
              "\n",
              "    .colab-df-convert {\n",
              "      background-color: #E8F0FE;\n",
              "      border: none;\n",
              "      border-radius: 50%;\n",
              "      cursor: pointer;\n",
              "      display: none;\n",
              "      fill: #1967D2;\n",
              "      height: 32px;\n",
              "      padding: 0 0 0 0;\n",
              "      width: 32px;\n",
              "    }\n",
              "\n",
              "    .colab-df-convert:hover {\n",
              "      background-color: #E2EBFA;\n",
              "      box-shadow: 0px 1px 2px rgba(60, 64, 67, 0.3), 0px 1px 3px 1px rgba(60, 64, 67, 0.15);\n",
              "      fill: #174EA6;\n",
              "    }\n",
              "\n",
              "    .colab-df-buttons div {\n",
              "      margin-bottom: 4px;\n",
              "    }\n",
              "\n",
              "    [theme=dark] .colab-df-convert {\n",
              "      background-color: #3B4455;\n",
              "      fill: #D2E3FC;\n",
              "    }\n",
              "\n",
              "    [theme=dark] .colab-df-convert:hover {\n",
              "      background-color: #434B5C;\n",
              "      box-shadow: 0px 1px 3px 1px rgba(0, 0, 0, 0.15);\n",
              "      filter: drop-shadow(0px 1px 2px rgba(0, 0, 0, 0.3));\n",
              "      fill: #FFFFFF;\n",
              "    }\n",
              "  </style>\n",
              "\n",
              "    <script>\n",
              "      const buttonEl =\n",
              "        document.querySelector('#df-313b5616-c965-459c-865b-375b2d92800f button.colab-df-convert');\n",
              "      buttonEl.style.display =\n",
              "        google.colab.kernel.accessAllowed ? 'block' : 'none';\n",
              "\n",
              "      async function convertToInteractive(key) {\n",
              "        const element = document.querySelector('#df-313b5616-c965-459c-865b-375b2d92800f');\n",
              "        const dataTable =\n",
              "          await google.colab.kernel.invokeFunction('convertToInteractive',\n",
              "                                                    [key], {});\n",
              "        if (!dataTable) return;\n",
              "\n",
              "        const docLinkHtml = 'Like what you see? Visit the ' +\n",
              "          '<a target=\"_blank\" href=https://colab.research.google.com/notebooks/data_table.ipynb>data table notebook</a>'\n",
              "          + ' to learn more about interactive tables.';\n",
              "        element.innerHTML = '';\n",
              "        dataTable['output_type'] = 'display_data';\n",
              "        await google.colab.output.renderOutput(dataTable, element);\n",
              "        const docLink = document.createElement('div');\n",
              "        docLink.innerHTML = docLinkHtml;\n",
              "        element.appendChild(docLink);\n",
              "      }\n",
              "    </script>\n",
              "  </div>\n",
              "\n",
              "\n",
              "<div id=\"df-8a9f3708-fc4c-4253-b121-ade428a32a39\">\n",
              "  <button class=\"colab-df-quickchart\" onclick=\"quickchart('df-8a9f3708-fc4c-4253-b121-ade428a32a39')\"\n",
              "            title=\"Suggest charts\"\n",
              "            style=\"display:none;\">\n",
              "\n",
              "<svg xmlns=\"http://www.w3.org/2000/svg\" height=\"24px\"viewBox=\"0 0 24 24\"\n",
              "     width=\"24px\">\n",
              "    <g>\n",
              "        <path d=\"M19 3H5c-1.1 0-2 .9-2 2v14c0 1.1.9 2 2 2h14c1.1 0 2-.9 2-2V5c0-1.1-.9-2-2-2zM9 17H7v-7h2v7zm4 0h-2V7h2v10zm4 0h-2v-4h2v4z\"/>\n",
              "    </g>\n",
              "</svg>\n",
              "  </button>\n",
              "\n",
              "<style>\n",
              "  .colab-df-quickchart {\n",
              "      --bg-color: #E8F0FE;\n",
              "      --fill-color: #1967D2;\n",
              "      --hover-bg-color: #E2EBFA;\n",
              "      --hover-fill-color: #174EA6;\n",
              "      --disabled-fill-color: #AAA;\n",
              "      --disabled-bg-color: #DDD;\n",
              "  }\n",
              "\n",
              "  [theme=dark] .colab-df-quickchart {\n",
              "      --bg-color: #3B4455;\n",
              "      --fill-color: #D2E3FC;\n",
              "      --hover-bg-color: #434B5C;\n",
              "      --hover-fill-color: #FFFFFF;\n",
              "      --disabled-bg-color: #3B4455;\n",
              "      --disabled-fill-color: #666;\n",
              "  }\n",
              "\n",
              "  .colab-df-quickchart {\n",
              "    background-color: var(--bg-color);\n",
              "    border: none;\n",
              "    border-radius: 50%;\n",
              "    cursor: pointer;\n",
              "    display: none;\n",
              "    fill: var(--fill-color);\n",
              "    height: 32px;\n",
              "    padding: 0;\n",
              "    width: 32px;\n",
              "  }\n",
              "\n",
              "  .colab-df-quickchart:hover {\n",
              "    background-color: var(--hover-bg-color);\n",
              "    box-shadow: 0 1px 2px rgba(60, 64, 67, 0.3), 0 1px 3px 1px rgba(60, 64, 67, 0.15);\n",
              "    fill: var(--button-hover-fill-color);\n",
              "  }\n",
              "\n",
              "  .colab-df-quickchart-complete:disabled,\n",
              "  .colab-df-quickchart-complete:disabled:hover {\n",
              "    background-color: var(--disabled-bg-color);\n",
              "    fill: var(--disabled-fill-color);\n",
              "    box-shadow: none;\n",
              "  }\n",
              "\n",
              "  .colab-df-spinner {\n",
              "    border: 2px solid var(--fill-color);\n",
              "    border-color: transparent;\n",
              "    border-bottom-color: var(--fill-color);\n",
              "    animation:\n",
              "      spin 1s steps(1) infinite;\n",
              "  }\n",
              "\n",
              "  @keyframes spin {\n",
              "    0% {\n",
              "      border-color: transparent;\n",
              "      border-bottom-color: var(--fill-color);\n",
              "      border-left-color: var(--fill-color);\n",
              "    }\n",
              "    20% {\n",
              "      border-color: transparent;\n",
              "      border-left-color: var(--fill-color);\n",
              "      border-top-color: var(--fill-color);\n",
              "    }\n",
              "    30% {\n",
              "      border-color: transparent;\n",
              "      border-left-color: var(--fill-color);\n",
              "      border-top-color: var(--fill-color);\n",
              "      border-right-color: var(--fill-color);\n",
              "    }\n",
              "    40% {\n",
              "      border-color: transparent;\n",
              "      border-right-color: var(--fill-color);\n",
              "      border-top-color: var(--fill-color);\n",
              "    }\n",
              "    60% {\n",
              "      border-color: transparent;\n",
              "      border-right-color: var(--fill-color);\n",
              "    }\n",
              "    80% {\n",
              "      border-color: transparent;\n",
              "      border-right-color: var(--fill-color);\n",
              "      border-bottom-color: var(--fill-color);\n",
              "    }\n",
              "    90% {\n",
              "      border-color: transparent;\n",
              "      border-bottom-color: var(--fill-color);\n",
              "    }\n",
              "  }\n",
              "</style>\n",
              "\n",
              "  <script>\n",
              "    async function quickchart(key) {\n",
              "      const quickchartButtonEl =\n",
              "        document.querySelector('#' + key + ' button');\n",
              "      quickchartButtonEl.disabled = true;  // To prevent multiple clicks.\n",
              "      quickchartButtonEl.classList.add('colab-df-spinner');\n",
              "      try {\n",
              "        const charts = await google.colab.kernel.invokeFunction(\n",
              "            'suggestCharts', [key], {});\n",
              "      } catch (error) {\n",
              "        console.error('Error during call to suggestCharts:', error);\n",
              "      }\n",
              "      quickchartButtonEl.classList.remove('colab-df-spinner');\n",
              "      quickchartButtonEl.classList.add('colab-df-quickchart-complete');\n",
              "    }\n",
              "    (() => {\n",
              "      let quickchartButtonEl =\n",
              "        document.querySelector('#df-8a9f3708-fc4c-4253-b121-ade428a32a39 button');\n",
              "      quickchartButtonEl.style.display =\n",
              "        google.colab.kernel.accessAllowed ? 'block' : 'none';\n",
              "    })();\n",
              "  </script>\n",
              "</div>\n",
              "    </div>\n",
              "  </div>\n"
            ],
            "application/vnd.google.colaboratory.intrinsic+json": {
              "type": "dataframe",
              "summary": "{\n  \"name\": \"display(classifier_stats(confusion_mtx))\",\n  \"rows\": 3,\n  \"fields\": [\n    {\n      \"column\": \"y_pred=0\",\n      \"properties\": {\n        \"dtype\": \"number\",\n        \"std\": 1,\n        \"min\": 0,\n        \"max\": 3,\n        \"num_unique_values\": 2,\n        \"samples\": [\n          3,\n          0\n        ],\n        \"semantic_type\": \"\",\n        \"description\": \"\"\n      }\n    },\n    {\n      \"column\": \"y_pred=1\",\n      \"properties\": {\n        \"dtype\": \"number\",\n        \"std\": 159,\n        \"min\": 24,\n        \"max\": 311,\n        \"num_unique_values\": 3,\n        \"samples\": [\n          24,\n          287\n        ],\n        \"semantic_type\": \"\",\n        \"description\": \"\"\n      }\n    },\n    {\n      \"column\": \"Total\",\n      \"properties\": {\n        \"dtype\": \"string\",\n        \"num_unique_values\": 3,\n        \"samples\": [\n          \"24\",\n          \"290\"\n        ],\n        \"semantic_type\": \"\",\n        \"description\": \"\"\n      }\n    }\n  ]\n}"
            }
          },
          "metadata": {}
        },
        {
          "output_type": "display_data",
          "data": {
            "text/plain": [
              "prior_error_rate                         0.076433\n",
              "total_error_rate                         0.085987\n",
              "true_positive_rate (sensitivity)         0.989655\n",
              "false_negative_rate                      0.010345\n",
              "false_positive_rate                      1.000000\n",
              "true_negative_rate (specificity)         0.000000\n",
              "positive_predictive_value (precision)    0.922830\n",
              "negative_predictive_value                0.000000\n",
              "dtype: float64"
            ]
          },
          "metadata": {}
        }
      ],
      "source": [
        "y_pred = regr.predict(X_test_minmax_scaled)\n",
        "\n",
        "display(HTML('<h3>{}</h3>'.format('Logistic Regression RFE')))\n",
        "confusion_mtx = confusion_matrix(y_test, y_pred)\n",
        "display(confusion_table(confusion_mtx))\n",
        "display(classifier_stats(confusion_mtx))"
      ],
      "id": "eF4CZo6XTBSn"
    },
    {
      "cell_type": "markdown",
      "metadata": {
        "id": "BjZviN3QTBSn"
      },
      "source": [
        "Plot ROC Curve"
      ],
      "id": "BjZviN3QTBSn"
    },
    {
      "cell_type": "code",
      "execution_count": 17,
      "metadata": {
        "id": "Iiy-TehMTBSn",
        "colab": {
          "base_uri": "https://localhost:8080/",
          "height": 489
        },
        "outputId": "788964a3-d98a-4f51-d04f-b024cd800454"
      },
      "outputs": [
        {
          "output_type": "stream",
          "name": "stdout",
          "text": [
            "AUC: 0.6081896551724139\n"
          ]
        },
        {
          "output_type": "display_data",
          "data": {
            "text/plain": [
              "<Figure size 640x480 with 1 Axes>"
            ],
            "image/png": "[encoded data removed]"
          },
          "metadata": {}
        }
      ],
      "source": [
        "%matplotlib inline\n",
        "\n",
        "# calculate the fpr and tpr for all thresholds of the classification\n",
        "probs = regr.predict_proba(X_test_minmax_scaled)\n",
        "preds = probs[:,1]\n",
        "fpr, tpr, threshold = metrics.roc_curve(y_test, preds, drop_intermediate=False) #drop_intermediate=False so we get all thresholds)\n",
        "roc_auc = metrics.auc(fpr, tpr)\n",
        "print(\"AUC: {}\".format(roc_auc))\n",
        "\n",
        "# Plot the ROC curve\n",
        "import matplotlib.pyplot as plt\n",
        "plt.title('Receiver Operating Characteristic')\n",
        "plt.plot(fpr, tpr, 'b', label = 'AUC = %0.2f' % roc_auc)\n",
        "plt.legend(loc = 'lower right')\n",
        "plt.plot([0, 1], [0, 1],'r--')\n",
        "plt.xlim([0, 1])\n",
        "plt.ylim([0, 1])\n",
        "plt.ylabel('True Positive Rate')\n",
        "plt.xlabel('False Positive Rate')\n",
        "plt.show()"
      ],
      "id": "Iiy-TehMTBSn"
    },
    {
      "cell_type": "markdown",
      "metadata": {
        "id": "p4zcxGqWTBSn"
      },
      "source": [
        "Question 3.1: Apply stratisfied tain test split to account for class imbalance"
      ],
      "id": "p4zcxGqWTBSn"
    },
    {
      "cell_type": "code",
      "execution_count": 18,
      "metadata": {
        "id": "qWM-tXqJTBSn"
      },
      "outputs": [],
      "source": [
        "from sklearn.model_selection import train_test_split\n",
        "X_train, X_test, y_train, y_test = train_test_split(X, y,\n",
        "                                                    stratify=y,\n",
        "                                                    test_size=0.2)\n",
        "\n",
        "X_train_minmax_scaled = mmscaler.fit_transform(X_train)\n",
        "X_test_minmax_scaled = mmscaler.fit_transform(X_test)"
      ],
      "id": "qWM-tXqJTBSn"
    },
    {
      "cell_type": "markdown",
      "metadata": {
        "id": "6GQfkU7CTBSo"
      },
      "source": [
        "Question 3.2: Apply RFE with a logistic regression model on the stratisfied training data testing out different number of features. Predict the test data and plot the ROC curve."
      ],
      "id": "6GQfkU7CTBSo"
    },
    {
      "cell_type": "code",
      "execution_count": 19,
      "metadata": {
        "id": "RFkCGWRWTBSo",
        "colab": {
          "base_uri": "https://localhost:8080/",
          "height": 118
        },
        "outputId": "3fb1444f-9ef4-4168-84b3-715e2f16a625"
      },
      "outputs": [
        {
          "output_type": "execute_result",
          "data": {
            "text/plain": [
              "RFE(estimator=LogisticRegression(max_iter=10000, random_state=42,\n",
              "                                 solver='saga'),\n",
              "    n_features_to_select=40, step=10)"
            ],
            "text/html": [
              "<style>#sk-container-id-2 {color: black;background-color: white;}#sk-container-id-2 pre{padding: 0;}#sk-container-id-2 div.sk-toggleable {background-color: white;}#sk-container-id-2 label.sk-toggleable__label {cursor: pointer;display: block;width: 100%;margin-bottom: 0;padding: 0.3em;box-sizing: border-box;text-align: center;}#sk-container-id-2 label.sk-toggleable__label-arrow:before {content: \"▸\";float: left;margin-right: 0.25em;color: #696969;}#sk-container-id-2 label.sk-toggleable__label-arrow:hover:before {color: black;}#sk-container-id-2 div.sk-estimator:hover label.sk-toggleable__label-arrow:before {color: black;}#sk-container-id-2 div.sk-toggleable__content {max-height: 0;max-width: 0;overflow: hidden;text-align: left;background-color: #f0f8ff;}#sk-container-id-2 div.sk-toggleable__content pre {margin: 0.2em;color: black;border-radius: 0.25em;background-color: #f0f8ff;}#sk-container-id-2 input.sk-toggleable__control:checked~div.sk-toggleable__content {max-height: 200px;max-width: 100%;overflow: auto;}#sk-container-id-2 input.sk-toggleable__control:checked~label.sk-toggleable__label-arrow:before {content: \"▾\";}#sk-container-id-2 div.sk-estimator input.sk-toggleable__control:checked~label.sk-toggleable__label {background-color: #d4ebff;}#sk-container-id-2 div.sk-label input.sk-toggleable__control:checked~label.sk-toggleable__label {background-color: #d4ebff;}#sk-container-id-2 input.sk-hidden--visually {border: 0;clip: rect(1px 1px 1px 1px);clip: rect(1px, 1px, 1px, 1px);height: 1px;margin: -1px;overflow: hidden;padding: 0;position: absolute;width: 1px;}#sk-container-id-2 div.sk-estimator {font-family: monospace;background-color: #f0f8ff;border: 1px dotted black;border-radius: 0.25em;box-sizing: border-box;margin-bottom: 0.5em;}#sk-container-id-2 div.sk-estimator:hover {background-color: #d4ebff;}#sk-container-id-2 div.sk-parallel-item::after {content: \"\";width: 100%;border-bottom: 1px solid gray;flex-grow: 1;}#sk-container-id-2 div.sk-label:hover label.sk-toggleable__label {background-color: #d4ebff;}#sk-container-id-2 div.sk-serial::before {content: \"\";position: absolute;border-left: 1px solid gray;box-sizing: border-box;top: 0;bottom: 0;left: 50%;z-index: 0;}#sk-container-id-2 div.sk-serial {display: flex;flex-direction: column;align-items: center;background-color: white;padding-right: 0.2em;padding-left: 0.2em;position: relative;}#sk-container-id-2 div.sk-item {position: relative;z-index: 1;}#sk-container-id-2 div.sk-parallel {display: flex;align-items: stretch;justify-content: center;background-color: white;position: relative;}#sk-container-id-2 div.sk-item::before, #sk-container-id-2 div.sk-parallel-item::before {content: \"\";position: absolute;border-left: 1px solid gray;box-sizing: border-box;top: 0;bottom: 0;left: 50%;z-index: -1;}#sk-container-id-2 div.sk-parallel-item {display: flex;flex-direction: column;z-index: 1;position: relative;background-color: white;}#sk-container-id-2 div.sk-parallel-item:first-child::after {align-self: flex-end;width: 50%;}#sk-container-id-2 div.sk-parallel-item:last-child::after {align-self: flex-start;width: 50%;}#sk-container-id-2 div.sk-parallel-item:only-child::after {width: 0;}#sk-container-id-2 div.sk-dashed-wrapped {border: 1px dashed gray;margin: 0 0.4em 0.5em 0.4em;box-sizing: border-box;padding-bottom: 0.4em;background-color: white;}#sk-container-id-2 div.sk-label label {font-family: monospace;font-weight: bold;display: inline-block;line-height: 1.2em;}#sk-container-id-2 div.sk-label-container {text-align: center;}#sk-container-id-2 div.sk-container {/* jupyter's `normalize.less` sets `[hidden] { display: none; }` but bootstrap.min.css set `[hidden] { display: none !important; }` so we also need the `!important` here to be able to override the default hidden behavior on the sphinx rendered scikit-learn.org. See: https://github.com/scikit-learn/scikit-learn/issues/21755 */display: inline-block !important;position: relative;}#sk-container-id-2 div.sk-text-repr-fallback {display: none;}</style><div id=\"sk-container-id-2\" class=\"sk-top-container\"><div class=\"sk-text-repr-fallback\"><pre>RFE(estimator=LogisticRegression(max_iter=10000, random_state=42,\n",
              "                                 solver=&#x27;saga&#x27;),\n",
              "    n_features_to_select=40, step=10)</pre><b>In a Jupyter environment, please rerun this cell to show the HTML representation or trust the notebook. <br />On GitHub, the HTML representation is unable to render, please try loading this page with nbviewer.org.</b></div><div class=\"sk-container\" hidden><div class=\"sk-item sk-dashed-wrapped\"><div class=\"sk-label-container\"><div class=\"sk-label sk-toggleable\"><input class=\"sk-toggleable__control sk-hidden--visually\" id=\"sk-estimator-id-4\" type=\"checkbox\" ><label for=\"sk-estimator-id-4\" class=\"sk-toggleable__label sk-toggleable__label-arrow\">RFE</label><div class=\"sk-toggleable__content\"><pre>RFE(estimator=LogisticRegression(max_iter=10000, random_state=42,\n",
              "                                 solver=&#x27;saga&#x27;),\n",
              "    n_features_to_select=40, step=10)</pre></div></div></div><div class=\"sk-parallel\"><div class=\"sk-parallel-item\"><div class=\"sk-item\"><div class=\"sk-label-container\"><div class=\"sk-label sk-toggleable\"><input class=\"sk-toggleable__control sk-hidden--visually\" id=\"sk-estimator-id-5\" type=\"checkbox\" ><label for=\"sk-estimator-id-5\" class=\"sk-toggleable__label sk-toggleable__label-arrow\">estimator: LogisticRegression</label><div class=\"sk-toggleable__content\"><pre>LogisticRegression(max_iter=10000, random_state=42, solver=&#x27;saga&#x27;)</pre></div></div></div><div class=\"sk-serial\"><div class=\"sk-item\"><div class=\"sk-estimator sk-toggleable\"><input class=\"sk-toggleable__control sk-hidden--visually\" id=\"sk-estimator-id-6\" type=\"checkbox\" ><label for=\"sk-estimator-id-6\" class=\"sk-toggleable__label sk-toggleable__label-arrow\">LogisticRegression</label><div class=\"sk-toggleable__content\"><pre>LogisticRegression(max_iter=10000, random_state=42, solver=&#x27;saga&#x27;)</pre></div></div></div></div></div></div></div></div></div></div>"
            ]
          },
          "metadata": {},
          "execution_count": 19
        }
      ],
      "source": [
        "regr = RFE(LogisticRegression(solver='saga', max_iter=10000, random_state=42), n_features_to_select=40, step=10)\n",
        "regr.fit(X_train_minmax_scaled, y_train)"
      ],
      "id": "RFkCGWRWTBSo"
    },
    {
      "cell_type": "code",
      "execution_count": 20,
      "metadata": {
        "id": "pDtgsUIsTBSo",
        "colab": {
          "base_uri": "https://localhost:8080/",
          "height": 489
        },
        "outputId": "6e6a81b7-9d63-4732-f1c6-c4b4b1108b1b"
      },
      "outputs": [
        {
          "output_type": "stream",
          "name": "stdout",
          "text": [
            "AUC: 0.6756053957419146\n"
          ]
        },
        {
          "output_type": "display_data",
          "data": {
            "text/plain": [
              "<Figure size 640x480 with 1 Axes>"
            ],
            "image/png": "[encoded data removed]"
          },
          "metadata": {}
        }
      ],
      "source": [
        "%matplotlib inline\n",
        "\n",
        "# calculate the fpr and tpr for all thresholds of the classification\n",
        "probs = regr.predict_proba(X_test_minmax_scaled)\n",
        "preds = probs[:,1]\n",
        "fpr, tpr, threshold = metrics.roc_curve(y_test, preds, drop_intermediate=False) #drop_intermediate=False so we get all thresholds)\n",
        "roc_auc = metrics.auc(fpr, tpr)\n",
        "print(\"AUC: {}\".format(roc_auc))\n",
        "\n",
        "# Plot the ROC curve\n",
        "import matplotlib.pyplot as plt\n",
        "plt.title('Receiver Operating Characteristic')\n",
        "plt.plot(fpr, tpr, 'b', label = 'AUC = %0.2f' % roc_auc)\n",
        "plt.legend(loc = 'lower right')\n",
        "plt.plot([0, 1], [0, 1],'r--')\n",
        "plt.xlim([0, 1])\n",
        "plt.ylim([0, 1])\n",
        "plt.ylabel('True Positive Rate')\n",
        "plt.xlabel('False Positive Rate')\n",
        "plt.show()\n",
        "\n"
      ],
      "id": "pDtgsUIsTBSo"
    },
    {
      "cell_type": "markdown",
      "metadata": {
        "id": "D7nFeBV-TBSo"
      },
      "source": [
        "Question 4.1: Apply stratisfied K-Fold split where K=5 to the above data"
      ],
      "id": "D7nFeBV-TBSo"
    },
    {
      "cell_type": "code",
      "execution_count": 25,
      "metadata": {
        "id": "NkVhYIurTBSo",
        "colab": {
          "base_uri": "https://localhost:8080/"
        },
        "outputId": "2e62c674-027b-43b7-bccd-035530577028"
      },
      "outputs": [
        {
          "output_type": "stream",
          "name": "stdout",
          "text": [
            "List of possible accuracy: [0.9299363057324841, 0.9331210191082803, 0.9233226837060703, 0.9361022364217252, 0.9297124600638977]\n",
            "\n",
            "Maximum Accuracy That can be obtained from this model is: 93.61022364217251 %\n",
            "\n",
            "Minimum Accuracy: 92.33226837060703 %\n",
            "\n",
            "Overall Accuracy: 93.04389410064915 %\n",
            "\n",
            "Standard Deviation is: 0.004761512171798165\n"
          ]
        }
      ],
      "source": [
        "from sklearn.model_selection import StratifiedKFold\n",
        "from statistics import mean, stdev\n",
        "\n",
        "skf = StratifiedKFold(n_splits=5, shuffle=True, random_state=42)\n",
        "list_accu_stratified = []\n",
        "\n",
        "k_logregr = LogisticRegression(solver='saga', max_iter=5000, random_state=42)\n",
        "\n",
        "x_scaled = mmscaler.fit_transform(X)\n",
        "\n",
        "for train_index, test_index in skf.split(X, y):\n",
        "    x_train_fold, x_test_fold = x_scaled[train_index], x_scaled[test_index]\n",
        "    y_train_fold, y_test_fold = y[train_index], y[test_index]\n",
        "    k_logregr.fit(x_train_fold, y_train_fold)\n",
        "    list_accu_stratified.append(k_logregr.score(x_test_fold, y_test_fold))\n",
        "\n",
        "# Taken from https://www.geeksforgeeks.org/stratified-k-fold-cross-validation/#\n",
        "print('List of possible accuracy:', list_accu_stratified)\n",
        "print('\\nMaximum Accuracy That can be obtained from this model is:',\n",
        "      max(list_accu_stratified)*100, '%')\n",
        "print('\\nMinimum Accuracy:',\n",
        "      min(list_accu_stratified)*100, '%')\n",
        "print('\\nOverall Accuracy:',\n",
        "      mean(list_accu_stratified)*100, '%')\n",
        "print('\\nStandard Deviation is:', stdev(list_accu_stratified))"
      ],
      "id": "NkVhYIurTBSo"
    },
    {
      "cell_type": "markdown",
      "metadata": {
        "id": "DEPdq8J2TBSo"
      },
      "source": [
        "Implement the model and then create the ROC Curve"
      ],
      "id": "DEPdq8J2TBSo"
    },
    {
      "cell_type": "code",
      "execution_count": 26,
      "metadata": {
        "id": "Omba0272TBSo",
        "colab": {
          "base_uri": "https://localhost:8080/",
          "height": 489
        },
        "outputId": "a0b7830a-a74e-4ab8-a0f3-b785b7fa7473"
      },
      "outputs": [
        {
          "output_type": "stream",
          "name": "stdout",
          "text": [
            "AUC: 0.9327157484154072\n"
          ]
        },
        {
          "output_type": "display_data",
          "data": {
            "text/plain": [
              "<Figure size 640x480 with 1 Axes>"
            ],
            "image/png": "[encoded data removed]"
          },
          "metadata": {}
        }
      ],
      "source": [
        "# Plot the ROC curve\n",
        "%matplotlib inline\n",
        "\n",
        "# calculate the fpr and tpr for all thresholds of the classification\n",
        "probs = k_logregr.predict_proba(X_test_minmax_scaled)\n",
        "preds = probs[:,1]\n",
        "fpr, tpr, threshold = metrics.roc_curve(y_test, preds, drop_intermediate=False) #drop_intermediate=False so we get all thresholds)\n",
        "roc_auc = metrics.auc(fpr, tpr)\n",
        "print(\"AUC: {}\".format(roc_auc))\n",
        "\n",
        "# Plot the ROC curve\n",
        "import matplotlib.pyplot as plt\n",
        "plt.title('Receiver Operating Characteristic')\n",
        "plt.plot(fpr, tpr, 'b', label = 'AUC = %0.2f' % roc_auc)\n",
        "plt.legend(loc = 'lower right')\n",
        "plt.plot([0, 1], [0, 1],'r--')\n",
        "plt.xlim([0, 1])\n",
        "plt.ylim([0, 1])\n",
        "plt.ylabel('True Positive Rate')\n",
        "plt.xlabel('False Positive Rate')\n",
        "plt.show()\n"
      ],
      "id": "Omba0272TBSo"
    },
    {
      "cell_type": "markdown",
      "metadata": {
        "id": "2pOzApDxTBSo"
      },
      "source": [
        "Question 4.2: Summarize your findings of all above models"
      ],
      "id": "2pOzApDxTBSo"
    },
    {
      "cell_type": "markdown",
      "source": [
        "# Analysis\n",
        "\n",
        "Stratified K-Fold blows the rest of these model evaluations out of the water with a max accuracy of 93.61022364217251 ! The other RFE models are extremely slow to generate, and the end result is marginal increases in model quality. The default logistic regression without RFE is actually better than the logreg with some RFE, but that could be mitigated potentially by different steps or number of features. The other models are better in some ways but RFE being computationally expensive seems to limit it's usability.\n",
        "\n",
        "Scaling the data seems almost necessary if doing this in a Colab environment, and I used the Saga solver and iterations of 5000 across the board to ensure convergence."
      ],
      "metadata": {
        "id": "9DW7W8L5WBg-"
      },
      "id": "9DW7W8L5WBg-"
    },
    {
      "cell_type": "code",
      "execution_count": 26,
      "metadata": {
        "id": "uQLXYXlbTBSo"
      },
      "outputs": [],
      "source": [],
      "id": "uQLXYXlbTBSo"
    },
    {
      "cell_type": "markdown",
      "metadata": {
        "id": "a1vL7I-MTBSo"
      },
      "source": [
        "<h3> Question 5. Create a new text cell in your Notebook: Complete a 50-100 word summary\n",
        "    (or short description of your thinking in applying this week's learning to the solution)\n",
        "     of your experience in this assignment. Include:\n",
        "<br>                                                                       \n",
        "What was your incoming experience with this model, if any?\n",
        "what steps you took, what obstacles you encountered.\n",
        "how you link this exercise to real-world, machine learning problem-solving. (What steps were missing? What else do you need to learn?)\n",
        "This summary allows your instructor to know how you are doing and allot points for your effort in thinking and planning, and making connections to real-world work.\n",
        "</h3>"
      ],
      "id": "a1vL7I-MTBSo"
    },
    {
      "cell_type": "markdown",
      "source": [
        "# Question 5\n",
        "\n",
        "* No previous experience. Pretty new to this whole machine learning thing, other than some of the work we did in previous assignments and in the case studies.\n",
        "* I like to use the lecture + online resources to help guide me in terms of the actual execution of the labs. I also like to reference my previous notebooks and case studies.\n",
        "* Obstacles: RFE IS HORRIBLY SLOW. It takes so long. Increasing the step seems to help, but even then for such a large dataset it can take minutes. Since I did this on Colab, the runtime gets quite slow and will hang occasionally.\n",
        "* I think scaling this dataset is a good way to get the LogRegressions to converge faster, and increases performance of the RFE as well. This step was missing.\n",
        "* I also wanted to use seaborn just to look at all the sensor data in a pairplot/histplot setup but it took forever to generate."
      ],
      "metadata": {
        "id": "GeEVl6CfQbJ3"
      },
      "id": "GeEVl6CfQbJ3"
    },
    {
      "cell_type": "code",
      "execution_count": 26,
      "metadata": {
        "id": "jN4bJvZDTBSo"
      },
      "outputs": [],
      "source": [],
      "id": "jN4bJvZDTBSo"
    }
  ],
  "metadata": {
    "kernelspec": {
      "display_name": "Python 3",
      "language": "python",
      "name": "python3"
    },
    "language_info": {
      "codemirror_mode": {
        "name": "ipython",
        "version": 3
      },
      "file_extension": ".py",
      "mimetype": "text/x-python",
      "name": "python",
      "nbconvert_exporter": "python",
      "pygments_lexer": "ipython3",
      "version": "3.7.3"
    },
    "colab": {
      "provenance": []
    }
  },
  "nbformat": 4,
  "nbformat_minor": 5
}