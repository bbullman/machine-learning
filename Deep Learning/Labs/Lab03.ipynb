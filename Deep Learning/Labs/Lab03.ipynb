{
  "cells": [
    {
      "cell_type": "markdown",
      "metadata": {
        "nbgrader": {
          "grade": false,
          "locked": false,
          "solution": false
        },
        "id": "2jNWqNNrVcj9"
      },
      "source": [
        "# Goals of this Activity\n",
        "\n",
        "\n",
        "## 1. Implement convolution\n",
        "Given an n,m RGB image as a numpy array and a k x k x 3 convolution filter. Implement the\n",
        "convolution operation with ‘same’ padding without using higher level functions like conv2d from tensorflow, or convolve from numpy."
      ]
    },
    {
      "cell_type": "code",
      "execution_count": 5,
      "metadata": {
        "collapsed": true,
        "colab": {
          "base_uri": "https://localhost:8080/"
        },
        "id": "Wr035YBBVcj_",
        "outputId": "ce1f6a7a-55a0-48e4-e06c-8ff48085e8d8"
      },
      "outputs": [
        {
          "output_type": "stream",
          "name": "stdout",
          "text": [
            "[[[-13.  -7.  -8.]\n",
            "  [-10.   8.   4.]\n",
            "  [ 11.  -2.   2.]\n",
            "  [ 11.  10.  10.]]\n",
            "\n",
            " [[-22. -16. -15.]\n",
            "  [-13.   6.   1.]\n",
            "  [ 11.   4.   9.]\n",
            "  [ 19.  14.  19.]]\n",
            "\n",
            " [[-21. -16. -22.]\n",
            "  [ -6.   2.  10.]\n",
            "  [  2.   2.  17.]\n",
            "  [ 19.  14.  11.]]\n",
            "\n",
            " [[-12. -13. -14.]\n",
            "  [ -1.  -1.   3.]\n",
            "  [ -5.   7.  14.]\n",
            "  [ 13.   8.  10.]]]\n"
          ]
        }
      ],
      "source": [
        "import numpy as np\n",
        "\n",
        "def convolve(image, kernel):\n",
        "    # Get the input image shape\n",
        "    img_h, img_w, img_d = image.shape\n",
        "    # Get the kernel shape\n",
        "    kern_h, kern_w = kernel.shape\n",
        "\n",
        "    # Padding dimensions and then make a padded image by calculating and zeroing the padded area\n",
        "    # (k - 1) / 2 from the lecture, just use floor division\n",
        "    pad_h = (kern_h - 1) // 2 #kern_h // 2\n",
        "    pad_w = (kern_w - 1) // 2 #kern_w // 2\n",
        "    padded_img = np.pad(image, ((pad_h, pad_h), (pad_w, pad_w), (0, 0)), mode='constant')\n",
        "\n",
        "    # Create the output shape, in same padding we need to make sure it's the same size\n",
        "    out_h = img_h\n",
        "    out_w = img_w\n",
        "    # Zero the output image shape\n",
        "    out = np.zeros((out_h, out_w, img_d))\n",
        "\n",
        "    # Do some matrix multiplication by the kernel while moving across the image\n",
        "    for i in range(out_h):\n",
        "      for j in range(out_w):\n",
        "        for d in range(img_d):\n",
        "          # Output pixels are summed as padded image (i, j) multiplied by the kernel\n",
        "          out[i, j, d] = np.sum(padded_img[i: i+kern_h, j: j+kern_w, d] * kernel)\n",
        "\n",
        "    return out\n",
        "\n",
        "im = np.array(\n",
        "    [[[0, 9, 6], [4, 4, 0], [5, 4, 9], [0, 1, 1]],\n",
        "     [[1, 9, 8], [9, 3, 8], [6, 6, 1], [2, 8, 5]],\n",
        "     [[5, 2, 6], [9, 9, 7], [8, 4, 9], [9, 3, 0]],\n",
        "     [[7, 5, 7], [3, 4, 7], [5, 4, 1], [8, 3, 0]]])\n",
        "kernel = np.array(\n",
        "     [[1, 0, -1],\n",
        "      [1, 0, -1],\n",
        "      [1, 0, -1]])\n",
        "\n",
        "result = convolve(im, kernel)\n",
        "print(result)"
      ]
    },
    {
      "cell_type": "markdown",
      "metadata": {
        "nbgrader": {
          "grade": false,
          "locked": true,
          "solution": false
        },
        "id": "8czG7EwMVckB"
      },
      "source": [
        "## 2. Implement max_pool\n",
        "Given a grayscale image as a numpy array. We are also given a k by k max pooling filter with a stride of 1. Implement the max_pool operation without using higher level functions like block_reduce."
      ]
    },
    {
      "cell_type": "code",
      "execution_count": 6,
      "metadata": {
        "collapsed": true,
        "colab": {
          "base_uri": "https://localhost:8080/"
        },
        "id": "9-U-8X0iVckB",
        "outputId": "5aafbc5c-a9be-439e-ec79-af9f1e26ff65"
      },
      "outputs": [
        {
          "output_type": "stream",
          "name": "stdout",
          "text": [
            "[[5. 3. 4.]\n",
            " [5. 3. 7.]\n",
            " [9. 3. 7.]]\n"
          ]
        }
      ],
      "source": [
        "import numpy as np\n",
        "\n",
        "def max_pool(image, k):\n",
        "    # Get input shape\n",
        "    img_h, img_w = image.shape #img_d unused\n",
        "\n",
        "    # Output shape has stride 1\n",
        "    # d - k + 1 from the slides\n",
        "    out_h = img_h - k + 1\n",
        "    out_w = img_w - k + 1\n",
        "    out = np.zeros((out_h, out_w))\n",
        "\n",
        "    # Get max value from each region by patching kernel\n",
        "    for i in range(out_h):\n",
        "      for j in range(out_w):\n",
        "        # multiply each pixel by the kernel\n",
        "        patch = image[i: i + k, j: j + k]\n",
        "        out[i, j] = np.max(patch)\n",
        "    return out\n",
        "\n",
        "im = np.array([[1, 2, 0, 0], [5, 3, 0, 4], [0, 0, 0, 7], [9, 3, 0, 0]])\n",
        "kernel_size = 2\n",
        "\n",
        "result = max_pool(im, kernel_size)\n",
        "print(result)"
      ]
    },
    {
      "cell_type": "markdown",
      "source": [
        "# Analysis\n",
        "\n",
        "1. Question 1 is simple in concept - we take the kernel and use it to calculate the size of the padded image using the formula from the lecture slides (you can in essence use any formula that works and won't throw an error here, so you can tweak things). We generate the output image and iterate over it sequentially which unfortunately is O(N*M*D) but D is constant with 3 channel RGB. There isn't a model per se, just a transformation happening. the output has the same size as the input but has different values for the \"pixels.\"\n",
        "\n",
        "2. Question 2 - similar to 1, but with a patch and we use the max function instead. This results in a \"pooled\" output (max) of the input values. The result is a pooled smaller matrix of \"pixels.\"\n",
        "\n",
        "3. You can do a lot with the functions, there's lots of tweaks you can do with stride and other mathematical transforms.\n"
      ],
      "metadata": {
        "id": "4uZ5eJHh0NJN"
      }
    },
    {
      "cell_type": "code",
      "execution_count": null,
      "metadata": {
        "collapsed": true,
        "id": "RttESo8sVckC"
      },
      "outputs": [],
      "source": [
        "%%shell\n",
        "\n",
        "jupyter nbconvert --to html /content/Lab03.ipynb"
      ]
    }
  ],
  "metadata": {
    "kernelspec": {
      "display_name": "Python 3 (ipykernel)",
      "language": "python",
      "name": "python3"
    },
    "language_info": {
      "codemirror_mode": {
        "name": "ipython",
        "version": 3
      },
      "file_extension": ".py",
      "mimetype": "text/x-python",
      "name": "python",
      "nbconvert_exporter": "python",
      "pygments_lexer": "ipython3",
      "version": "3.7.16"
    },
    "colab": {
      "provenance": []
    }
  },
  "nbformat": 4,
  "nbformat_minor": 0
}