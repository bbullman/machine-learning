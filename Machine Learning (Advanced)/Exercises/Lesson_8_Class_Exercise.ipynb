{
 "cells": [
  {
   "cell_type": "markdown",
   "metadata": {},
   "source": [
    "# Class Exercise 8"
   ]
  },
  {
   "cell_type": "markdown",
   "metadata": {},
   "source": [
    "Recommender systems are algorithms that suggest items to users based on their preferences or past behavior. This exercise will guide students through creating different types of recommender systems in Python, focusing on collaborative filtering and content-based filtering.\n",
    "\n",
    "In this exercise, you will create:\n",
    "\n",
    "1. Collaborative Filtering\n",
    "\n",
    "   - Question 1: Create a user-item matrix.\n",
    "   - Question 2: Implement user-based collaborative filtering using the Pearson correlation similarity metric.\n",
    "   - Question 3: Make recommendations for a specific user.\n",
    "2. Content-Based Filtering\n",
    "\n",
    "   - Question 4: Extract relevant features from the dataset (e.g., genres, keywords).\n",
    "   - Question 5: Calculate item similarity using cosine similarity.\n",
    "   - Question 6: Make recommendations based on item similarity.\n",
    "   \n",
    "## Dataset\n",
    "We'll use the MovieLens dataset, a popular choice for recommender system research. Download it from https://movielens.org/.\n",
    "\n"
   ]
  },
  {
   "cell_type": "code",
   "execution_count": 1,
   "metadata": {},
   "outputs": [
    {
     "name": "stdout",
     "output_type": "stream",
     "text": [
      "Requirement already satisfied: pandas in c:\\users\\mam_0\\anaconda3\\lib\\site-packages (2.2.1)\n",
      "Requirement already satisfied: numpy in c:\\users\\mam_0\\anaconda3\\lib\\site-packages (1.26.4)\n",
      "Requirement already satisfied: surprise in c:\\users\\mam_0\\anaconda3\\lib\\site-packages (0.1)\n",
      "Requirement already satisfied: python-dateutil>=2.8.2 in c:\\users\\mam_0\\anaconda3\\lib\\site-packages (from pandas) (2.8.2)\n",
      "Requirement already satisfied: pytz>=2020.1 in c:\\users\\mam_0\\anaconda3\\lib\\site-packages (from pandas) (2023.4)\n",
      "Requirement already satisfied: tzdata>=2022.7 in c:\\users\\mam_0\\anaconda3\\lib\\site-packages (from pandas) (2023.3)\n",
      "Requirement already satisfied: scikit-surprise in c:\\users\\mam_0\\anaconda3\\lib\\site-packages (from surprise) (1.1.3)\n",
      "Requirement already satisfied: six>=1.5 in c:\\users\\mam_0\\anaconda3\\lib\\site-packages (from python-dateutil>=2.8.2->pandas) (1.16.0)\n",
      "Requirement already satisfied: joblib>=1.0.0 in c:\\users\\mam_0\\anaconda3\\lib\\site-packages (from scikit-surprise->surprise) (1.4.2)\n",
      "Requirement already satisfied: scipy>=1.3.2 in c:\\users\\mam_0\\anaconda3\\lib\\site-packages (from scikit-surprise->surprise) (1.13.0)\n",
      "Note: you may need to restart the kernel to use updated packages.\n"
     ]
    }
   ],
   "source": [
    "pip install pandas numpy surprise\n"
   ]
  },
  {
   "cell_type": "code",
   "execution_count": 2,
   "metadata": {},
   "outputs": [],
   "source": [
    "import pandas as pd\n",
    "import numpy as np\n",
    "from surprise import Reader, Dataset, SVD, accuracy\n",
    "from sklearn.metrics.pairwise import cosine_similarity"
   ]
  },
  {
   "cell_type": "code",
   "execution_count": 3,
   "metadata": {},
   "outputs": [
    {
     "name": "stdout",
     "output_type": "stream",
     "text": [
      "Number of users: 610\n",
      "Number of items: 9724\n",
      "Average rating: 3.501556983616962\n",
      "rating\n",
      "4.0    26818\n",
      "3.0    20047\n",
      "5.0    13211\n",
      "3.5    13136\n",
      "4.5     8551\n",
      "2.0     7551\n",
      "2.5     5550\n",
      "1.0     2811\n",
      "1.5     1791\n",
      "0.5     1370\n",
      "Name: count, dtype: int64\n"
     ]
    }
   ],
   "source": [
    "# Load the ratings data\n",
    "ratings_df = pd.read_csv('ml-latest-small/ratings.csv')\n",
    "\n",
    "# Explore the dataset\n",
    "print(\"Number of users:\", ratings_df['userId'].nunique())\n",
    "print(\"Number of items:\", ratings_df['movieId'].nunique())\n",
    "print(\"Average rating:\", ratings_df['rating'].mean())\n",
    "\n",
    "# Rating distribution\n",
    "print(ratings_df['rating'].value_counts())"
   ]
  },
  {
   "cell_type": "markdown",
   "metadata": {},
   "source": [
    "# Collaborative Filtering: User-Based\n",
    "\n",
    "- Create a Surprise Dataset object.\n",
    "- Train a user-based collaborative filtering model (SVD).\n",
    "- Predict ratings for a sample of users and items.\n",
    "- Evaluate the model using RMSE."
   ]
  },
  {
   "cell_type": "markdown",
   "metadata": {},
   "source": [
    "## Question 1: Create a Surprise Dataset with ['userId', 'movieId', 'rating']\n"
   ]
  },
  {
   "cell_type": "code",
   "execution_count": null,
   "metadata": {},
   "outputs": [],
   "source": []
  },
  {
   "cell_type": "markdown",
   "metadata": {},
   "source": [
    "## Question 2: Train a user-based SVD model\n"
   ]
  },
  {
   "cell_type": "code",
   "execution_count": null,
   "metadata": {},
   "outputs": [],
   "source": []
  },
  {
   "cell_type": "markdown",
   "metadata": {},
   "source": [
    "## Question 3: Predict ratings for a sample"
   ]
  },
  {
   "cell_type": "code",
   "execution_count": null,
   "metadata": {},
   "outputs": [],
   "source": []
  },
  {
   "cell_type": "markdown",
   "metadata": {},
   "source": [
    "## Question 4: Evaluate the model\n"
   ]
  },
  {
   "cell_type": "code",
   "execution_count": null,
   "metadata": {},
   "outputs": [],
   "source": []
  },
  {
   "cell_type": "markdown",
   "metadata": {},
   "source": [
    "##  Collaborative Filtering: Item-Based\n",
    "\n",
    "- Train an item-based collaborative filtering model.\n",
    "- Predict ratings for the same sample.\n",
    "- Evaluate the model."
   ]
  },
  {
   "cell_type": "markdown",
   "metadata": {},
   "source": [
    "## Question 5: Create user-item matrix using pivot method\n"
   ]
  },
  {
   "cell_type": "code",
   "execution_count": null,
   "metadata": {},
   "outputs": [],
   "source": []
  },
  {
   "cell_type": "markdown",
   "metadata": {},
   "source": [
    "## Question 6: Calculate cosine similarity between users\n"
   ]
  },
  {
   "cell_type": "code",
   "execution_count": null,
   "metadata": {},
   "outputs": [],
   "source": []
  },
  {
   "cell_type": "markdown",
   "metadata": {},
   "source": [
    "## Question 7: Find similarity to use 101 by identifing users similar to a given user by finding the highest cosine similarity values.\n",
    "\n"
   ]
  },
  {
   "cell_type": "code",
   "execution_count": null,
   "metadata": {},
   "outputs": [],
   "source": []
  },
  {
   "cell_type": "markdown",
   "metadata": {},
   "source": [
    "## Question 8: Make recommendations by using the ratings of similar users to recommend items to the target user. Show top 10 recommendations.\n",
    "\n"
   ]
  },
  {
   "cell_type": "code",
   "execution_count": null,
   "metadata": {},
   "outputs": [],
   "source": []
  },
  {
   "cell_type": "markdown",
   "metadata": {},
   "source": [
    "## Content-Based Filtering\n",
    "- Load additional data (e.g., movie metadata) if necessary.\n",
    "- Extract relevant features from the data.\n"
   ]
  },
  {
   "cell_type": "code",
   "execution_count": 4,
   "metadata": {},
   "outputs": [],
   "source": [
    "# Load movie metadata\n",
    "movies = pd.read_csv(\"ml-latest-small/movies.csv\")\n",
    "\n",
    "# Extract features (e.g., genres)\n",
    "movie_features = movies[['movieId', 'genres']]"
   ]
  },
  {
   "cell_type": "markdown",
   "metadata": {},
   "source": [
    "## Question 9: Create a TF-IDF matrix based on movie genres\n"
   ]
  },
  {
   "cell_type": "code",
   "execution_count": null,
   "metadata": {},
   "outputs": [],
   "source": []
  },
  {
   "cell_type": "markdown",
   "metadata": {},
   "source": [
    "## Question 10: Recommend top 5 items based on content similarity.\n"
   ]
  },
  {
   "cell_type": "code",
   "execution_count": null,
   "metadata": {},
   "outputs": [],
   "source": []
  },
  {
   "cell_type": "markdown",
   "metadata": {},
   "source": [
    "## Question 11: Print recommendations for movie 122.\n"
   ]
  },
  {
   "cell_type": "code",
   "execution_count": null,
   "metadata": {},
   "outputs": [],
   "source": []
  }
 ],
 "metadata": {
  "anaconda-cloud": {},
  "kernelspec": {
   "display_name": "Python 3 (ipykernel)",
   "language": "python",
   "name": "python3"
  },
  "language_info": {
   "codemirror_mode": {
    "name": "ipython",
    "version": 3
   },
   "file_extension": ".py",
   "mimetype": "text/x-python",
   "name": "python",
   "nbconvert_exporter": "python",
   "pygments_lexer": "ipython3",
   "version": "3.10.14"
  }
 },
 "nbformat": 4,
 "nbformat_minor": 4
}
