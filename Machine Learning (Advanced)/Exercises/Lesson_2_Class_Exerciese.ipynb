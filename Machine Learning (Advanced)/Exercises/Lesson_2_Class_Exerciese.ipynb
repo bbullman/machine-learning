{
 "cells": [
  {
   "cell_type": "markdown",
   "id": "18314226",
   "metadata": {},
   "source": [
    "# Lesson 2 Class Exercise\n",
    "\n",
    "This in-class exercise will explore decision trees by comparing them to a rule-based approach. We'll use a dataset to predict if someone is likely to buy a new smartphone based on age and income.\n",
    "\n"
   ]
  },
  {
   "cell_type": "code",
   "execution_count": null,
   "id": "0d79b293",
   "metadata": {},
   "outputs": [],
   "source": [
    "import pandas as pd\n",
    "from sklearn.tree import DecisionTreeClassifier\n",
    "\n",
    "# Create a pandas DataFrame from the given data\n",
    "data = {\n",
    "    \"Age\": [25, 35, 40, 18, 50, 28, 38, 19, 45],\n",
    "    \"Income\": [50000, 70000, 40000, 30000, 60000, 80000, 55000, 25000, 75000],\n",
    "    \"Buys Smartphone\": [\"Yes\", \"Yes\", \"No\", \"No\", \"Yes\", \"Yes\", \"Yes\", \"No\", \"Yes\"]\n",
    "}\n",
    "\n",
    "df = pd.DataFrame(data)\n",
    "\n",
    "# Separate features (X) and target variable (y)\n",
    "X = df[[\"Age\", \"Income\"]]\n",
    "y = df[\"Buys Smartphone\"]"
   ]
  },
  {
   "cell_type": "markdown",
   "id": "2819ebb7",
   "metadata": {},
   "source": [
    "## Quest 1: Manual Rules (5 minutes)\n",
    "\n",
    "Write a function that takes an age and income as input and predicts if someone will buy a smartphone based on rules maunally generated rules. (Hint: Explore the data and come up with rules)"
   ]
  },
  {
   "cell_type": "code",
   "execution_count": null,
   "id": "86a275e4",
   "metadata": {},
   "outputs": [],
   "source": [
    "#Code goes here"
   ]
  },
  {
   "cell_type": "markdown",
   "id": "08039e8f",
   "metadata": {},
   "source": [
    "## Quest 2: Building a Decision Tree (5 minutes)\n",
    "- Import sklearn.tree library as tree.\n",
    "- Create a DecisionTreeClassifier object with criterion=\"gini\" (information gain).\n",
    "- Fit the decision tree to the provided data using X_train (containing age and income) and y_train (containing \"Buys Smartphone\")."
   ]
  },
  {
   "cell_type": "code",
   "execution_count": 3,
   "id": "2875750e",
   "metadata": {},
   "outputs": [],
   "source": [
    "#Code goes here"
   ]
  },
  {
   "cell_type": "markdown",
   "id": "4c276fdd",
   "metadata": {},
   "source": [
    "## Quest 3: Comparing Predictions (5 minutes)\n",
    "- Use the trained decision tree model to predict the smartphone buying behavior for a new person based on these scenarios:\n",
    "  -   Scenarios 1-4: Age variations:\n",
    "\n",
    "      - Age 22, Income 55000 (Younger than manual rule threshold)\n",
    "      - Age 38, Income 38000 (Near the manual rule income threshold)\n",
    "      - Age 42, Income 72000 (Older than manual rule threshold)\n",
    "      - Age 16, Income 20000 (Very young with low income)\n",
    "  - Scenarios 5-8: Income variations:\n",
    "\n",
    "    - Age 28, Income 22000 (Young with low income)\n",
    "    - Age 35, Income 85000 (Income exceeding manual rule threshold by a lot)\n",
    "    - Age 50, Income 48000 (Older with moderate income)\n",
    "    - Age 19, Income 62000 (Very young with high income)\n",
    "   - Scenarios 9-10: Edge cases:\n",
    "\n",
    "     - Age 30, Income 60000 (Exactly at the manual rule threshold for age)\n",
    "     - Age 40, Income 60000 (Exactly at the manual rule threshold for income)\n",
    "- Compare the prediction from the decision tree model with the prediction from your manual rules function (Quest 1).\n"
   ]
  },
  {
   "cell_type": "code",
   "execution_count": null,
   "id": "687b7348",
   "metadata": {},
   "outputs": [],
   "source": []
  }
 ],
 "metadata": {
  "kernelspec": {
   "display_name": "Python 3 (ipykernel)",
   "language": "python",
   "name": "python3"
  },
  "language_info": {
   "codemirror_mode": {
    "name": "ipython",
    "version": 3
   },
   "file_extension": ".py",
   "mimetype": "text/x-python",
   "name": "python",
   "nbconvert_exporter": "python",
   "pygments_lexer": "ipython3",
   "version": "3.10.14"
  }
 },
 "nbformat": 4,
 "nbformat_minor": 5
}
