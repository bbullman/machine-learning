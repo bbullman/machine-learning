{
  "cells": [
    {
      "cell_type": "markdown",
      "metadata": {
        "id": "qnsLmk57nH8t"
      },
      "source": [
        "# Multiclass Classification\n",
        "\n",
        "While binary classifiers are used to distinguish between two classes (e.g. detect if a transaction is a fraudulent one, classify an email into either spam or non-spam and etc.), multiclass classifiers distinguish between more than two classes.\n",
        "\n",
        "There are various ways that we can use to perform multiclass classification by leveraging any binary classifiers. In this exercise, you will implement two such strategies for multiclass classification: _One-versus-all_ strategy and _One-versus-one_ strategy.\n",
        "\n",
        "- **One-versus-all (OvA)**: In this strategy, we train a single binary classifier per class, with the samples of that class as positive samples and all other samples as negatives. During inference, we get the prediction from each classifier and select the class with the highest score. This strategy is also called the one-versus-the-rest strtegey.\n",
        "\n",
        "- **One-versus-one (OvO)**: In this strategy, we train a binary classifier for every pair of classes. If there are N classes in the problem, you need to train N * (N-1) / 2 classifiers. During inference, we have to run through all N * (N-1) / 2 classifiers and ses which class wins the most votes. The main advantage of OvO strategy is that each binary classifier only needs to be train on the part of the training dataset for the two classes that it needs to separate."
      ]
    },
    {
      "cell_type": "code",
      "execution_count": 347,
      "metadata": {
        "id": "3XJdWUOYnH8u"
      },
      "outputs": [],
      "source": [
        "# import packages\n",
        "%matplotlib inline\n",
        "import numpy as np\n",
        "import matplotlib.pyplot as plt\n",
        "import pandas as pd\n",
        "from sklearn import datasets\n",
        "from sklearn.linear_model import LogisticRegression\n",
        "\n",
        "# make this notebook's output stable across runs\n",
        "np.random.seed(0)"
      ]
    },
    {
      "cell_type": "markdown",
      "metadata": {
        "id": "8GSvwjuqnH8v"
      },
      "source": [
        "## Avila Dataset\n",
        "\n",
        "In this lab assignment, we use the [Avila](https://archive.ics.uci.edu/ml/datasets/Avila) data set has been extracted from 800 images of the the \"Avila Bible\", a giant Latin copy of the whole Bible produced during the XII century between Italy and Spain.  \n",
        "The palaeographic analysis of the  manuscript has  individuated the presence of 12 copyists. The pages written by each copyist are not equally numerous.\n",
        "Each pattern contains 10 features and corresponds to a group of 4 consecutive rows.\n",
        "\n",
        "The prediction task consists in associating each pattern to one of the 12 copyists (labeled as: A, B, C, D, E, F, G, H, I, W, X, Y).\n",
        "The data have has been normalized, by using the Z-normalization method, and divided in two data sets: a training set containing 10430 samples, and a test set  containing the 10437 samples.\n"
      ]
    },
    {
      "cell_type": "code",
      "execution_count": 348,
      "metadata": {
        "id": "NYxEMXjunH8v"
      },
      "outputs": [],
      "source": [
        "# Load train and test data from CSV files.\n",
        "train = pd.read_csv(\"avila-tr.txt\", header=None)\n",
        "test = pd.read_csv(\"avila-ts.txt\", header=None)\n",
        "\n",
        "# Add some column names because this is annoying to work with\n",
        "train.columns = [\"F1\",\"F2\",\"F3\",\"F4\",\"F5\",\"F6\",\"F7\",\"F8\",\"F9\",\"F10\",\"Class\"]\n",
        "test.columns = [\"F1\",\"F2\",\"F3\",\"F4\",\"F5\",\"F6\",\"F7\",\"F8\",\"F9\",\"F10\",\"Class\"]\n",
        "\n",
        "x_train = train.iloc[:,:-1]\n",
        "x_train.columns = [\"F1\",\"F2\",\"F3\",\"F4\",\"F5\",\"F6\",\"F7\",\"F8\",\"F9\",\"F10\"]\n",
        "y_train = train.iloc[:,-1]\n",
        "y_train.columns = [\"Class\"]\n",
        "\n",
        "x_test = test.iloc[:,:-1]\n",
        "x_test.columns = [\"F1\",\"F2\",\"F3\",\"F4\",\"F5\",\"F6\",\"F7\",\"F8\",\"F9\",\"F10\"]\n",
        "y_test = test.iloc[:,-1]\n",
        "y_test.columns = [\"Class\"]\n"
      ]
    },
    {
      "cell_type": "code",
      "execution_count": 349,
      "metadata": {
        "colab": {
          "base_uri": "https://localhost:8080/"
        },
        "id": "Iww2kuXqnH8v",
        "outputId": "057a816c-58ef-4787-acc4-38b9093d5795"
      },
      "outputs": [
        {
          "output_type": "stream",
          "name": "stdout",
          "text": [
            "{'A': 4286, 'F': 1961, 'E': 1095, 'I': 831, 'X': 522, 'H': 519, 'G': 446, 'D': 352, 'Y': 266, 'C': 103, 'W': 44, 'B': 5}\n",
            "{'A': 4286, 'F': 1962, 'E': 1095, 'I': 832, 'X': 522, 'H': 520, 'G': 447, 'D': 353, 'Y': 267, 'C': 103, 'W': 45, 'B': 5}\n"
          ]
        }
      ],
      "source": [
        "# Output the number of images in each class in the train and test datasets.\n",
        "\n",
        "count_train_dict = train.iloc[:,-1].value_counts().to_dict()\n",
        "count_test_dict = test.iloc[:,-1].value_counts().to_dict()\n",
        "\n",
        "print(count_train_dict)\n",
        "print(count_test_dict)\n",
        "\n",
        "# Oddly these seem very similar\n"
      ]
    },
    {
      "cell_type": "markdown",
      "metadata": {
        "id": "XXI8bhmcnH8w"
      },
      "source": [
        "Question 1.1: Check for missing Data"
      ]
    },
    {
      "cell_type": "code",
      "execution_count": 350,
      "metadata": {
        "colab": {
          "base_uri": "https://localhost:8080/"
        },
        "id": "r7jnIbpqnH8w",
        "outputId": "50cfdd68-dbc7-4ad9-8385-5d54ec3540b6"
      },
      "outputs": [
        {
          "output_type": "execute_result",
          "data": {
            "text/plain": [
              "F1       0\n",
              "F2       0\n",
              "F3       0\n",
              "F4       0\n",
              "F5       0\n",
              "F6       0\n",
              "F7       0\n",
              "F8       0\n",
              "F9       0\n",
              "F10      0\n",
              "Class    0\n",
              "dtype: int64"
            ]
          },
          "metadata": {},
          "execution_count": 350
        }
      ],
      "source": [
        "# Check for missing values\n",
        "train.isnull().sum()"
      ]
    },
    {
      "cell_type": "code",
      "execution_count": 351,
      "metadata": {
        "colab": {
          "base_uri": "https://localhost:8080/"
        },
        "id": "h3ce-BO1nH8w",
        "outputId": "eb21afbc-70de-4c0a-cd8e-58ca539d6b4f"
      },
      "outputs": [
        {
          "output_type": "execute_result",
          "data": {
            "text/plain": [
              "F1       0\n",
              "F2       0\n",
              "F3       0\n",
              "F4       0\n",
              "F5       0\n",
              "F6       0\n",
              "F7       0\n",
              "F8       0\n",
              "F9       0\n",
              "F10      0\n",
              "Class    0\n",
              "dtype: int64"
            ]
          },
          "metadata": {},
          "execution_count": 351
        }
      ],
      "source": [
        "test.isnull().sum()"
      ]
    },
    {
      "cell_type": "markdown",
      "metadata": {
        "id": "ENJgqDkXnH8w"
      },
      "source": [
        "Question 1.2: Apply Z-normalization to data"
      ]
    },
    {
      "cell_type": "code",
      "execution_count": 352,
      "metadata": {
        "colab": {
          "base_uri": "https://localhost:8080/"
        },
        "id": "hrd64K97nH8w",
        "outputId": "9849c912-791f-476d-f4f8-184c59ec8c62"
      },
      "outputs": [
        {
          "output_type": "stream",
          "name": "stdout",
          "text": [
            "[-0.00085188  0.00339569  0.00518116  0.00261584 -0.00636515 -0.00888578\n",
            "  0.00235002 -0.01025932 -0.00869081 -0.00067845]\n",
            "[[ 0.26467533 -0.17694062  0.31822302 ...  0.94349467  0.25955453\n",
            "   0.16117096]\n",
            " [ 0.13003816  0.9080088  -3.24039403 ...  0.64880887  0.29069842\n",
            "   0.51996752]\n",
            " [-0.11475734  0.06963832  0.06378071 ... -0.8811636  -0.11417814\n",
            "   0.58780249]\n",
            " ...\n",
            " [ 0.22795656 -0.00433484  0.16770741 ... -1.08214048 -0.58134347\n",
            "   0.58498544]\n",
            " [-0.2983542   0.36553409  0.28597032 ...  0.5148825   0.6332862\n",
            "   0.72480794]\n",
            " [-0.10251741 -1.08928531  0.38631372 ... -1.33210553  1.00701886\n",
            "  -0.55433128]]\n"
          ]
        }
      ],
      "source": [
        "from sklearn.preprocessing import StandardScaler\n",
        "scaler = StandardScaler()\n",
        "\n",
        "scaler.fit(x_test) # We do not normalize the test dataset.\n",
        "\n",
        "print(scaler.mean_) # Check out some values!\n",
        "print(scaler.transform(x_train)) # Do the transformation.\n",
        "\n"
      ]
    },
    {
      "cell_type": "markdown",
      "metadata": {
        "id": "qoGZhBdOnH8w"
      },
      "source": [
        "Question 2.1: Write a method to train multiple logistic regression models performing One vs All (OvA) classification. The method allows you to pass in training features, and target. The method returns a list of models and their associated labels.\n",
        "Within the method:\n",
        "- Determine the list of classes\n",
        "- Create a place to store all the models\n",
        "- For each class, train a model with the target variable set to 1 and 0 for all other classes\n",
        "- Return the list of models trained and associated labels."
      ]
    },
    {
      "cell_type": "code",
      "source": [
        "from sklearn.datasets import make_classification\n",
        "from sklearn.linear_model import LogisticRegression\n",
        "from sklearn.ensemble import VotingClassifier\n",
        "from sklearn.metrics import confusion_matrix, accuracy_score, recall_score, precision_score, precision_recall_curve, classification_report\n",
        "from sklearn.multiclass import OneVsRestClassifier\n",
        "from sklearn.multiclass import OneVsOneClassifier\n",
        "from sklearn import preprocessing\n",
        "from sklearn import datasets"
      ],
      "metadata": {
        "id": "dVL1pGh241UZ"
      },
      "execution_count": 353,
      "outputs": []
    },
    {
      "cell_type": "code",
      "execution_count": 354,
      "metadata": {
        "id": "NkdgxEoBnH8w"
      },
      "outputs": [],
      "source": [
        "def trainOvA(x, y, multiclass='auto'):\n",
        "    \"\"\"\n",
        "    Train the multiclass classifier using OvA strategy.\n",
        "    x = x_train\n",
        "    y = y_train (the Class)\n",
        "    \"\"\"\n",
        "    labels = sorted(y.unique()) # list of target classes sorted by ASCII value\n",
        "    n_labels = len(labels)\n",
        "    print(\"number of classes is {}\".format(n_labels))\n",
        "\n",
        "    #Create model\n",
        "    # This is probably better as a dict\n",
        "\n",
        "    models = {}\n",
        "    for i in range(len(labels)):\n",
        "      label = labels[i]\n",
        "      print(\"Train Logistic Regression model for class {}\".format(label))\n",
        "      # update the label according to OvA strategy\n",
        "      # Strategy: zero out all the other labels\n",
        "      df = train\n",
        "      df['Target'] = df['Class'].apply(lambda x: 1 if x == label else 0) # lambda to set new column \"Target' to 1 if it's label/classifier or not\n",
        "      #df = df.drop('Class') # no longer needed\n",
        "      df = df.drop(columns='Class')\n",
        "\n",
        "      # define model based on training data\n",
        "      X = df.iloc[:,:-1] # ignore class column\n",
        "      Y = df.iloc[:,-1] # New column 'Target'\n",
        "      model = LogisticRegression(multi_class=multiclass, random_state=42, max_iter=10000)\n",
        "\n",
        "      # Train model\n",
        "      models[label] = model.fit(X, Y)\n",
        "    return models # we now return a dictionary instead with the label for each model"
      ]
    },
    {
      "cell_type": "markdown",
      "metadata": {
        "id": "e1cwaKUinH8w"
      },
      "source": [
        "Question 2.2: Write a method that leverage the multiple models train for OvA, and outputs the majority class."
      ]
    },
    {
      "cell_type": "code",
      "execution_count": 355,
      "metadata": {
        "id": "4oQTSEKhnH8x"
      },
      "outputs": [],
      "source": [
        "def predictOvA(models, x):\n",
        "    #x = x_test\n",
        "    #labels, x): We no longer use labels because we output a dictionary where the key is the label and model is the value\n",
        "    \"\"\"\n",
        "    Make predictions on multiclass problems using the OvA strategy.\n",
        "    \"\"\"\n",
        "    if models == None:\n",
        "        sys.exit(\"The model has not been trained yet. Please call train() first. Exiting...\")\n",
        "\n",
        "    #Create prediction\n",
        "    # I would imagine we want an ensemble model here rather than just doing a predict on each model, correct?\n",
        "    #  ensemble = VotingClassifier(estimators=models, voting='hard')\n",
        "    #predictions_list = []\n",
        "    #for key, value in models.items():\n",
        "    #   predictions_list.append(value.predict(x))\n",
        "    #predictions = pd.DataFrame(predictions_list)\n",
        "    #return predictions.idxmax(axis=1).values\n",
        "\n",
        "    model_list = list()\n",
        "    for key, value in models.items():\n",
        "        model_list.append((key, value))\n",
        "\n",
        "    ensemble = VotingClassifier(estimators = model_list, voting='hard')\n",
        "    ensemble.fit(x_train, y_train)\n",
        "    predictions = ensemble.predict(x_test)\n",
        "    return predictions"
      ]
    },
    {
      "cell_type": "markdown",
      "metadata": {
        "id": "TmsDUVp9nH8x"
      },
      "source": [
        "Question 2.3: Train OvA model on the Avila dataset"
      ]
    },
    {
      "cell_type": "code",
      "execution_count": 356,
      "metadata": {
        "colab": {
          "base_uri": "https://localhost:8080/"
        },
        "id": "y_-OIOcwnH8x",
        "outputId": "b0cb68ce-1fd4-4b90-ad0b-8d57dba40555"
      },
      "outputs": [
        {
          "output_type": "stream",
          "name": "stdout",
          "text": [
            "number of classes is 12\n",
            "Train Logistic Regression model for class A\n",
            "Train Logistic Regression model for class B\n",
            "Train Logistic Regression model for class C\n",
            "Train Logistic Regression model for class D\n",
            "Train Logistic Regression model for class E\n",
            "Train Logistic Regression model for class F\n",
            "Train Logistic Regression model for class G\n",
            "Train Logistic Regression model for class H\n",
            "Train Logistic Regression model for class I\n",
            "Train Logistic Regression model for class W\n",
            "Train Logistic Regression model for class X\n",
            "Train Logistic Regression model for class Y\n"
          ]
        }
      ],
      "source": [
        "models_dict = trainOvA(x_train, y_train)\n"
      ]
    },
    {
      "cell_type": "markdown",
      "metadata": {
        "id": "ITZfsmAWnH8x"
      },
      "source": [
        "Question 2.4: Predict and evalutate the results of your model"
      ]
    },
    {
      "cell_type": "markdown",
      "source": [
        "# Note on Concept\n",
        "\n",
        "I think we are doing each prediction normally. Wouldn't a better concept be to reduce the error rate by using an ensemble of models that perform majority voting? This won't count for confidence or probability of each prediction..."
      ],
      "metadata": {
        "id": "84HeS5aQEgzp"
      }
    },
    {
      "cell_type": "code",
      "execution_count": 357,
      "metadata": {
        "colab": {
          "base_uri": "https://localhost:8080/"
        },
        "id": "n7nghg2OnH8x",
        "outputId": "34d2072a-2127-4f37-97a3-1563ce4811dc"
      },
      "outputs": [
        {
          "output_type": "stream",
          "name": "stdout",
          "text": [
            "['W' 'X' 'I' ... 'A' 'A' 'A']\n"
          ]
        }
      ],
      "source": [
        "te_z_ova = predictOvA(models_dict, x_test)\n",
        "print(te_z_ova)"
      ]
    },
    {
      "cell_type": "code",
      "execution_count": 358,
      "metadata": {
        "colab": {
          "base_uri": "https://localhost:8080/"
        },
        "id": "cLmYKuUinH8x",
        "outputId": "4962b7e1-c788-42fa-aa8e-d61638e5ad24"
      },
      "outputs": [
        {
          "output_type": "stream",
          "name": "stdout",
          "text": [
            "Accuracy of OvA classifier is 0.5613682092555332.\n",
            "Confusion matrix of OvA classifier: \n",
            " [[4040    0    1    3   63  127    0   18   23    0    8    3]\n",
            " [   0    5    0    0    0    0    0    0    0    0    0    0]\n",
            " [  66    0    0    0   13   17    0    4    3    0    0    0]\n",
            " [ 288    0    0    0   31   16    0   15    1    0    2    0]\n",
            " [ 660    0    0    0  271   58    0   30   14    0   57    5]\n",
            " [1729    0    2    1   15  179    0   14   16    0    1    5]\n",
            " [ 391    0    0    0   18   21    0   14    0    0    3    0]\n",
            " [ 305    0    0    0   58   47    0   96   12    0    1    1]\n",
            " [  34    0    0    1    4   16    0    8  725    0   23   21]\n",
            " [  30    0    0    0   11    0    0    0    0    2    2    0]\n",
            " [  48    0    0    0   26    3    0    7   23    7  370   38]\n",
            " [  28    0    0    0    3    3    0    0   33    0   29  171]]\n"
          ]
        }
      ],
      "source": [
        "from sklearn.metrics import accuracy_score\n",
        "from sklearn.metrics import confusion_matrix\n",
        "\n",
        "ova_accuracy = accuracy_score(y_test, te_z_ova)\n",
        "ova_confusion_matrix = confusion_matrix(y_test, te_z_ova)\n",
        "\n",
        "print(\"Accuracy of OvA classifier is {}.\".format(ova_accuracy))\n",
        "print(\"Confusion matrix of OvA classifier: \\n {}\".format(ova_confusion_matrix))"
      ]
    },
    {
      "cell_type": "markdown",
      "metadata": {
        "id": "rulSU93inH8x"
      },
      "source": [
        "---"
      ]
    },
    {
      "cell_type": "markdown",
      "metadata": {
        "id": "eT8fMptgnH8x"
      },
      "source": [
        "Question 3.1: Develop a method that trains a list of models based on the OvO\n",
        "stragety for multiclass classification using logistic regression."
      ]
    },
    {
      "cell_type": "code",
      "execution_count": 359,
      "metadata": {
        "id": "2EKnwL8YnH8x"
      },
      "outputs": [],
      "source": [
        "# Why not just use this?\n",
        "#from sklearn.multiclass import OneVsOneClassifier\n",
        "\n",
        "def trainOvO(x, y):\n",
        "    \"\"\"\n",
        "    Train the multiclass classifier using OvO strategy.\n",
        "    x = x_train\n",
        "    y = y_train (the Class, useful for just the label count)\n",
        "    \"\"\"\n",
        "    labels = sorted(y.unique())\n",
        "    n_labels = len(labels)\n",
        "    n_models = int(len(labels) * (len(labels) - 1) / 2)\n",
        "    print(\"number of classes is {}\".format(n_labels))\n",
        "\n",
        "\n",
        "    models = [] # use dictionary instead\n",
        "    '''\n",
        "    model_idx = 0\n",
        "    for i in range(n_labels):\n",
        "        for j in range(i+1, n_labels):\n",
        "          label_i = labels[i]\n",
        "          label_j = labels[j]\n",
        "          print(\"Train Logistic Regression model to distinguish {} and {}\".format(label_i, label_j))\n",
        "\n",
        "          # update the label according to OvA strategy\n",
        "          # the labels need to be floats to work\n",
        "          df = x\n",
        "          #print(df.head())\n",
        "          df = df.drop(columns='Target')\n",
        "          train_x = df.loc[df['Class'] == label_i]\n",
        "          #print(train_x.head())\n",
        "          train_x['Class'] = train_x['Class'].apply(lambda x: str(i) if x == label_i else '0')\n",
        "          train_x['Class'] = pd.to_numeric(train_x['Class'])\n",
        "          print(train_x.head())\n",
        "\n",
        "          train_y = df.loc[df['Class'] == label_j] # is this the one we zero out?\n",
        "          #print(train_y.head())\n",
        "          train_y['Class'] = train_y['Class'].apply(lambda x: str(j) if x == label_j else '0')\n",
        "          train_y['Class'] = pd.to_numeric(train_y['Class'])\n",
        "          print(train_y.head())\n",
        "\n",
        "\n",
        "          print(train_y.shape)\n",
        "          print(train_x.shape)\n",
        "          # construct the logistic regression instance\n",
        "          lr = LogisticRegression(solver = 'liblinear')\n",
        "\n",
        "          #OvO_clf = OneVsOneClassifier(LogisticRegression())\n",
        "          #OvO_clf.fit(train_x, train_y)\n",
        "          #don't forget to fit\n",
        "          #train_y = np.reshape(train_y, (-1,1)) # It complains about this, we'd need to truncate to fit the same number of samples on each class based on the minimum # of rows encountered. This is tedious.\n",
        "          lr.fit(train_x, train_y)\n",
        "\n",
        "          print(\"Adding model...{}+{}\".format(label_i, label_j))\n",
        "          models['{}+{}'.format(label_i, label_j)] = lr\n",
        "          '''\n",
        "    ovr = OneVsRestClassifier(LogisticRegression())\n",
        "    ovr.fit(x_train, y_train)\n",
        "    models.append(ovr)\n",
        "    return models"
      ]
    },
    {
      "cell_type": "markdown",
      "source": [
        "One pont of confusion here is that there isn't any indication of what to convert to 1 and 0. Do we convert the second/compared class to 0?"
      ],
      "metadata": {
        "id": "AfBw8HB_pj3a"
      }
    },
    {
      "cell_type": "markdown",
      "metadata": {
        "id": "rPvg48HxnH8x"
      },
      "source": [
        "Question 3.2: Write a method that leverage the multiple models train for OvO, and outputs the majority class."
      ]
    },
    {
      "cell_type": "code",
      "execution_count": 360,
      "metadata": {
        "id": "uctJMAIFnH8y"
      },
      "outputs": [],
      "source": [
        "def predictOvO(models, x): #, labels, x):\n",
        "    \"\"\"\n",
        "    Make predictions on multiclass problems using the OvO strategy.\n",
        "    \"\"\"\n",
        "    if models == None:\n",
        "        sys.exit(\"The model has not been trained yet. Please call train() first. Exiting...\")\n",
        "\n",
        "\n",
        "    predictions = []\n",
        "    #for i in range(len(models))\n",
        "      #predictions.append(models.predict(x_test))\n",
        "\n",
        "    predictions = pd.DataFrame(models[0].predict(x_test)) # We only have the OVO model\n",
        "\n",
        "    return predictions.mode(axis=1).iloc[:, 0].values"
      ]
    },
    {
      "cell_type": "markdown",
      "metadata": {
        "id": "oB8WG_pLnH8y"
      },
      "source": [
        "Question 3.3: Train OvO model on the Avila dataset"
      ]
    },
    {
      "cell_type": "code",
      "execution_count": 361,
      "metadata": {
        "colab": {
          "base_uri": "https://localhost:8080/"
        },
        "id": "JL1P_fKsnH8y",
        "outputId": "357e0663-61cd-490b-9592-111f90873e56"
      },
      "outputs": [
        {
          "output_type": "stream",
          "name": "stdout",
          "text": [
            "number of classes is 12\n"
          ]
        }
      ],
      "source": [
        "models_ovo_dict = trainOvO(train, y_train)"
      ]
    },
    {
      "cell_type": "markdown",
      "metadata": {
        "id": "k8jcCZMEnH8y"
      },
      "source": [
        "Question 3.4: Predict and evalutate the results of your model"
      ]
    },
    {
      "cell_type": "code",
      "execution_count": 362,
      "metadata": {
        "id": "_Vrtm55EnH8y"
      },
      "outputs": [],
      "source": [
        "te_z_ovo = predictOvO(models_ovo_dict, x_test)"
      ]
    },
    {
      "cell_type": "code",
      "execution_count": 363,
      "metadata": {
        "colab": {
          "base_uri": "https://localhost:8080/"
        },
        "id": "m-6Tj8J5nH8y",
        "outputId": "019783fb-a397-4057-e7a4-611806ceb59b"
      },
      "outputs": [
        {
          "output_type": "stream",
          "name": "stdout",
          "text": [
            "Accuracy of OvO classifier is 0.5309954967902654.\n",
            "Confusion matrix of OvO classifier: \n",
            " [[4159    0    0    0   31   62    0    8   18    0    6    2]\n",
            " [   0    5    0    0    0    0    0    0    0    0    0    0]\n",
            " [  80    0    0    0    9   11    0    0    3    0    0    0]\n",
            " [ 327    0    0    0    5    6    0   14    0    0    1    0]\n",
            " [ 917    0    0    0   75   54    0   10   10    0   28    1]\n",
            " [1881    0    0    0    4   55    0    4   14    0    0    4]\n",
            " [ 413    0    0    0    4   23    0    4    0    0    3    0]\n",
            " [ 366    0    0    0   31   66    0   40   15    0    1    1]\n",
            " [  64    0    0    0    2    5    0    3  733    0   15   10]\n",
            " [  34    0    0    0    9    0    0    0    0    0    2    0]\n",
            " [  93    0    0    0   15    3    0    2   34    0  349   26]\n",
            " [  56    0    0    0    1    1    0    0   63    0   20  126]]\n"
          ]
        }
      ],
      "source": [
        "\n",
        "ovo_accuracy = accuracy_score(y_test, te_z_ovo)\n",
        "ovo_confusion_matrix = confusion_matrix(y_test, te_z_ovo)\n",
        "\n",
        "\n",
        "print(\"Accuracy of OvO classifier is {}.\".format(ovo_accuracy))\n",
        "print(\"Confusion matrix of OvO classifier: \\n {}\".format(ovo_confusion_matrix))"
      ]
    },
    {
      "cell_type": "markdown",
      "metadata": {
        "id": "y_4-niLJnH8y"
      },
      "source": [
        "Question 4.1: [LogisticRegression](https://scikit-learn.org/stable/modules/generated/sklearn.linear_model.LogisticRegression.html) within sklearn supports two approaches for solving multi-class problems: 'ovr', 'multinomial'. Try out both approaches, and evaluate compare the performance agains what you developed in questions 2 and 3."
      ]
    },
    {
      "cell_type": "code",
      "execution_count": 364,
      "metadata": {
        "colab": {
          "base_uri": "https://localhost:8080/"
        },
        "id": "2lOL6-XKnH8y",
        "outputId": "ed4424e7-868d-4dfc-9b22-0761f7c6056a"
      },
      "outputs": [
        {
          "output_type": "stream",
          "name": "stdout",
          "text": [
            "number of classes is 12\n",
            "Train Logistic Regression model for class A\n",
            "Train Logistic Regression model for class B\n",
            "Train Logistic Regression model for class C\n",
            "Train Logistic Regression model for class D\n",
            "Train Logistic Regression model for class E\n",
            "Train Logistic Regression model for class F\n",
            "Train Logistic Regression model for class G\n",
            "Train Logistic Regression model for class H\n",
            "Train Logistic Regression model for class I\n",
            "Train Logistic Regression model for class W\n",
            "Train Logistic Regression model for class X\n",
            "Train Logistic Regression model for class Y\n",
            "Accuracy of OvO classifier is 0.5309954967902654.\n",
            "Confusion matrix of OvO classifier: \n",
            " [[4159    0    0    0   31   62    0    8   18    0    6    2]\n",
            " [   0    5    0    0    0    0    0    0    0    0    0    0]\n",
            " [  80    0    0    0    9   11    0    0    3    0    0    0]\n",
            " [ 327    0    0    0    5    6    0   14    0    0    1    0]\n",
            " [ 917    0    0    0   75   54    0   10   10    0   28    1]\n",
            " [1881    0    0    0    4   55    0    4   14    0    0    4]\n",
            " [ 413    0    0    0    4   23    0    4    0    0    3    0]\n",
            " [ 366    0    0    0   31   66    0   40   15    0    1    1]\n",
            " [  64    0    0    0    2    5    0    3  733    0   15   10]\n",
            " [  34    0    0    0    9    0    0    0    0    0    2    0]\n",
            " [  93    0    0    0   15    3    0    2   34    0  349   26]\n",
            " [  56    0    0    0    1    1    0    0   63    0   20  126]]\n"
          ]
        }
      ],
      "source": [
        "clf = trainOvA(x_train, y_train, multiclass='ovr')\n",
        "y_ovr = te_z_ova = predictOvA(clf, x_test)\n",
        "\n",
        "\n",
        "ovr_accuracy = accuracy_score(y_test, y_ovr)\n",
        "ovr_confusion_matrix = confusion_matrix(y_test, y_ovr)\n",
        "\n",
        "\n",
        "print(\"Accuracy of OvO classifier is {}.\".format(ovr_accuracy))\n",
        "print(\"Confusion matrix of OvO classifier: \\n {}\".format(ovr_confusion_matrix))"
      ]
    },
    {
      "cell_type": "code",
      "execution_count": 365,
      "metadata": {
        "colab": {
          "base_uri": "https://localhost:8080/"
        },
        "id": "tsP9ILX-nH8y",
        "outputId": "2b34e91d-f608-41cd-d057-490fb7420eeb"
      },
      "outputs": [
        {
          "output_type": "stream",
          "name": "stdout",
          "text": [
            "number of classes is 12\n",
            "Train Logistic Regression model for class A\n",
            "Train Logistic Regression model for class B\n",
            "Train Logistic Regression model for class C\n",
            "Train Logistic Regression model for class D\n",
            "Train Logistic Regression model for class E\n",
            "Train Logistic Regression model for class F\n",
            "Train Logistic Regression model for class G\n",
            "Train Logistic Regression model for class H\n",
            "Train Logistic Regression model for class I\n",
            "Train Logistic Regression model for class W\n",
            "Train Logistic Regression model for class X\n",
            "Train Logistic Regression model for class Y\n",
            "Accuracy of OvO classifier is 0.5613682092555332.\n",
            "Confusion matrix of OvO classifier: \n",
            " [[4040    0    1    3   63  127    0   18   23    0    8    3]\n",
            " [   0    5    0    0    0    0    0    0    0    0    0    0]\n",
            " [  66    0    0    0   13   17    0    4    3    0    0    0]\n",
            " [ 288    0    0    0   31   16    0   15    1    0    2    0]\n",
            " [ 660    0    0    0  271   58    0   30   14    0   57    5]\n",
            " [1729    0    2    1   15  179    0   14   16    0    1    5]\n",
            " [ 391    0    0    0   18   21    0   14    0    0    3    0]\n",
            " [ 305    0    0    0   58   47    0   96   12    0    1    1]\n",
            " [  34    0    0    1    4   16    0    8  725    0   23   21]\n",
            " [  30    0    0    0   11    0    0    0    0    2    2    0]\n",
            " [  48    0    0    0   26    3    0    7   23    7  370   38]\n",
            " [  28    0    0    0    3    3    0    0   33    0   29  171]]\n"
          ]
        }
      ],
      "source": [
        "#class = multinomial\n",
        "clf = trainOvA(x_train, y_train, multiclass='multinomial')\n",
        "y_multinomial = predictOvA(clf, x_test)\n",
        "\n",
        "multinomial_accuracy = accuracy_score(y_test, y_multinomial)\n",
        "multinomial_confusion_matrix = confusion_matrix(y_test, y_multinomial)\n",
        "\n",
        "\n",
        "print(\"Accuracy of OvO classifier is {}.\".format(multinomial_accuracy))\n",
        "print(\"Confusion matrix of OvO classifier: \\n {}\".format(multinomial_confusion_matrix))"
      ]
    },
    {
      "cell_type": "markdown",
      "source": [
        "# Analysis\n",
        "\n",
        "Using OvA/OvR is much easier than OvO. The results are somewhat similar in this regard, that the OvA with 'auto' is basically the same as the 'ovr', but the multinomial looks closer to the OvO results in terms of accuracy."
      ],
      "metadata": {
        "id": "9g5-jPQdArNV"
      }
    },
    {
      "cell_type": "markdown",
      "metadata": {
        "id": "PZ0QhqAznH8y"
      },
      "source": [
        "Question 4: Create a new text cell in your Notebook: Complete a 50-100 word summary (or short description of your thinking in applying this week's learning to the solution) of your experience in this assignment. Include: What was your incoming experience with this model, if any? what steps you took, what obstacles you encountered. how you link this exercise to real-world, machine learning problem-solving. (What steps were missing? What else do you need to learn?) This summary allows your instructor to know how you are doing and allot points for your effort in thinking and planning, and making connections to real-world work."
      ]
    },
    {
      "cell_type": "markdown",
      "source": [
        "# Q4\n",
        "\n",
        "1. I have no experience coming into these models prior to the class. It seems like OvA/OvR is the way to go as a default option.\n",
        "2. I took some pretty standard steps and decided to go a bit further with adding columns to the data for easier parsing. This might've been missing, but it made working on the lab much easier.\n",
        "3. I ran into some serious problems with the OvO methodology, after doing a lot of parsing on the different combinations and converting the classes to floats, I hit a wall where the number of columns matched but the number of rows did not between the compared classes, which makes sense given that in our original dataset we have different counts. I could've split it down and just used the minimum number of rows, but I wasn't sure what the best way to handle this was, as we'd be using the same few rows for the next iteration unless we wanted to remove them from the temporary dataset. Just seemed like more work than it was worth given that there's already an implementation of OneVsOneClassifier, which I opted for."
      ],
      "metadata": {
        "id": "Duo4GhuR-yYU"
      }
    },
    {
      "cell_type": "code",
      "execution_count": 365,
      "metadata": {
        "id": "Y0pRp9hJnH8y"
      },
      "outputs": [],
      "source": []
    }
  ],
  "metadata": {
    "kernelspec": {
      "display_name": "Python 3",
      "language": "python",
      "name": "python3"
    },
    "language_info": {
      "codemirror_mode": {
        "name": "ipython",
        "version": 3
      },
      "file_extension": ".py",
      "mimetype": "text/x-python",
      "name": "python",
      "nbconvert_exporter": "python",
      "pygments_lexer": "ipython3",
      "version": "3.7.3"
    },
    "colab": {
      "provenance": []
    }
  },
  "nbformat": 4,
  "nbformat_minor": 0
}