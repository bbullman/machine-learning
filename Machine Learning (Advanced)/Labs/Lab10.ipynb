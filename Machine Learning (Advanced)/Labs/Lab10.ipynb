{
  "cells": [
    {
      "cell_type": "markdown",
      "metadata": {
        "id": "EgZfX1Txi9VP"
      },
      "source": [
        "# MLFLOW - Deploying Machine Learning in Production\n",
        "\n",
        "In this assignment you will be writing a script that train models and use `mlflow` to submit runs."
      ]
    },
    {
      "cell_type": "code",
      "execution_count": 43,
      "metadata": {
        "colab": {
          "base_uri": "https://localhost:8080/"
        },
        "id": "eTiD7eQyi9VR",
        "outputId": "04b3d3f6-1e55-40a5-eb74-7a5d468e88f7"
      },
      "outputs": [
        {
          "output_type": "stream",
          "name": "stdout",
          "text": [
            "Overwriting ./new_data.json\n"
          ]
        }
      ],
      "source": [
        "%%writefile ./new_data.json\n",
        "{\"age\": {\"0\": 40, \"1\": 47},\n",
        " \"balance\": {\"0\": 580, \"1\": 3644},\n",
        " \"campaign\": {\"0\": 1, \"1\": 2},\n",
        " \"contact\": {\"0\": \"unknown\", \"1\": \"unknown\"},\n",
        " \"day\": {\"0\": 16, \"1\": 9},\n",
        " \"default\": {\"0\": \"no\", \"1\": \"no\"},\n",
        " \"duration\": {\"0\": 192, \"1\": 83},\n",
        " \"education\": {\"0\": \"secondary\", \"1\": \"secondary\"},\n",
        " \"housing\": {\"0\": \"yes\", \"1\": \"no\"},\n",
        " \"job\": {\"0\": \"blue-collar\", \"1\": \"services\"},\n",
        " \"loan\": {\"0\": \"no\", \"1\": \"no\"},\n",
        " \"marital\": {\"0\": \"married\", \"1\": \"single\"},\n",
        " \"month\": {\"0\": \"may\", \"1\": \"jun\"},\n",
        " \"pdays\": {\"0\": -1, \"1\": -1},\n",
        " \"poutcome\": {\"0\": \"unknown\", \"1\": \"unknown\"},\n",
        " \"previous\": {\"0\": 0, \"1\": 0}}"
      ]
    },
    {
      "cell_type": "code",
      "source": [
        "# Imagine the above came in from a NoSQL database or an API. Ideally we would add all the onehotencoded columns from the trained model (even if empty) to the above data prior to fit, if we had them saved in memory or in an API/models dir."
      ],
      "metadata": {
        "id": "L4YYT_mLQTwX"
      },
      "execution_count": 44,
      "outputs": []
    },
    {
      "cell_type": "code",
      "execution_count": 45,
      "metadata": {
        "id": "9v4nDGrLi9VS"
      },
      "outputs": [],
      "source": [
        "#Load all necessary libraries\n",
        "from sklearn.preprocessing import FunctionTransformer\n",
        "from sklearn.pipeline import Pipeline\n",
        "import pandas as pd\n",
        "import numpy as np\n",
        "from sklearn.metrics import precision_score, recall_score\n",
        "from sklearn.model_selection import train_test_split\n",
        "from sklearn.preprocessing import OneHotEncoder, StandardScaler\n",
        "from sklearn.linear_model import LogisticRegression\n",
        "import joblib\n",
        "import json\n",
        "\n",
        "# Load Dataset\n",
        "bank = pd.read_csv('bank-full.csv', delimiter = ';')\n",
        "\n",
        "# Split data between train and validation\n",
        "X_train, X_test, y_train, y_test = train_test_split(bank.drop(columns = \"y\"), bank[\"y\"],\n",
        "                                                    test_size = 0.10, random_state = 42)\n",
        "\n",
        "X_train = X_train.reset_index(drop = True)\n",
        "X_test = X_test.reset_index(drop = True)\n"
      ]
    },
    {
      "cell_type": "markdown",
      "metadata": {
        "id": "glzlfS0ji9VS"
      },
      "source": [
        "Question 1: Create pre-processing function to be later used as part of the pipeline (custom transformer)"
      ]
    },
    {
      "cell_type": "code",
      "execution_count": 46,
      "metadata": {
        "id": "QZRt824ai9VS"
      },
      "outputs": [],
      "source": [
        "def transformations(df):\n",
        "    df_copy = df.copy() # Copy so as to not blow up the original data\n",
        "    onehoter = OneHotEncoder(sparse_output=False)\n",
        "    cat_cols = df_copy.select_dtypes(['object']).columns\n",
        "    encoded = onehoter.fit_transform(df_copy[cat_cols])\n",
        "    onehot_cols = onehoter.get_feature_names_out(cat_cols)\n",
        "    df_onehot = pd.DataFrame(encoded, columns=onehot_cols)\n",
        "\n",
        "    num_cols = df_copy.select_dtypes(['integer', 'float']).columns\n",
        "    znormalizer = StandardScaler()\n",
        "    znormalizer.fit(df_copy[num_cols])\n",
        "    df_norm = znormalizer.fit_transform(df_copy[num_cols])\n",
        "\n",
        "    df_featurized = df_onehot\n",
        "    df_featurized[num_cols] = df_norm\n",
        "\n",
        "    del df_onehot, df_norm, df_copy\n",
        "    return df_featurized"
      ]
    },
    {
      "cell_type": "code",
      "source": [
        "# Testing\n",
        "\n",
        "'''\n",
        "df_ft = transformations(X_train)\n",
        "with open('./new_data.json', 'r') as f:\n",
        "    data = json.load(f)\n",
        "new_predictions = pd.DataFrame(data)\n",
        "print(df_ft.columns)\n",
        "print(transformations(new_predictions).columns)\n",
        "new_predictions = new_predictions.reindex(columns=df_ft.columns).fillna(0)\n",
        "print(new_predictions)\n",
        "print(new_predictions.columns)\n",
        "print(new_predictions.shape)\n",
        "print(new_predictions.describe())\n",
        "'''"
      ],
      "metadata": {
        "colab": {
          "base_uri": "https://localhost:8080/",
          "height": 53
        },
        "id": "O36GAvyL9Q_B",
        "outputId": "6a592c39-bb6b-44c6-e8db-d853381b3dd6"
      },
      "execution_count": 47,
      "outputs": [
        {
          "output_type": "execute_result",
          "data": {
            "text/plain": [
              "\"\\ndf_ft = transformations(X_train)\\nwith open('./new_data.json', 'r') as f:\\n    data = json.load(f)\\nnew_predictions = pd.DataFrame(data)\\nprint(df_ft.columns)\\nprint(transformations(new_predictions).columns)\\nnew_predictions = new_predictions.reindex(columns=df_ft.columns).fillna(0)\\nprint(new_predictions)\\nprint(new_predictions.columns)\\nprint(new_predictions.shape)\\nprint(new_predictions.describe())\\n\""
            ],
            "application/vnd.google.colaboratory.intrinsic+json": {
              "type": "string"
            }
          },
          "metadata": {},
          "execution_count": 47
        }
      ]
    },
    {
      "cell_type": "markdown",
      "metadata": {
        "id": "BHI_1M0vi9VT"
      },
      "source": [
        "Question 2: Creating a custom transformer from the previously defined function"
      ]
    },
    {
      "cell_type": "code",
      "execution_count": 48,
      "metadata": {
        "id": "Sl5npY9ri9VT"
      },
      "outputs": [],
      "source": [
        "pre_processing = FunctionTransformer(transformations)"
      ]
    },
    {
      "cell_type": "markdown",
      "metadata": {
        "id": "blHf8SUji9VT"
      },
      "source": [
        "Question 3: Creating the pipeline and defining each of two steps: (i) pre-processing, and; (ii) model (Logistic)"
      ]
    },
    {
      "cell_type": "code",
      "execution_count": 49,
      "metadata": {
        "id": "Wv8udtRmi9VT"
      },
      "outputs": [],
      "source": [
        "pipeline = Pipeline([\n",
        "    ('pre_process', pre_processing),\n",
        "    ('model', LogisticRegression())\n",
        "], verbose=True)"
      ]
    },
    {
      "cell_type": "markdown",
      "metadata": {
        "id": "OwEzhp4ii9VT"
      },
      "source": [
        "Question 4: Call `fit` and `predict` on the pipeline to make sure that it all works. Remember to pass them the **un-processed** (original) data, since the data processing should be built into the pipeline now."
      ]
    },
    {
      "cell_type": "code",
      "execution_count": 50,
      "metadata": {
        "colab": {
          "base_uri": "https://localhost:8080/"
        },
        "id": "NTc3yk8Yi9VU",
        "outputId": "2ef2585b-3085-4f8f-fae0-d422c80f7fa8"
      },
      "outputs": [
        {
          "output_type": "stream",
          "name": "stdout",
          "text": [
            "[Pipeline] ....... (step 1 of 2) Processing pre_process, total=   0.1s\n",
            "[Pipeline] ............. (step 2 of 2) Processing model, total=   0.3s\n"
          ]
        }
      ],
      "source": [
        "#Set parameters for Logistic Regression estimator ('model') inside the pipeline\n",
        "pipeline.set_params(model__C=1.0,                 # C: default=1.0\n",
        "                    model__solver='liblinear',   # solver: {‘newton-cg’, ‘lbfgs’, ‘liblinear’, ‘sag’, ‘saga’}, default=’lbfgs’\n",
        "                    model__max_iter=10000,         # max_iter: default=100\n",
        "                    model__fit_intercept=True,   # fit_intercept:{True, False}, default=True\n",
        "                    model__penalty='l2')         # penalty: {‘l1’, ‘l2’, ‘elasticnet’, ‘none’}, default=’l2’\n",
        "                                                 # Warning: The choice of the algorithm depends on the penalty chosen.\n",
        "                                                 #          Not all algorithms support every type of penalty\n",
        "\n",
        "#Fit Training Data to Model\n",
        "pipeline.fit(X_train, y_train)\n",
        "\n",
        "#Prediction on Training and Test Data\n",
        "y_train_pred = pipeline.predict(X_train)\n",
        "y_test_pred = pipeline.predict(X_test)"
      ]
    },
    {
      "cell_type": "markdown",
      "metadata": {
        "id": "sYb2Q4Z0i9VU"
      },
      "source": [
        "Question 5: Evaluate your model by calculating the precision and recall."
      ]
    },
    {
      "cell_type": "code",
      "source": [
        "print(y_train_pred.shape)\n",
        "print(y_train.shape)\n",
        "print(y_test_pred.shape)\n",
        "print(y_test.shape)"
      ],
      "metadata": {
        "colab": {
          "base_uri": "https://localhost:8080/"
        },
        "id": "NSTrBaggwest",
        "outputId": "48fa8cbf-8f12-4360-91e3-f6648d369def"
      },
      "execution_count": 51,
      "outputs": [
        {
          "output_type": "stream",
          "name": "stdout",
          "text": [
            "(40689,)\n",
            "(40689,)\n",
            "(4522,)\n",
            "(4522,)\n"
          ]
        }
      ]
    },
    {
      "cell_type": "code",
      "execution_count": 52,
      "metadata": {
        "colab": {
          "base_uri": "https://localhost:8080/"
        },
        "id": "OPKrkB-li9VU",
        "outputId": "8e40bb88-12b0-4680-d96d-2e0ce5e13ad4"
      },
      "outputs": [
        {
          "output_type": "stream",
          "name": "stdout",
          "text": [
            "\n",
            "Main Parameters used in logistic regression are: C=1.0, solver=liblinear, max_iter=10000, fit_intercept=True and penalty=l2\n",
            "\n",
            "Precision = 0.92% and recall = 0.98% on the training data.\n",
            "Precision = 0.91% and recall = 0.97% on the validation data.\n"
          ]
        }
      ],
      "source": [
        "#Create a function to evaluate the model performance using precision and recall\n",
        "def eval_metrics(actual, pred):\n",
        "    precision = precision_score(actual, pred, pos_label=\"no\")\n",
        "    recall = recall_score(actual, pred, pos_label=\"no\")\n",
        "\n",
        "    return precision, recall\n",
        "\n",
        "#Calculation of evaluation metrics - Precision and Recall for training and validation data\n",
        "(precision_train, recall_train) = eval_metrics(y_train, y_train_pred)\n",
        "(precision_test, recall_test) = eval_metrics(y_test, y_test_pred)\n",
        "\n",
        "# Print Model (Logistic Regression) parameters\n",
        "print()\n",
        "print('Main Parameters used in logistic regression are: C={}, solver={}, max_iter={}, fit_intercept={} and penalty={}'.format(pipeline['model'].get_params()['C'],\n",
        "                                                                                                                             pipeline['model'].get_params()['solver'],\n",
        "                                                                                                                             pipeline['model'].get_params()['max_iter'],\n",
        "                                                                                                                             pipeline['model'].get_params()['fit_intercept'],\n",
        "                                                                                                                             pipeline['model'].get_params()['penalty']))\n",
        "# Print Evaluation Metrics for the Model (Logistic Regression)\n",
        "print()\n",
        "print('Precision = {:.2f}% and recall = {:.2f}% on the training data.'.format(precision_train, recall_train))\n",
        "print('Precision = {:.2f}% and recall = {:.2f}% on the validation data.'.format(precision_test, recall_test))\n"
      ]
    },
    {
      "cell_type": "markdown",
      "metadata": {
        "id": "5j1GNPP3i9VU"
      },
      "source": [
        "Question 6: Save your pipeline object using `joblib` as shown [here](https://sklearn.org/modules/model_persistence.html)."
      ]
    },
    {
      "cell_type": "code",
      "execution_count": 53,
      "metadata": {
        "colab": {
          "base_uri": "https://localhost:8080/"
        },
        "id": "EhoSxTFni9VU",
        "outputId": "f1cdc356-e8d0-4bba-d321-79a74c2ad27a"
      },
      "outputs": [
        {
          "output_type": "execute_result",
          "data": {
            "text/plain": [
              "['bb_pipeline.pkl']"
            ]
          },
          "metadata": {},
          "execution_count": 53
        }
      ],
      "source": [
        "#store 'pipeline' as pickle file using joblib\n",
        "joblib.dump(pipeline, 'bb_pipeline.pkl')"
      ]
    },
    {
      "cell_type": "markdown",
      "metadata": {
        "id": "1VgHB-nLi9VV"
      },
      "source": [
        "Question 7: Now write a **new script** for scoring: it loads the pipeline you saved in the last step, reads the data `../data/new_data.json` and converts it to a `pandas.DataFrame` object, and obtains predictions on it. The predictions should be stored as a `json` file `../data/new_preds.json`."
      ]
    },
    {
      "cell_type": "code",
      "execution_count": 54,
      "metadata": {
        "id": "VBTW4eGbi9VV"
      },
      "outputs": [],
      "source": [
        "#Call and load stored 'pipeline'\n",
        "pipeline = joblib.load('bb_pipeline.pkl')\n",
        "\n",
        "#Read json file with new data and write into a pandas dataframe\n",
        "with open('./new_data.json', 'r') as f:\n",
        "    data = json.load(f)\n",
        "new_predictions = pd.DataFrame(data)\n",
        "\n",
        "# Have to make sure the columns match for this new dataframe, so we need to add the 'missing' columns that we imputed with onehotencoding to match our model\n",
        "# This means adding whatever columns we got from the first transformation of the \"FULL\" dataset\n",
        "# This also means we need to clear the NaNs as LogReg won't like them\n",
        "# Once that's done, the model should be properly predicted and should not fail during 'fit()'\n",
        "\n",
        "#print(new_predictions.columns)\n",
        "df_ft = transformations(X_train) # This gets the full dataset index with the onehotencoded column names\n",
        "# print(df_ft.columns) # Check to see full list\n",
        "new_predictions = new_predictions.reindex(columns=df_ft.columns)\n",
        "new_predictions = new_predictions.fillna(0)\n",
        "# print(new_predictions.columns) # Check to make sure it matches full list\n",
        "\n",
        "#Use predict method of pipeline to score (make prediction) on new data\n",
        "new_predictions['prediction'] = pipeline.predict(new_predictions)\n",
        "\n",
        "#Write predictions of new data into a json file\n",
        "new_predictions.to_json('./new_preds.json', orient='columns')"
      ]
    },
    {
      "cell_type": "code",
      "execution_count": 55,
      "metadata": {
        "colab": {
          "base_uri": "https://localhost:8080/",
          "height": 194
        },
        "id": "tys6Y26wi9VV",
        "outputId": "a7eab3eb-eef1-4429-eeec-b900ec74d9b3"
      },
      "outputs": [
        {
          "output_type": "stream",
          "name": "stdout",
          "text": [
            "0    yes\n",
            "1     no\n",
            "Name: prediction, dtype: object\n"
          ]
        },
        {
          "output_type": "execute_result",
          "data": {
            "text/plain": [
              "   job_admin.  job_blue-collar  job_entrepreneur  job_housemaid  \\\n",
              "0         0.0              0.0               0.0            0.0   \n",
              "1         0.0              0.0               0.0            0.0   \n",
              "\n",
              "   job_management  job_retired  job_self-employed  job_services  job_student  \\\n",
              "0             0.0          0.0                0.0           0.0          0.0   \n",
              "1             0.0          0.0                0.0           0.0          0.0   \n",
              "\n",
              "   job_technician  ...  poutcome_success  poutcome_unknown  age  balance  day  \\\n",
              "0             0.0  ...               0.0               0.0   40      580   16   \n",
              "1             0.0  ...               0.0               0.0   47     3644    9   \n",
              "\n",
              "   duration  campaign  pdays  previous  prediction  \n",
              "0       192         1     -1         0         yes  \n",
              "1        83         2     -1         0          no  \n",
              "\n",
              "[2 rows x 52 columns]"
            ],
            "text/html": [
              "\n",
              "  <div id=\"df-caee191b-d4aa-4d75-a4d5-d08f4dfc8c8c\" class=\"colab-df-container\">\n",
              "    <div>\n",
              "<style scoped>\n",
              "    .dataframe tbody tr th:only-of-type {\n",
              "        vertical-align: middle;\n",
              "    }\n",
              "\n",
              "    .dataframe tbody tr th {\n",
              "        vertical-align: top;\n",
              "    }\n",
              "\n",
              "    .dataframe thead th {\n",
              "        text-align: right;\n",
              "    }\n",
              "</style>\n",
              "<table border=\"1\" class=\"dataframe\">\n",
              "  <thead>\n",
              "    <tr style=\"text-align: right;\">\n",
              "      <th></th>\n",
              "      <th>job_admin.</th>\n",
              "      <th>job_blue-collar</th>\n",
              "      <th>job_entrepreneur</th>\n",
              "      <th>job_housemaid</th>\n",
              "      <th>job_management</th>\n",
              "      <th>job_retired</th>\n",
              "      <th>job_self-employed</th>\n",
              "      <th>job_services</th>\n",
              "      <th>job_student</th>\n",
              "      <th>job_technician</th>\n",
              "      <th>...</th>\n",
              "      <th>poutcome_success</th>\n",
              "      <th>poutcome_unknown</th>\n",
              "      <th>age</th>\n",
              "      <th>balance</th>\n",
              "      <th>day</th>\n",
              "      <th>duration</th>\n",
              "      <th>campaign</th>\n",
              "      <th>pdays</th>\n",
              "      <th>previous</th>\n",
              "      <th>prediction</th>\n",
              "    </tr>\n",
              "  </thead>\n",
              "  <tbody>\n",
              "    <tr>\n",
              "      <th>0</th>\n",
              "      <td>0.0</td>\n",
              "      <td>0.0</td>\n",
              "      <td>0.0</td>\n",
              "      <td>0.0</td>\n",
              "      <td>0.0</td>\n",
              "      <td>0.0</td>\n",
              "      <td>0.0</td>\n",
              "      <td>0.0</td>\n",
              "      <td>0.0</td>\n",
              "      <td>0.0</td>\n",
              "      <td>...</td>\n",
              "      <td>0.0</td>\n",
              "      <td>0.0</td>\n",
              "      <td>40</td>\n",
              "      <td>580</td>\n",
              "      <td>16</td>\n",
              "      <td>192</td>\n",
              "      <td>1</td>\n",
              "      <td>-1</td>\n",
              "      <td>0</td>\n",
              "      <td>yes</td>\n",
              "    </tr>\n",
              "    <tr>\n",
              "      <th>1</th>\n",
              "      <td>0.0</td>\n",
              "      <td>0.0</td>\n",
              "      <td>0.0</td>\n",
              "      <td>0.0</td>\n",
              "      <td>0.0</td>\n",
              "      <td>0.0</td>\n",
              "      <td>0.0</td>\n",
              "      <td>0.0</td>\n",
              "      <td>0.0</td>\n",
              "      <td>0.0</td>\n",
              "      <td>...</td>\n",
              "      <td>0.0</td>\n",
              "      <td>0.0</td>\n",
              "      <td>47</td>\n",
              "      <td>3644</td>\n",
              "      <td>9</td>\n",
              "      <td>83</td>\n",
              "      <td>2</td>\n",
              "      <td>-1</td>\n",
              "      <td>0</td>\n",
              "      <td>no</td>\n",
              "    </tr>\n",
              "  </tbody>\n",
              "</table>\n",
              "<p>2 rows × 52 columns</p>\n",
              "</div>\n",
              "    <div class=\"colab-df-buttons\">\n",
              "\n",
              "  <div class=\"colab-df-container\">\n",
              "    <button class=\"colab-df-convert\" onclick=\"convertToInteractive('df-caee191b-d4aa-4d75-a4d5-d08f4dfc8c8c')\"\n",
              "            title=\"Convert this dataframe to an interactive table.\"\n",
              "            style=\"display:none;\">\n",
              "\n",
              "  <svg xmlns=\"http://www.w3.org/2000/svg\" height=\"24px\" viewBox=\"0 -960 960 960\">\n",
              "    <path d=\"M120-120v-720h720v720H120Zm60-500h600v-160H180v160Zm220 220h160v-160H400v160Zm0 220h160v-160H400v160ZM180-400h160v-160H180v160Zm440 0h160v-160H620v160ZM180-180h160v-160H180v160Zm440 0h160v-160H620v160Z\"/>\n",
              "  </svg>\n",
              "    </button>\n",
              "\n",
              "  <style>\n",
              "    .colab-df-container {\n",
              "      display:flex;\n",
              "      gap: 12px;\n",
              "    }\n",
              "\n",
              "    .colab-df-convert {\n",
              "      background-color: #E8F0FE;\n",
              "      border: none;\n",
              "      border-radius: 50%;\n",
              "      cursor: pointer;\n",
              "      display: none;\n",
              "      fill: #1967D2;\n",
              "      height: 32px;\n",
              "      padding: 0 0 0 0;\n",
              "      width: 32px;\n",
              "    }\n",
              "\n",
              "    .colab-df-convert:hover {\n",
              "      background-color: #E2EBFA;\n",
              "      box-shadow: 0px 1px 2px rgba(60, 64, 67, 0.3), 0px 1px 3px 1px rgba(60, 64, 67, 0.15);\n",
              "      fill: #174EA6;\n",
              "    }\n",
              "\n",
              "    .colab-df-buttons div {\n",
              "      margin-bottom: 4px;\n",
              "    }\n",
              "\n",
              "    [theme=dark] .colab-df-convert {\n",
              "      background-color: #3B4455;\n",
              "      fill: #D2E3FC;\n",
              "    }\n",
              "\n",
              "    [theme=dark] .colab-df-convert:hover {\n",
              "      background-color: #434B5C;\n",
              "      box-shadow: 0px 1px 3px 1px rgba(0, 0, 0, 0.15);\n",
              "      filter: drop-shadow(0px 1px 2px rgba(0, 0, 0, 0.3));\n",
              "      fill: #FFFFFF;\n",
              "    }\n",
              "  </style>\n",
              "\n",
              "    <script>\n",
              "      const buttonEl =\n",
              "        document.querySelector('#df-caee191b-d4aa-4d75-a4d5-d08f4dfc8c8c button.colab-df-convert');\n",
              "      buttonEl.style.display =\n",
              "        google.colab.kernel.accessAllowed ? 'block' : 'none';\n",
              "\n",
              "      async function convertToInteractive(key) {\n",
              "        const element = document.querySelector('#df-caee191b-d4aa-4d75-a4d5-d08f4dfc8c8c');\n",
              "        const dataTable =\n",
              "          await google.colab.kernel.invokeFunction('convertToInteractive',\n",
              "                                                    [key], {});\n",
              "        if (!dataTable) return;\n",
              "\n",
              "        const docLinkHtml = 'Like what you see? Visit the ' +\n",
              "          '<a target=\"_blank\" href=https://colab.research.google.com/notebooks/data_table.ipynb>data table notebook</a>'\n",
              "          + ' to learn more about interactive tables.';\n",
              "        element.innerHTML = '';\n",
              "        dataTable['output_type'] = 'display_data';\n",
              "        await google.colab.output.renderOutput(dataTable, element);\n",
              "        const docLink = document.createElement('div');\n",
              "        docLink.innerHTML = docLinkHtml;\n",
              "        element.appendChild(docLink);\n",
              "      }\n",
              "    </script>\n",
              "  </div>\n",
              "\n",
              "\n",
              "<div id=\"df-39fda459-1088-42c8-a1b1-a1c41079f775\">\n",
              "  <button class=\"colab-df-quickchart\" onclick=\"quickchart('df-39fda459-1088-42c8-a1b1-a1c41079f775')\"\n",
              "            title=\"Suggest charts\"\n",
              "            style=\"display:none;\">\n",
              "\n",
              "<svg xmlns=\"http://www.w3.org/2000/svg\" height=\"24px\"viewBox=\"0 0 24 24\"\n",
              "     width=\"24px\">\n",
              "    <g>\n",
              "        <path d=\"M19 3H5c-1.1 0-2 .9-2 2v14c0 1.1.9 2 2 2h14c1.1 0 2-.9 2-2V5c0-1.1-.9-2-2-2zM9 17H7v-7h2v7zm4 0h-2V7h2v10zm4 0h-2v-4h2v4z\"/>\n",
              "    </g>\n",
              "</svg>\n",
              "  </button>\n",
              "\n",
              "<style>\n",
              "  .colab-df-quickchart {\n",
              "      --bg-color: #E8F0FE;\n",
              "      --fill-color: #1967D2;\n",
              "      --hover-bg-color: #E2EBFA;\n",
              "      --hover-fill-color: #174EA6;\n",
              "      --disabled-fill-color: #AAA;\n",
              "      --disabled-bg-color: #DDD;\n",
              "  }\n",
              "\n",
              "  [theme=dark] .colab-df-quickchart {\n",
              "      --bg-color: #3B4455;\n",
              "      --fill-color: #D2E3FC;\n",
              "      --hover-bg-color: #434B5C;\n",
              "      --hover-fill-color: #FFFFFF;\n",
              "      --disabled-bg-color: #3B4455;\n",
              "      --disabled-fill-color: #666;\n",
              "  }\n",
              "\n",
              "  .colab-df-quickchart {\n",
              "    background-color: var(--bg-color);\n",
              "    border: none;\n",
              "    border-radius: 50%;\n",
              "    cursor: pointer;\n",
              "    display: none;\n",
              "    fill: var(--fill-color);\n",
              "    height: 32px;\n",
              "    padding: 0;\n",
              "    width: 32px;\n",
              "  }\n",
              "\n",
              "  .colab-df-quickchart:hover {\n",
              "    background-color: var(--hover-bg-color);\n",
              "    box-shadow: 0 1px 2px rgba(60, 64, 67, 0.3), 0 1px 3px 1px rgba(60, 64, 67, 0.15);\n",
              "    fill: var(--button-hover-fill-color);\n",
              "  }\n",
              "\n",
              "  .colab-df-quickchart-complete:disabled,\n",
              "  .colab-df-quickchart-complete:disabled:hover {\n",
              "    background-color: var(--disabled-bg-color);\n",
              "    fill: var(--disabled-fill-color);\n",
              "    box-shadow: none;\n",
              "  }\n",
              "\n",
              "  .colab-df-spinner {\n",
              "    border: 2px solid var(--fill-color);\n",
              "    border-color: transparent;\n",
              "    border-bottom-color: var(--fill-color);\n",
              "    animation:\n",
              "      spin 1s steps(1) infinite;\n",
              "  }\n",
              "\n",
              "  @keyframes spin {\n",
              "    0% {\n",
              "      border-color: transparent;\n",
              "      border-bottom-color: var(--fill-color);\n",
              "      border-left-color: var(--fill-color);\n",
              "    }\n",
              "    20% {\n",
              "      border-color: transparent;\n",
              "      border-left-color: var(--fill-color);\n",
              "      border-top-color: var(--fill-color);\n",
              "    }\n",
              "    30% {\n",
              "      border-color: transparent;\n",
              "      border-left-color: var(--fill-color);\n",
              "      border-top-color: var(--fill-color);\n",
              "      border-right-color: var(--fill-color);\n",
              "    }\n",
              "    40% {\n",
              "      border-color: transparent;\n",
              "      border-right-color: var(--fill-color);\n",
              "      border-top-color: var(--fill-color);\n",
              "    }\n",
              "    60% {\n",
              "      border-color: transparent;\n",
              "      border-right-color: var(--fill-color);\n",
              "    }\n",
              "    80% {\n",
              "      border-color: transparent;\n",
              "      border-right-color: var(--fill-color);\n",
              "      border-bottom-color: var(--fill-color);\n",
              "    }\n",
              "    90% {\n",
              "      border-color: transparent;\n",
              "      border-bottom-color: var(--fill-color);\n",
              "    }\n",
              "  }\n",
              "</style>\n",
              "\n",
              "  <script>\n",
              "    async function quickchart(key) {\n",
              "      const quickchartButtonEl =\n",
              "        document.querySelector('#' + key + ' button');\n",
              "      quickchartButtonEl.disabled = true;  // To prevent multiple clicks.\n",
              "      quickchartButtonEl.classList.add('colab-df-spinner');\n",
              "      try {\n",
              "        const charts = await google.colab.kernel.invokeFunction(\n",
              "            'suggestCharts', [key], {});\n",
              "      } catch (error) {\n",
              "        console.error('Error during call to suggestCharts:', error);\n",
              "      }\n",
              "      quickchartButtonEl.classList.remove('colab-df-spinner');\n",
              "      quickchartButtonEl.classList.add('colab-df-quickchart-complete');\n",
              "    }\n",
              "    (() => {\n",
              "      let quickchartButtonEl =\n",
              "        document.querySelector('#df-39fda459-1088-42c8-a1b1-a1c41079f775 button');\n",
              "      quickchartButtonEl.style.display =\n",
              "        google.colab.kernel.accessAllowed ? 'block' : 'none';\n",
              "    })();\n",
              "  </script>\n",
              "</div>\n",
              "\n",
              "  <div id=\"id_83082940-64b8-4fc2-b19b-646519809ab5\">\n",
              "    <style>\n",
              "      .colab-df-generate {\n",
              "        background-color: #E8F0FE;\n",
              "        border: none;\n",
              "        border-radius: 50%;\n",
              "        cursor: pointer;\n",
              "        display: none;\n",
              "        fill: #1967D2;\n",
              "        height: 32px;\n",
              "        padding: 0 0 0 0;\n",
              "        width: 32px;\n",
              "      }\n",
              "\n",
              "      .colab-df-generate:hover {\n",
              "        background-color: #E2EBFA;\n",
              "        box-shadow: 0px 1px 2px rgba(60, 64, 67, 0.3), 0px 1px 3px 1px rgba(60, 64, 67, 0.15);\n",
              "        fill: #174EA6;\n",
              "      }\n",
              "\n",
              "      [theme=dark] .colab-df-generate {\n",
              "        background-color: #3B4455;\n",
              "        fill: #D2E3FC;\n",
              "      }\n",
              "\n",
              "      [theme=dark] .colab-df-generate:hover {\n",
              "        background-color: #434B5C;\n",
              "        box-shadow: 0px 1px 3px 1px rgba(0, 0, 0, 0.15);\n",
              "        filter: drop-shadow(0px 1px 2px rgba(0, 0, 0, 0.3));\n",
              "        fill: #FFFFFF;\n",
              "      }\n",
              "    </style>\n",
              "    <button class=\"colab-df-generate\" onclick=\"generateWithVariable('new_pred_dataframe')\"\n",
              "            title=\"Generate code using this dataframe.\"\n",
              "            style=\"display:none;\">\n",
              "\n",
              "  <svg xmlns=\"http://www.w3.org/2000/svg\" height=\"24px\"viewBox=\"0 0 24 24\"\n",
              "       width=\"24px\">\n",
              "    <path d=\"M7,19H8.4L18.45,9,17,7.55,7,17.6ZM5,21V16.75L18.45,3.32a2,2,0,0,1,2.83,0l1.4,1.43a1.91,1.91,0,0,1,.58,1.4,1.91,1.91,0,0,1-.58,1.4L9.25,21ZM18.45,9,17,7.55Zm-12,3A5.31,5.31,0,0,0,4.9,8.1,5.31,5.31,0,0,0,1,6.5,5.31,5.31,0,0,0,4.9,4.9,5.31,5.31,0,0,0,6.5,1,5.31,5.31,0,0,0,8.1,4.9,5.31,5.31,0,0,0,12,6.5,5.46,5.46,0,0,0,6.5,12Z\"/>\n",
              "  </svg>\n",
              "    </button>\n",
              "    <script>\n",
              "      (() => {\n",
              "      const buttonEl =\n",
              "        document.querySelector('#id_83082940-64b8-4fc2-b19b-646519809ab5 button.colab-df-generate');\n",
              "      buttonEl.style.display =\n",
              "        google.colab.kernel.accessAllowed ? 'block' : 'none';\n",
              "\n",
              "      buttonEl.onclick = () => {\n",
              "        google.colab.notebook.generateWithVariable('new_pred_dataframe');\n",
              "      }\n",
              "      })();\n",
              "    </script>\n",
              "  </div>\n",
              "\n",
              "    </div>\n",
              "  </div>\n"
            ],
            "application/vnd.google.colaboratory.intrinsic+json": {
              "type": "dataframe",
              "variable_name": "new_pred_dataframe"
            }
          },
          "metadata": {},
          "execution_count": 55
        }
      ],
      "source": [
        "# Read json file containing predictions made for the new data and load them into a dataframe\n",
        "with open('./new_preds.json', 'r') as f:\n",
        "    data = json.load(f)\n",
        "\n",
        "new_pred_dataframe= pd.DataFrame(data)\n",
        "\n",
        "#Print predictions for each observation contained in the new_data.json file and the dataframe with the data and prediction\n",
        "print(new_pred_dataframe['prediction'])\n",
        "new_pred_dataframe"
      ]
    },
    {
      "cell_type": "markdown",
      "metadata": {
        "id": "-lA9murZi9VV"
      },
      "source": [
        "Question 8: Create a new text cell in your Notebook: Complete a 50-100 word summary (or short description of your thinking in applying this week's learning to the solution) of your experience in this assignment. Include: What was your incoming experience with this model, if any? what steps you took, what obstacles you encountered. how you link this exercise to real-world, machine learning problem-solving. (What steps were missing? What else do you need to learn?) This summary allows your instructor to know how you are doing and allot points for your effort in thinking and planning, and making connections to real-world work."
      ]
    },
    {
      "cell_type": "markdown",
      "metadata": {
        "id": "Nbq-1iCWi9VV"
      },
      "source": [
        "# Q8.\n",
        "\n",
        "1. I have no experience with building pipelines or custom transformers. I saw in my 'research' that you can build some complex transformer models if necessary, with a lot of internal Python class logic. I have plenty of software and systems engineering experience though (even if it may not show in these labs) so imagining this as building a model and then having an API or queue serve a request and the model generating a response made most sense to me. 😅\n",
        "2. Obstacles encountered: When we encode the full model we get extra columns. When the data comes in, since it is a limited dataset of two new datapoints, we don't get the full index when we encode them. So the 'fit' will fail when we load our pipeline. This can be corrected by adding the missing columns to the incoming data prior to feeding it to the pipeline.\n",
        "3. This exercise is useful in understanding the pipeline (preprocessing) and transformers, as those are the basics of most ML, as well as saving and loading a pre-trained model! This is great for when you say, open a new session for a user and they want to interact with a fresh model. However as that model gets trained (as you'll probably capture input/output in your monitoring and use it to retrain the model), it'll degrade over time.\n",
        "4. It'd be good to learn how to 'retrain' models next, and then re-serve the same model. Migth be somewhat trivial as you add existing data to the full dataset, but there's probably other ways too.\n",
        "5. Thanks for the class! 😀"
      ]
    },
    {
      "cell_type": "code",
      "source": [
        "%%shell\n",
        "\n",
        "jupyter nbconvert --to html /content/Lab10.ipynb"
      ],
      "metadata": {
        "id": "1T-FCOoRjRcY"
      },
      "execution_count": null,
      "outputs": []
    }
  ],
  "metadata": {
    "kernelspec": {
      "display_name": "Python 3 (ipykernel)",
      "language": "python",
      "name": "python3"
    },
    "language_info": {
      "codemirror_mode": {
        "name": "ipython",
        "version": 3
      },
      "file_extension": ".py",
      "mimetype": "text/x-python",
      "name": "python",
      "nbconvert_exporter": "python",
      "pygments_lexer": "ipython3",
      "version": "3.9.7"
    },
    "colab": {
      "provenance": []
    }
  },
  "nbformat": 4,
  "nbformat_minor": 0
}