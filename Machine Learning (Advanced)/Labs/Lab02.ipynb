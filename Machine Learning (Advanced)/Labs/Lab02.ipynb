{
  "cells": [
    {
      "cell_type": "markdown",
      "metadata": {
        "id": "1zs0aWan5Py8"
      },
      "source": [
        "# Lesson 2 - Assignment\n",
        "\n",
        "In this assignment, you will implement a Decision Tree algorithm from scratch and compare the results to existing sklearn algorithm."
      ]
    },
    {
      "cell_type": "code",
      "execution_count": 52,
      "metadata": {
        "id": "pXfo0qmd5Py-"
      },
      "outputs": [],
      "source": [
        "# import packages\n",
        "%matplotlib inline\n",
        "import numpy as np\n",
        "import matplotlib.pyplot as plt\n",
        "import seaborn as sns\n",
        "import pandas as pd\n",
        "from matplotlib.legend_handler import HandlerLine2D\n",
        "from sklearn.metrics import accuracy_score\n",
        "from sklearn.metrics import confusion_matrix\n",
        "from sklearn.metrics import mean_squared_error\n",
        "from sklearn.metrics import mean_absolute_error\n",
        "from sklearn.tree import DecisionTreeClassifier\n",
        "from sklearn.tree import DecisionTreeRegressor\n",
        "from sklearn.model_selection import GridSearchCV\n",
        "\n",
        "# make this notebook's output stable across runs\n",
        "np.random.seed(0)"
      ]
    },
    {
      "cell_type": "markdown",
      "metadata": {
        "id": "JqHYOl575PzA"
      },
      "source": [
        "Question 1.1: Implement the functions to calculate Gini Index."
      ]
    },
    {
      "cell_type": "code",
      "execution_count": 53,
      "metadata": {
        "id": "0rwr9QsM5PzA"
      },
      "outputs": [],
      "source": [
        "# Calculate the Gini index for a split dataset\n",
        "# This question is kind of confusing from a datastructures perspective\n",
        "# The split point contains all the groups\n",
        "# 1 - p1^2 - p2^2\n",
        "def gini_index(groups, classes):\n",
        "    # count all samples at split point\n",
        "    samples = float(sum([len(group) for group in groups]))\n",
        "    # sum weighted Gini index for each group\n",
        "    gini = 0.0\n",
        "    for group in groups:\n",
        "        size = float(len(group))\n",
        "        # avoid divide by zero\n",
        "        if size == 0:\n",
        "            continue\n",
        "        score = 0.0\n",
        "        # score the group based on the score for each class\n",
        "        for class_val in classes:\n",
        "            p = [row[-1] for row in group].count(class_val) / size # calculate p\n",
        "            score += p * p\n",
        "        # weight the group score by its relative size\n",
        "        gini += (1.0 - score) * (size / samples)\n",
        "    return gini"
      ]
    },
    {
      "cell_type": "markdown",
      "metadata": {
        "id": "2J0GgEKS5PzB"
      },
      "source": [
        "Question 2.1: Write a method that splits the"
      ]
    },
    {
      "cell_type": "code",
      "execution_count": 54,
      "metadata": {
        "id": "Ev0rP8Lw5PzB"
      },
      "outputs": [],
      "source": [
        "# Split a dataset based on an attribute and an attribute value\n",
        "def test_split(index, value, dataset):\n",
        "    left, right = list(), list()\n",
        "    \"\"\"\n",
        "    This function loops over each row and checks if the row belongs to the right or left list.\n",
        "    Since we are using floats we just compare the values.\n",
        "    \"\"\"\n",
        "    for row in dataset:\n",
        "        if row[index] < value:\n",
        "            left.append(row)\n",
        "        else:\n",
        "            right.append(row)\n",
        "    return left, right"
      ]
    },
    {
      "cell_type": "markdown",
      "metadata": {
        "id": "7N85tsvF5PzB"
      },
      "source": [
        "Question 2.2: Write a method that loops over the dataset, determine the groups of rows that belong to the right or left split, and calculates the gini_index"
      ]
    },
    {
      "cell_type": "code",
      "execution_count": 55,
      "metadata": {
        "id": "xs533CyY5PzB"
      },
      "outputs": [],
      "source": [
        "def get_split(dataset):\n",
        "    \"Select the best split point for a dataset - Greedy\"\n",
        "    class_values = list(set(row[-1] for row in dataset))\n",
        "    b_index, b_value, b_score, b_groups = 999, 999, 999, None\n",
        "    for index in range(len(dataset[0])-1):\n",
        "        for row in dataset:\n",
        "            groups = test_split(index, row[index], dataset)\n",
        "            gini = gini_index(groups, class_values)\n",
        "            if gini < b_score:\n",
        "                b_index, b_value, b_score, b_groups = index, row[index], gini, groups\n",
        "    return {'index':b_index, 'value':b_value, 'groups':b_groups}"
      ]
    },
    {
      "cell_type": "markdown",
      "metadata": {
        "id": "T_mMG3kZ5PzC"
      },
      "source": [
        "Question 2.3: Repeat question 2.2 using entropy"
      ]
    },
    {
      "cell_type": "code",
      "execution_count": 56,
      "metadata": {
        "id": "Hv7zhuTl5PzC"
      },
      "outputs": [],
      "source": [
        "import scipy\n",
        "from scipy.stats import entropy\n",
        "\n",
        "def get_split_entropy(dataset):\n",
        "    \"Select the best split point for a dataset\"\n",
        "    class_values = list(set(row[-1] for row in dataset))\n",
        "    b_index, b_value, b_score, b_groups = 999, 999, 999, None\n",
        "    for index in range(len(dataset[0])-1):\n",
        "        for row in dataset:\n",
        "            groups = test_split(index, row[index], dataset)\n",
        "            entropy = entropy(row[index])\n",
        "            if entropy < b_score:\n",
        "                b_index, b_value, b_score, b_groups = index, row[index], gini, groups\n",
        "    return {'index':b_index, 'value':b_value, 'groups':b_groups}"
      ]
    },
    {
      "cell_type": "markdown",
      "metadata": {
        "id": "RfCC86Zd5PzD"
      },
      "source": [
        "Question 3.1: Write a method that takes in a group of rows and determines the class they belongs to. It should return the most common output value for a list of rows."
      ]
    },
    {
      "cell_type": "code",
      "execution_count": 57,
      "metadata": {
        "id": "OhGIp_mU5PzD"
      },
      "outputs": [],
      "source": [
        "def to_terminal(group):\n",
        "    \"determine the most commong output within each group\"\n",
        "    outcomes = [row[-1] for row in group]\n",
        "    return max(set(outcomes), key=outcomes.count)"
      ]
    },
    {
      "cell_type": "markdown",
      "metadata": {
        "id": "T3fl6GYq5PzD"
      },
      "source": [
        "Question 3.2: Write a method that recursively split the data.\n",
        "The method takes in a node, max_depth, min_size, and depth. Initially, the method would be called by passing the rood node and depth of 1. Here are the steps to help you implement:\n",
        "\n",
        "- First, we create two groups for the data split and delete any existing groups from the node. As rows are used, they are no longer needed.\n",
        "- Second, check if rows should be in left or right group, and if so we create a terminal node using the records we have.\n",
        "- Third, check if maximum depth is reached and if so we create a terminal node.\n",
        "- Fourth, process left child, creating a terminal node if the group of rows is too small, otherwise creating and adding the left node in a depth first fashion until the bottom of the tree is reached on this branch.\n",
        "- Fifth, process the right side in a similar manner as left side, as we rise back up the constructed tree to the root."
      ]
    },
    {
      "cell_type": "code",
      "execution_count": 58,
      "metadata": {
        "id": "0Th07BRg5PzD"
      },
      "outputs": [],
      "source": [
        "# Create child splits for a node or make terminal\n",
        "# Since this is recursive we do not return any value\n",
        "def split(node, max_depth, min_size, depth):\n",
        "    left, right = node['groups']\n",
        "    del(node['groups'])\n",
        "    # check for a no split\n",
        "    # base case #1\n",
        "    if not left or not right:\n",
        "        node['left'] = node['right'] = to_terminal(left + right)\n",
        "        return\n",
        "    # check for max depth\n",
        "    # base case #2\n",
        "    if depth >= max_depth:\n",
        "        node['left'], node['right'] = to_terminal(left), to_terminal(right)\n",
        "        return\n",
        "    # process left child\n",
        "    if len(left) <= min_size:\n",
        "        node['left'] = to_terminal(left)\n",
        "    else:\n",
        "        node['left'] = get_split(left)\n",
        "        split(node['left'], max_depth, min_size, depth+1)\n",
        "    # process right child\n",
        "    if len(right) <= min_size:\n",
        "        node['right'] = to_terminal(right)\n",
        "    else:\n",
        "        node['right'] = get_split(right)\n",
        "        split(node['right'], max_depth, min_size, depth+1)"
      ]
    },
    {
      "cell_type": "markdown",
      "metadata": {
        "id": "8Yfx8nyq5PzE"
      },
      "source": [
        "Question 3.3: Write a method that builds the tree. The method creates an initial split to determine root node, and then calls the split method."
      ]
    },
    {
      "cell_type": "code",
      "execution_count": 59,
      "metadata": {
        "id": "44Yy6lf25PzE"
      },
      "outputs": [],
      "source": [
        "# Build a decision tree\n",
        "def build_tree(train, max_depth, min_size):\n",
        "    \"get the first split, and then split starting fromt the root\"\n",
        "    root = get_split(train)\n",
        "    split(root, max_depth, min_size, 1)\n",
        "    return root"
      ]
    },
    {
      "cell_type": "markdown",
      "metadata": {
        "id": "Po7FMgIp5PzE"
      },
      "source": [
        "Question 3.4: Write a method that takes in a node and rows of data, and predicts the class associated with each row."
      ]
    },
    {
      "cell_type": "code",
      "execution_count": 60,
      "metadata": {
        "id": "V_USTgRv5PzE"
      },
      "outputs": [],
      "source": [
        "# Make a prediction with a decision tree\n",
        "def predict(node, row):\n",
        "    # check if a row belongs to a node and recursively traverse the tree if the row doesn't.\n",
        "    if row[node['index']] < node['value']:\n",
        "        if isinstance(node['left'], dict): # check instance type, recurse\n",
        "            return predict(node['left'], row)\n",
        "        else:\n",
        "            return node['left']\n",
        "    else:\n",
        "        if isinstance(node['right'], dict): # check instance type, recurse\n",
        "            return predict(node['right'], row)\n",
        "        else:\n",
        "            return node['right']"
      ]
    },
    {
      "cell_type": "markdown",
      "metadata": {
        "id": "qEG5gHJB5PzE"
      },
      "source": [
        "Question 4: Train a decision tree using the banknote_authentication data"
      ]
    },
    {
      "cell_type": "markdown",
      "source": [
        "# Notes\n",
        "\n",
        "Originally I had tried to convert the csv manually into a dataframe and append each row via the reader. This resulted in some strange behavior later on when evaluating the DT algorithm. So I switched to just manually using the lists and performing split operaitons on them and the data."
      ],
      "metadata": {
        "id": "X_QVnvoQt4nN"
      }
    },
    {
      "cell_type": "code",
      "execution_count": 61,
      "metadata": {
        "id": "iKGigDE55PzE"
      },
      "outputs": [],
      "source": [
        "from random import seed\n",
        "from random import randrange\n",
        "from csv import reader\n",
        "from sklearn.metrics import accuracy_score\n",
        "\n",
        "def load_csv(filename):\n",
        "    file = open(filename, 'rt')\n",
        "    lines = reader(file)\n",
        "    dataset = list(lines)\n",
        "    return dataset\n",
        "\n",
        "# Convert string column to float or integer\n",
        "def str_column_to_float(dataset, column):\n",
        "   for row in dataset:\n",
        "      row[column] = float(row[column].strip())\n",
        "\n",
        "filename = 'data_banknote_authentication.csv'\n",
        "dataset = load_csv(filename)\n",
        "\n",
        "# convert string attributes to integers\n",
        "# I think they want floats. Integersj will lose specificity.\n",
        "# Int only applies for the \"target\"/class\n",
        "for i in range(len(dataset[0])):\n",
        "    str_column_to_float(dataset, i)\n",
        "\n",
        "train = dataset[1:int(len(dataset)*2/3)]\n",
        "test = dataset[int(len(dataset)*2/3)+1:len(dataset)]"
      ]
    },
    {
      "cell_type": "code",
      "execution_count": 62,
      "metadata": {
        "id": "RjsmYPyd5PzF",
        "colab": {
          "base_uri": "https://localhost:8080/"
        },
        "outputId": "59e9645e-f7c7-4845-f1bb-06ddc376816c"
      },
      "outputs": [
        {
          "output_type": "stream",
          "name": "stdout",
          "text": [
            "[1.0, 1.0, 0.0, 1.0, 1.0, 1.0, 1.0, 1.0, 1.0, 0.0, 0.0, 0.0, 1.0, 1.0, 1.0, 1.0, 1.0, 0.0, 0.0, 1.0, 1.0, 1.0, 1.0, 1.0, 1.0, 1.0, 1.0, 1.0, 1.0, 1.0, 1.0, 1.0, 1.0, 1.0, 1.0, 1.0, 1.0, 1.0, 1.0, 1.0, 1.0, 1.0, 1.0, 1.0, 1.0, 1.0, 1.0, 1.0, 1.0, 1.0, 1.0, 1.0, 1.0, 1.0, 1.0, 1.0, 1.0, 0.0, 1.0, 1.0, 1.0, 1.0, 1.0, 0.0, 1.0, 1.0, 1.0, 1.0, 1.0, 1.0, 1.0, 1.0, 1.0, 1.0, 1.0, 1.0, 1.0, 1.0, 1.0, 1.0, 1.0, 1.0, 1.0, 1.0, 1.0, 1.0, 0.0, 1.0, 1.0, 1.0, 1.0, 1.0, 1.0, 1.0, 1.0, 1.0, 1.0, 1.0, 1.0, 1.0, 1.0, 1.0, 1.0, 1.0, 1.0, 1.0, 1.0, 1.0, 1.0, 1.0, 1.0, 1.0, 1.0, 1.0, 1.0, 1.0, 1.0, 1.0, 0.0, 1.0, 1.0, 1.0, 1.0, 1.0, 0.0, 1.0, 1.0, 1.0, 1.0, 1.0, 1.0, 1.0, 0.0, 1.0, 1.0, 1.0, 1.0, 1.0, 1.0, 1.0, 1.0, 1.0, 1.0, 1.0, 1.0, 1.0, 1.0, 1.0, 1.0, 1.0, 1.0, 1.0, 1.0, 1.0, 1.0, 1.0, 1.0, 1.0, 1.0, 1.0, 1.0, 1.0, 1.0, 1.0, 1.0, 0.0, 1.0, 1.0, 1.0, 1.0, 1.0, 1.0, 1.0, 1.0, 1.0, 1.0, 1.0, 1.0, 0.0, 0.0, 1.0, 1.0, 1.0, 1.0, 1.0, 0.0, 1.0, 1.0, 1.0, 1.0, 1.0, 1.0, 0.0, 0.0, 1.0, 1.0, 1.0, 1.0, 1.0, 1.0, 1.0, 1.0, 1.0, 1.0, 1.0, 1.0, 1.0, 1.0, 1.0, 1.0, 1.0, 1.0, 1.0, 1.0, 1.0, 1.0, 1.0, 1.0, 1.0, 1.0, 1.0, 1.0, 1.0, 1.0, 1.0, 1.0, 1.0, 1.0, 1.0, 1.0, 1.0, 1.0, 1.0, 1.0, 1.0, 1.0, 1.0, 1.0, 1.0, 1.0, 0.0, 1.0, 1.0, 1.0, 1.0, 1.0, 0.0, 1.0, 1.0, 1.0, 1.0, 1.0, 1.0, 1.0, 1.0, 1.0, 1.0, 1.0, 1.0, 1.0, 1.0, 1.0, 1.0, 1.0, 1.0, 1.0, 1.0, 1.0, 1.0, 1.0, 1.0, 1.0, 1.0, 1.0, 1.0, 1.0, 1.0, 1.0, 1.0, 1.0, 1.0, 1.0, 1.0, 1.0, 1.0, 1.0, 1.0, 1.0, 1.0, 1.0, 1.0, 1.0, 1.0, 1.0, 1.0, 1.0, 1.0, 1.0, 1.0, 1.0, 1.0, 1.0, 1.0, 1.0, 1.0, 1.0, 1.0, 1.0, 1.0, 1.0, 1.0, 1.0, 1.0, 1.0, 0.0, 1.0, 1.0, 1.0, 1.0, 1.0, 1.0, 1.0, 1.0, 1.0, 1.0, 1.0, 1.0, 1.0, 1.0, 1.0, 1.0, 0.0, 1.0, 1.0, 1.0, 1.0, 1.0, 1.0, 1.0, 1.0, 1.0, 1.0, 1.0, 1.0, 1.0, 1.0, 1.0, 1.0, 1.0, 1.0, 1.0, 1.0, 1.0, 1.0, 1.0, 1.0, 1.0, 1.0, 1.0, 1.0, 1.0, 1.0, 1.0, 1.0, 1.0, 1.0, 1.0, 1.0, 1.0, 1.0, 1.0, 1.0, 1.0, 1.0, 1.0, 0.0, 0.0, 1.0, 1.0, 1.0, 1.0, 1.0, 1.0, 1.0, 1.0, 1.0, 1.0, 1.0, 1.0, 1.0, 1.0, 1.0, 1.0, 1.0, 1.0, 1.0, 1.0, 1.0, 1.0, 1.0, 1.0, 1.0, 1.0, 1.0, 0.0, 1.0, 1.0, 1.0, 1.0, 0.0, 1.0, 1.0, 0.0, 1.0, 1.0, 1.0, 1.0, 1.0, 1.0, 1.0, 1.0, 1.0, 0.0, 0.0, 1.0, 1.0, 1.0, 1.0, 1.0, 0.0, 1.0, 1.0, 1.0, 1.0, 1.0, 1.0, 0.0, 0.0, 0.0, 1.0, 1.0, 1.0, 1.0, 1.0, 0.0, 0.0, 1.0, 1.0, 1.0, 1.0, 1.0, 1.0, 0.0, 1.0, 1.0, 1.0, 1.0]\n",
            "Accuracy: 0.9212253829321663\n"
          ]
        }
      ],
      "source": [
        "#Build a tree and evalute accuracy\n",
        "tree = build_tree(train, 5, 10) # max_depth, min_size can be set to whatever values, I think 5 is plenty\n",
        "predictions = list()\n",
        "for row in test:\n",
        "    prediction = predict(tree, row)\n",
        "    predictions.append(prediction)\n",
        "print(predictions)\n",
        "print('Accuracy: %s' % accuracy_score([row[-1] for row in test], predictions))"
      ]
    },
    {
      "cell_type": "markdown",
      "metadata": {
        "id": "vZCi3Ph75PzG"
      },
      "source": [
        "Question 5: Train and evaluate an SKLEARN decision tree model, and compare the results to your model"
      ]
    },
    {
      "cell_type": "code",
      "execution_count": 63,
      "metadata": {
        "id": "KtZIsUAu5PzG",
        "colab": {
          "base_uri": "https://localhost:8080/",
          "height": 528
        },
        "outputId": "0bec9d18-2928-456a-9017-f4e138b8dee5"
      },
      "outputs": [
        {
          "output_type": "stream",
          "name": "stdout",
          "text": [
            "   variance  skewness  curtosis  entropy  class\n",
            "0  -3.56370   -8.3827  12.39300 -1.28230      1\n",
            "1  -3.75030  -13.4586  17.59320 -2.77710      1\n",
            "2  -1.38870   -4.8773   6.47740  0.34179      1\n",
            "3   0.40614    1.3492  -1.45010 -0.55949      1\n",
            "4  -2.41000    3.7433  -0.40215 -1.29530      1\n",
            "Accuracy: 0.9878345498783455\n"
          ]
        },
        {
          "output_type": "display_data",
          "data": {
            "text/plain": [
              "<Figure size 640x480 with 1 Axes>"
            ],
            "image/png": "[encoded data removed]"
          },
          "metadata": {}
        }
      ],
      "source": [
        "from sklearn.tree import DecisionTreeClassifier\n",
        "from sklearn.model_selection import train_test_split\n",
        "\n",
        "# Load a CSV file into a dataframe\n",
        "# For question #5\n",
        "def load_csv_dataframe(filename):\n",
        "    file = filename\n",
        "    with open(filename, newline='') as csvfile:\n",
        "      csvreader = reader(csvfile, delimiter=',')\n",
        "      df = pd.DataFrame()\n",
        "      for row in csvreader:\n",
        "        df = pd.concat([pd.DataFrame([row]), df], ignore_index=True)\n",
        "    return df\n",
        "\n",
        "def str_column_to_Float_dataframe(dataframe, column):\n",
        "     dataframe[column] = dataframe[column].apply(pd.to_numeric)\n",
        "\n",
        "dataframe = load_csv_dataframe(filename)\n",
        "\n",
        "# convert string attributes to integers\n",
        "# I think they want floats or integers here. Floats will lose specificity.\n",
        "# Int only applies for the \"target\"/class\n",
        "for i in range(len(dataframe.columns)):\n",
        "    str_column_to_Float_dataframe(dataframe, i)\n",
        "\n",
        "# Give the dataframe some column names\n",
        "dataframe.columns = ['variance', 'skewness', 'curtosis', 'entropy', 'class']\n",
        "\n",
        "df_train = dataframe[1:int(len(dataframe)*2/3)]\n",
        "df_test = dataframe[int(len(dataframe)*2/3)+1:len(dataframe)]\n",
        "\n",
        "df = pd.concat([df_train, df_test], ignore_index=True) # Just use the full dataframe\n",
        "print(df.head()) # Just checking the index didn't get clobbered\n",
        "X = df.iloc[:, :-1]\n",
        "y = df.iloc[:, -1]\n",
        "X_train, X_test, y_train, y_test = train_test_split(X, y, test_size=0.3, random_state=42)\n",
        "dt_clf = DecisionTreeClassifier()\n",
        "dt_clf.fit(X_train, y_train)\n",
        "predictions = dt_clf.predict(X_test)\n",
        "predictions\n",
        "\n",
        "print('Accuracy: %s' % accuracy_score(y_test, predictions))\n",
        "\n",
        "# Might as well visualize it\n",
        "# unfortunately we don't have great names for the columns by default so add them above!\n",
        "from sklearn import tree\n",
        "tree.plot_tree(dt_clf, feature_names=['variance', 'skewness', 'curtosis', 'entropy'], class_names=['0', '1'], filled=True)\n",
        "plt.show()"
      ]
    },
    {
      "cell_type": "markdown",
      "source": [
        "# Quick Analysis\n",
        "\n",
        "1. The sklearn method appears to be more accurate.\n",
        "2. The sklearn model seems to have a depth of 9 and a max (valued) number of leaves at depth 5 and 6 (10 nodes each), but could potentially be much wider at those and lower depths. Perhaps more pruning would be necessary, and perhaps this tree is more 'fit' than the manual model?\n",
        "3. Likely sklearn model is slower. A lot of manual methodologies that I researched during this lab (even entropy) had various optimizations that could be done outside of using the baked libs/packages."
      ],
      "metadata": {
        "id": "NfDGcP1P4HWO"
      }
    },
    {
      "cell_type": "markdown",
      "metadata": {
        "id": "I2egbroz5PzG"
      },
      "source": [
        "Question 6: Create a new text cell in your Notebook: Complete a 50-100 word summary (or short description of your thinking in applying this week's learning to the solution) of your experience in this assignment. Include: What was your incoming experience with this model, if any? what steps you took, what obstacles you encountered. how you link this exercise to real-world, machine learning problem-solving. (What steps were missing? What else do you need to learn?) This summary allows your instructor to know how you are doing and allot points for your effort in thinking and planning, and making connections to real-world work."
      ]
    },
    {
      "cell_type": "markdown",
      "source": [
        "# Q.6\n",
        "\n",
        "1. I actually have some incoming experience (as I would imagine anyone who works in a computer oriented field would) given that decision trees are applicable to regular everyday occurrences and usage in computer science.\n",
        "2. The steps I took were actually working in reverse - starting with question 4 and working backwards through the methods. I found that once I had the dataset configured properly I was able to work through the other methods easier since I could 'test' so to speak. Not true testing, but just looking at data.\n",
        "3. I encountered a lot of obstacles in doing the calculations. I could use context clues for the recursive methodology and online resources for additional insight. However the gini and entropy calculations based on what we had eluded me until I figured out the data structure in the Ed discussion.\n",
        "4. I had to learn some new libraries and figure a way to convert the manual dataset into a dataframe. Luckily I had started on this process first prior to doing it the manual way, and just reconfigured my work to fit the prompts.\n",
        "5. Linking it to the real world - there's plenty of use cases for decision trees. Self driving cars, disease/healthcare prediction, cybersecurity, human behaviors..."
      ],
      "metadata": {
        "id": "4EvYPFjT24Fa"
      }
    },
    {
      "cell_type": "code",
      "execution_count": 64,
      "metadata": {
        "id": "GlnDQdhN5PzG",
        "colab": {
          "base_uri": "https://localhost:8080/"
        },
        "outputId": "3a4ab885-bdc1-4380-e589-a14ec3d2d7bb"
      },
      "outputs": [
        {
          "output_type": "stream",
          "name": "stdout",
          "text": [
            "[NbConvertApp] Converting notebook /content/Lab02.ipynb to html\n",
            "[NbConvertApp] Writing 697771 bytes to /content/Lab02.html\n"
          ]
        },
        {
          "output_type": "execute_result",
          "data": {
            "text/plain": []
          },
          "metadata": {},
          "execution_count": 64
        }
      ],
      "source": [
        "%%shell\n",
        "jupyter nbconvert --to html /content/Lab02.ipynb"
      ]
    }
  ],
  "metadata": {
    "kernelspec": {
      "display_name": "Python 3",
      "language": "python",
      "name": "python3"
    },
    "language_info": {
      "codemirror_mode": {
        "name": "ipython",
        "version": 3
      },
      "file_extension": ".py",
      "mimetype": "text/x-python",
      "name": "python",
      "nbconvert_exporter": "python",
      "pygments_lexer": "ipython3",
      "version": "3.7.3"
    },
    "colab": {
      "provenance": []
    }
  },
  "nbformat": 4,
  "nbformat_minor": 0
}